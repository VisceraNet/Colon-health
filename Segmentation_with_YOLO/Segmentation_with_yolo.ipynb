{
 "cells": [
  {
   "cell_type": "code",
   "execution_count": 1,
   "id": "e6292499",
   "metadata": {},
   "outputs": [
    {
     "name": "stdout",
     "output_type": "stream",
     "text": [
      "Downloading https://github.com/ultralytics/assets/releases/download/v8.3.0/yolo11n-seg.pt to 'yolo11n-seg.pt'...\n"
     ]
    },
    {
     "name": "stderr",
     "output_type": "stream",
     "text": [
      "100%|██████████| 5.90M/5.90M [00:00<00:00, 8.71MB/s]\n"
     ]
    }
   ],
   "source": [
    "from ultralytics import YOLO\n",
    "model = YOLO(\"yolo11n-seg.pt\")  # Load a pretrained model"
   ]
  },
  {
   "cell_type": "code",
   "execution_count": 15,
   "id": "214d6d33",
   "metadata": {},
   "outputs": [
    {
     "name": "stdout",
     "output_type": "stream",
     "text": [
      "Total images: 1000 -> train: 800, val: 200\n",
      "Processing train split...\n",
      "Processing val split...\n",
      "Wrote D:\\Project\\segmented-images\\prepared\\annotations\\instances_train.json (800 images, 850 annotations)\n",
      "Wrote D:\\Project\\segmented-images\\prepared\\annotations\\instances_val.json (200 images, 213 annotations)\n",
      "Wrote data.yaml to D:\\Project\\segmented-images\\prepared\\data.yaml\n",
      "Saved 16 visualizations to D:\\Project\\segmented-images\\prepared\\visual_check\n",
      "All done.\n",
      "Dataset saved to: D:\\Project\\segmented-images\\prepared\n",
      "Structure example:\n",
      "  D:\\Project\\segmented-images\\prepared/images/train  (images)\n",
      "  D:\\Project\\segmented-images\\prepared/images/val\n",
      "  D:\\Project\\segmented-images\\prepared/masks/train   (png masks)\n",
      "  D:\\Project\\segmented-images\\prepared/masks/val\n",
      "  D:\\Project\\segmented-images\\prepared/labels/train  (yolo polygon .txt files)\n",
      "  D:\\Project\\segmented-images\\prepared/labels/val\n",
      "  D:\\Project\\segmented-images\\prepared/annotations  (COCO jsons)\n",
      "  D:\\Project\\segmented-images\\prepared/data.yaml\n"
     ]
    }
   ],
   "source": [
    "# Prepare dataset for YOLO segmentation training\n",
    "!python prepare_yolo_segmentation_with_split.py --images \"D:\\Project\\segmented-images\\images\" --masks \"D:\\Project\\segmented-images\\masks\" --out_dir \"D:\\Project\\segmented-images\\prepared\" --val_size 0.2 --size 640"
   ]
  },
  {
   "cell_type": "code",
   "execution_count": 2,
   "id": "540cf2f9",
   "metadata": {},
   "outputs": [
    {
     "name": "stdout",
     "output_type": "stream",
     "text": [
      "New https://pypi.org/project/ultralytics/8.3.199 available  Update with 'pip install -U ultralytics'\n"
     ]
    },
    {
     "name": "stderr",
     "output_type": "stream",
     "text": [
      "<>:2: SyntaxWarning: invalid escape sequence '\\P'\n",
      "<>:2: SyntaxWarning: invalid escape sequence '\\P'\n",
      "C:\\Users\\ADMIN\\AppData\\Local\\Temp\\ipykernel_18512\\4150719952.py:2: SyntaxWarning: invalid escape sequence '\\P'\n",
      "  data=\"D:\\Project\\segmented-images\\prepared\\data.yaml\",\n"
     ]
    },
    {
     "name": "stdout",
     "output_type": "stream",
     "text": [
      "Ultralytics 8.3.170  Python-3.12.11 torch-2.9.0.dev20250729+cu129 CUDA:0 (NVIDIA GeForce RTX 4080 SUPER, 16376MiB)\n",
      "\u001b[34m\u001b[1mengine\\trainer: \u001b[0magnostic_nms=False, amp=True, augment=False, auto_augment=randaugment, batch=16, bgr=0.0, box=7.5, cache=False, cfg=None, classes=None, close_mosaic=10, cls=0.5, conf=None, copy_paste=0.0, copy_paste_mode=flip, cos_lr=False, cutmix=0.0, data=D:\\Project\\segmented-images\\prepared\\data.yaml, degrees=0.0, deterministic=True, device=None, dfl=1.5, dnn=False, dropout=0.0, dynamic=False, embed=None, epochs=150, erasing=0.4, exist_ok=False, fliplr=0.5, flipud=0.0, format=torchscript, fraction=1.0, freeze=None, half=False, hsv_h=0.015, hsv_s=0.7, hsv_v=0.4, imgsz=640, int8=False, iou=0.7, keras=False, kobj=1.0, line_width=None, lr0=0.01, lrf=0.01, mask_ratio=4, max_det=300, mixup=0.0, mode=train, model=yolo11n-seg.pt, momentum=0.937, mosaic=1.0, multi_scale=False, name=train, nbs=64, nms=False, opset=None, optimize=False, optimizer=auto, overlap_mask=True, patience=30, perspective=0.0, plots=True, pose=12.0, pretrained=True, profile=False, project=None, rect=False, resume=False, retina_masks=False, save=True, save_conf=False, save_crop=False, save_dir=runs\\segment\\train, save_frames=False, save_json=False, save_period=-1, save_txt=False, scale=0.5, seed=0, shear=0.0, show=False, show_boxes=True, show_conf=True, show_labels=True, simplify=True, single_cls=False, source=None, split=val, stream_buffer=False, task=segment, time=None, tracker=botsort.yaml, translate=0.1, val=True, verbose=True, vid_stride=1, visualize=False, warmup_bias_lr=0.1, warmup_epochs=3.0, warmup_momentum=0.8, weight_decay=0.0005, workers=8, workspace=None\n",
      "Overriding model.yaml nc=80 with nc=1\n",
      "\n",
      "                   from  n    params  module                                       arguments                     \n",
      "  0                  -1  1       464  ultralytics.nn.modules.conv.Conv             [3, 16, 3, 2]                 \n",
      "  1                  -1  1      4672  ultralytics.nn.modules.conv.Conv             [16, 32, 3, 2]                \n",
      "  2                  -1  1      6640  ultralytics.nn.modules.block.C3k2            [32, 64, 1, False, 0.25]      \n",
      "  3                  -1  1     36992  ultralytics.nn.modules.conv.Conv             [64, 64, 3, 2]                \n",
      "  4                  -1  1     26080  ultralytics.nn.modules.block.C3k2            [64, 128, 1, False, 0.25]     \n",
      "  5                  -1  1    147712  ultralytics.nn.modules.conv.Conv             [128, 128, 3, 2]              \n",
      "  6                  -1  1     87040  ultralytics.nn.modules.block.C3k2            [128, 128, 1, True]           \n",
      "  7                  -1  1    295424  ultralytics.nn.modules.conv.Conv             [128, 256, 3, 2]              \n",
      "  8                  -1  1    346112  ultralytics.nn.modules.block.C3k2            [256, 256, 1, True]           \n",
      "  9                  -1  1    164608  ultralytics.nn.modules.block.SPPF            [256, 256, 5]                 \n",
      " 10                  -1  1    249728  ultralytics.nn.modules.block.C2PSA           [256, 256, 1]                 \n",
      " 11                  -1  1         0  torch.nn.modules.upsampling.Upsample         [None, 2, 'nearest']          \n",
      " 12             [-1, 6]  1         0  ultralytics.nn.modules.conv.Concat           [1]                           \n",
      " 13                  -1  1    111296  ultralytics.nn.modules.block.C3k2            [384, 128, 1, False]          \n",
      " 14                  -1  1         0  torch.nn.modules.upsampling.Upsample         [None, 2, 'nearest']          \n",
      " 15             [-1, 4]  1         0  ultralytics.nn.modules.conv.Concat           [1]                           \n",
      " 16                  -1  1     32096  ultralytics.nn.modules.block.C3k2            [256, 64, 1, False]           \n",
      " 17                  -1  1     36992  ultralytics.nn.modules.conv.Conv             [64, 64, 3, 2]                \n",
      " 18            [-1, 13]  1         0  ultralytics.nn.modules.conv.Concat           [1]                           \n",
      " 19                  -1  1     86720  ultralytics.nn.modules.block.C3k2            [192, 128, 1, False]          \n",
      " 20                  -1  1    147712  ultralytics.nn.modules.conv.Conv             [128, 128, 3, 2]              \n",
      " 21            [-1, 10]  1         0  ultralytics.nn.modules.conv.Concat           [1]                           \n",
      " 22                  -1  1    378880  ultralytics.nn.modules.block.C3k2            [384, 256, 1, True]           \n",
      " 23        [16, 19, 22]  1    683635  ultralytics.nn.modules.head.Segment          [1, 32, 64, [64, 128, 256]]   \n",
      "YOLO11n-seg summary: 203 layers, 2,842,803 parameters, 2,842,787 gradients, 10.4 GFLOPs\n",
      "\n",
      "Transferred 510/561 items from pretrained weights\n",
      "Freezing layer 'model.23.dfl.conv.weight'\n",
      "\u001b[34m\u001b[1mAMP: \u001b[0mrunning Automatic Mixed Precision (AMP) checks...\n",
      "\u001b[34m\u001b[1mAMP: \u001b[0mchecks passed \n",
      "\u001b[34m\u001b[1mtrain: \u001b[0mFast image access  (ping: 0.10.0 ms, read: 288.569.3 MB/s, size: 75.6 KB)\n"
     ]
    },
    {
     "name": "stderr",
     "output_type": "stream",
     "text": [
      "\u001b[34m\u001b[1mtrain: \u001b[0mScanning D:\\Project\\segmented-images\\prepared\\labels\\train.cache... 800 images, 0 backgrounds, 0 corrupt: 100%|██████████| 800/800 [00:00<?, ?it/s]\n"
     ]
    },
    {
     "name": "stdout",
     "output_type": "stream",
     "text": [
      "\u001b[34m\u001b[1mval: \u001b[0mFast image access  (ping: 0.10.0 ms, read: 295.667.2 MB/s, size: 96.9 KB)\n"
     ]
    },
    {
     "name": "stderr",
     "output_type": "stream",
     "text": [
      "\u001b[34m\u001b[1mval: \u001b[0mScanning D:\\Project\\segmented-images\\prepared\\labels\\val.cache... 200 images, 0 backgrounds, 0 corrupt: 100%|██████████| 200/200 [00:00<?, ?it/s]\n"
     ]
    },
    {
     "name": "stdout",
     "output_type": "stream",
     "text": [
      "Plotting labels to runs\\segment\\train\\labels.jpg... \n",
      "\u001b[34m\u001b[1moptimizer:\u001b[0m 'optimizer=auto' found, ignoring 'lr0=0.01' and 'momentum=0.937' and determining best 'optimizer', 'lr0' and 'momentum' automatically... \n",
      "\u001b[34m\u001b[1moptimizer:\u001b[0m AdamW(lr=0.002, momentum=0.9) with parameter groups 90 weight(decay=0.0), 101 weight(decay=0.0005), 100 bias(decay=0.0)\n",
      "Image sizes 640 train, 640 val\n",
      "Using 8 dataloader workers\n",
      "Logging results to \u001b[1mruns\\segment\\train\u001b[0m\n",
      "Starting training for 150 epochs...\n",
      "\n",
      "      Epoch    GPU_mem   box_loss   seg_loss   cls_loss   dfl_loss  Instances       Size\n"
     ]
    },
    {
     "name": "stderr",
     "output_type": "stream",
     "text": [
      "      1/150      2.85G     0.9737      2.074      2.431       1.28         36        640: 100%|██████████| 50/50 [00:14<00:00,  3.47it/s]\n",
      "                 Class     Images  Instances      Box(P          R      mAP50  mAP50-95)     Mask(P          R      mAP50  mAP50-95): 100%|██████████| 7/7 [00:02<00:00,  2.80it/s]"
     ]
    },
    {
     "name": "stdout",
     "output_type": "stream",
     "text": [
      "                   all        200        213      0.779      0.427      0.648      0.429      0.788      0.432      0.649      0.415\n"
     ]
    },
    {
     "name": "stderr",
     "output_type": "stream",
     "text": [
      "\n"
     ]
    },
    {
     "name": "stdout",
     "output_type": "stream",
     "text": [
      "\n",
      "      Epoch    GPU_mem   box_loss   seg_loss   cls_loss   dfl_loss  Instances       Size\n"
     ]
    },
    {
     "name": "stderr",
     "output_type": "stream",
     "text": [
      "      2/150      4.22G       1.12        1.9      1.934      1.348         43        640: 100%|██████████| 50/50 [00:06<00:00,  8.33it/s]\n",
      "                 Class     Images  Instances      Box(P          R      mAP50  mAP50-95)     Mask(P          R      mAP50  mAP50-95): 100%|██████████| 7/7 [00:01<00:00,  6.09it/s]"
     ]
    },
    {
     "name": "stdout",
     "output_type": "stream",
     "text": [
      "                   all        200        213      0.547      0.459      0.511      0.295      0.557      0.479      0.513      0.288\n"
     ]
    },
    {
     "name": "stderr",
     "output_type": "stream",
     "text": [
      "\n"
     ]
    },
    {
     "name": "stdout",
     "output_type": "stream",
     "text": [
      "\n",
      "      Epoch    GPU_mem   box_loss   seg_loss   cls_loss   dfl_loss  Instances       Size\n"
     ]
    },
    {
     "name": "stderr",
     "output_type": "stream",
     "text": [
      "      3/150      4.22G      1.138      1.838      1.715      1.372         33        640: 100%|██████████| 50/50 [00:06<00:00,  8.08it/s]\n",
      "                 Class     Images  Instances      Box(P          R      mAP50  mAP50-95)     Mask(P          R      mAP50  mAP50-95): 100%|██████████| 7/7 [00:01<00:00,  6.05it/s]"
     ]
    },
    {
     "name": "stdout",
     "output_type": "stream",
     "text": [
      "                   all        200        213      0.271      0.341      0.202      0.096      0.275      0.418      0.213      0.106\n"
     ]
    },
    {
     "name": "stderr",
     "output_type": "stream",
     "text": [
      "\n"
     ]
    },
    {
     "name": "stdout",
     "output_type": "stream",
     "text": [
      "\n",
      "      Epoch    GPU_mem   box_loss   seg_loss   cls_loss   dfl_loss  Instances       Size\n"
     ]
    },
    {
     "name": "stderr",
     "output_type": "stream",
     "text": [
      "      4/150      4.24G      1.204      1.932      1.638      1.415         31        640: 100%|██████████| 50/50 [00:05<00:00,  8.35it/s]\n",
      "                 Class     Images  Instances      Box(P          R      mAP50  mAP50-95)     Mask(P          R      mAP50  mAP50-95): 100%|██████████| 7/7 [00:01<00:00,  6.07it/s]"
     ]
    },
    {
     "name": "stdout",
     "output_type": "stream",
     "text": [
      "                   all        200        213      0.672      0.413      0.511      0.306      0.676      0.418      0.515      0.303\n"
     ]
    },
    {
     "name": "stderr",
     "output_type": "stream",
     "text": [
      "\n"
     ]
    },
    {
     "name": "stdout",
     "output_type": "stream",
     "text": [
      "\n",
      "      Epoch    GPU_mem   box_loss   seg_loss   cls_loss   dfl_loss  Instances       Size\n"
     ]
    },
    {
     "name": "stderr",
     "output_type": "stream",
     "text": [
      "      5/150      4.24G      1.137      1.848      1.471      1.364         45        640: 100%|██████████| 50/50 [00:06<00:00,  8.33it/s]\n",
      "                 Class     Images  Instances      Box(P          R      mAP50  mAP50-95)     Mask(P          R      mAP50  mAP50-95): 100%|██████████| 7/7 [00:01<00:00,  5.56it/s]"
     ]
    },
    {
     "name": "stdout",
     "output_type": "stream",
     "text": [
      "                   all        200        213      0.675      0.606      0.678      0.434      0.687       0.62      0.684      0.438\n"
     ]
    },
    {
     "name": "stderr",
     "output_type": "stream",
     "text": [
      "\n"
     ]
    },
    {
     "name": "stdout",
     "output_type": "stream",
     "text": [
      "\n",
      "      Epoch    GPU_mem   box_loss   seg_loss   cls_loss   dfl_loss  Instances       Size\n"
     ]
    },
    {
     "name": "stderr",
     "output_type": "stream",
     "text": [
      "      6/150      4.24G      1.124       1.83      1.421       1.35         40        640: 100%|██████████| 50/50 [00:05<00:00,  8.41it/s]\n",
      "                 Class     Images  Instances      Box(P          R      mAP50  mAP50-95)     Mask(P          R      mAP50  mAP50-95): 100%|██████████| 7/7 [00:01<00:00,  6.19it/s]"
     ]
    },
    {
     "name": "stdout",
     "output_type": "stream",
     "text": [
      "                   all        200        213       0.73      0.667      0.741      0.507      0.739      0.676      0.746      0.494\n"
     ]
    },
    {
     "name": "stderr",
     "output_type": "stream",
     "text": [
      "\n"
     ]
    },
    {
     "name": "stdout",
     "output_type": "stream",
     "text": [
      "\n",
      "      Epoch    GPU_mem   box_loss   seg_loss   cls_loss   dfl_loss  Instances       Size\n"
     ]
    },
    {
     "name": "stderr",
     "output_type": "stream",
     "text": [
      "      7/150      4.26G      1.096      1.811      1.349      1.364         42        640: 100%|██████████| 50/50 [00:05<00:00,  8.41it/s]\n",
      "                 Class     Images  Instances      Box(P          R      mAP50  mAP50-95)     Mask(P          R      mAP50  mAP50-95): 100%|██████████| 7/7 [00:01<00:00,  6.38it/s]"
     ]
    },
    {
     "name": "stdout",
     "output_type": "stream",
     "text": [
      "                   all        200        213      0.632      0.507      0.552      0.337      0.642      0.498      0.555      0.354\n"
     ]
    },
    {
     "name": "stderr",
     "output_type": "stream",
     "text": [
      "\n"
     ]
    },
    {
     "name": "stdout",
     "output_type": "stream",
     "text": [
      "\n",
      "      Epoch    GPU_mem   box_loss   seg_loss   cls_loss   dfl_loss  Instances       Size\n"
     ]
    },
    {
     "name": "stderr",
     "output_type": "stream",
     "text": [
      "      8/150      4.27G      1.076      1.722      1.219      1.307         37        640: 100%|██████████| 50/50 [00:05<00:00,  8.61it/s]\n",
      "                 Class     Images  Instances      Box(P          R      mAP50  mAP50-95)     Mask(P          R      mAP50  mAP50-95): 100%|██████████| 7/7 [00:01<00:00,  6.64it/s]"
     ]
    },
    {
     "name": "stdout",
     "output_type": "stream",
     "text": [
      "                   all        200        213      0.605      0.624      0.626      0.383      0.617      0.624      0.638      0.413\n"
     ]
    },
    {
     "name": "stderr",
     "output_type": "stream",
     "text": [
      "\n"
     ]
    },
    {
     "name": "stdout",
     "output_type": "stream",
     "text": [
      "\n",
      "      Epoch    GPU_mem   box_loss   seg_loss   cls_loss   dfl_loss  Instances       Size\n"
     ]
    },
    {
     "name": "stderr",
     "output_type": "stream",
     "text": [
      "      9/150      4.29G       1.04      1.593      1.167      1.308         32        640: 100%|██████████| 50/50 [00:22<00:00,  2.20it/s]\n",
      "                 Class     Images  Instances      Box(P          R      mAP50  mAP50-95)     Mask(P          R      mAP50  mAP50-95): 100%|██████████| 7/7 [00:05<00:00,  1.29it/s]"
     ]
    },
    {
     "name": "stdout",
     "output_type": "stream",
     "text": [
      "                   all        200        213      0.716      0.671      0.735      0.486      0.685        0.7      0.732      0.495\n"
     ]
    },
    {
     "name": "stderr",
     "output_type": "stream",
     "text": [
      "\n"
     ]
    },
    {
     "name": "stdout",
     "output_type": "stream",
     "text": [
      "\n",
      "      Epoch    GPU_mem   box_loss   seg_loss   cls_loss   dfl_loss  Instances       Size\n"
     ]
    },
    {
     "name": "stderr",
     "output_type": "stream",
     "text": [
      "     10/150      4.29G      1.049      1.663      1.193      1.307         32        640: 100%|██████████| 50/50 [00:26<00:00,  1.91it/s]\n",
      "                 Class     Images  Instances      Box(P          R      mAP50  mAP50-95)     Mask(P          R      mAP50  mAP50-95): 100%|██████████| 7/7 [00:04<00:00,  1.41it/s]"
     ]
    },
    {
     "name": "stdout",
     "output_type": "stream",
     "text": [
      "                   all        200        213      0.767      0.757      0.822      0.585      0.772      0.761      0.828      0.599\n"
     ]
    },
    {
     "name": "stderr",
     "output_type": "stream",
     "text": [
      "\n"
     ]
    },
    {
     "name": "stdout",
     "output_type": "stream",
     "text": [
      "\n",
      "      Epoch    GPU_mem   box_loss   seg_loss   cls_loss   dfl_loss  Instances       Size\n"
     ]
    },
    {
     "name": "stderr",
     "output_type": "stream",
     "text": [
      "     11/150      4.29G      1.052      1.638      1.121      1.305         27        640: 100%|██████████| 50/50 [00:07<00:00,  6.61it/s]\n",
      "                 Class     Images  Instances      Box(P          R      mAP50  mAP50-95)     Mask(P          R      mAP50  mAP50-95): 100%|██████████| 7/7 [00:01<00:00,  6.73it/s]"
     ]
    },
    {
     "name": "stdout",
     "output_type": "stream",
     "text": [
      "                   all        200        213      0.741      0.798      0.839      0.596      0.856      0.695      0.839      0.593\n"
     ]
    },
    {
     "name": "stderr",
     "output_type": "stream",
     "text": [
      "\n"
     ]
    },
    {
     "name": "stdout",
     "output_type": "stream",
     "text": [
      "\n",
      "      Epoch    GPU_mem   box_loss   seg_loss   cls_loss   dfl_loss  Instances       Size\n"
     ]
    },
    {
     "name": "stderr",
     "output_type": "stream",
     "text": [
      "     12/150      4.29G      1.037      1.599      1.158      1.303         37        640: 100%|██████████| 50/50 [00:05<00:00,  9.30it/s]\n",
      "                 Class     Images  Instances      Box(P          R      mAP50  mAP50-95)     Mask(P          R      mAP50  mAP50-95): 100%|██████████| 7/7 [00:01<00:00,  6.77it/s]"
     ]
    },
    {
     "name": "stdout",
     "output_type": "stream",
     "text": [
      "                   all        200        213      0.897      0.746      0.865      0.636      0.908      0.756      0.877      0.637\n"
     ]
    },
    {
     "name": "stderr",
     "output_type": "stream",
     "text": [
      "\n"
     ]
    },
    {
     "name": "stdout",
     "output_type": "stream",
     "text": [
      "\n",
      "      Epoch    GPU_mem   box_loss   seg_loss   cls_loss   dfl_loss  Instances       Size\n"
     ]
    },
    {
     "name": "stderr",
     "output_type": "stream",
     "text": [
      "     13/150      4.29G       1.01      1.599      1.107      1.296         42        640: 100%|██████████| 50/50 [00:05<00:00,  9.02it/s]\n",
      "                 Class     Images  Instances      Box(P          R      mAP50  mAP50-95)     Mask(P          R      mAP50  mAP50-95): 100%|██████████| 7/7 [00:01<00:00,  6.75it/s]"
     ]
    },
    {
     "name": "stdout",
     "output_type": "stream",
     "text": [
      "                   all        200        213      0.869      0.811      0.876      0.644      0.863      0.831      0.885      0.645\n"
     ]
    },
    {
     "name": "stderr",
     "output_type": "stream",
     "text": [
      "\n"
     ]
    },
    {
     "name": "stdout",
     "output_type": "stream",
     "text": [
      "\n",
      "      Epoch    GPU_mem   box_loss   seg_loss   cls_loss   dfl_loss  Instances       Size\n"
     ]
    },
    {
     "name": "stderr",
     "output_type": "stream",
     "text": [
      "     14/150      4.29G      1.004      1.617      1.074      1.271         35        640: 100%|██████████| 50/50 [00:05<00:00,  9.11it/s]\n",
      "                 Class     Images  Instances      Box(P          R      mAP50  mAP50-95)     Mask(P          R      mAP50  mAP50-95): 100%|██████████| 7/7 [00:01<00:00,  6.70it/s]"
     ]
    },
    {
     "name": "stdout",
     "output_type": "stream",
     "text": [
      "                   all        200        213       0.84      0.765      0.858      0.611      0.856      0.746      0.858      0.621\n"
     ]
    },
    {
     "name": "stderr",
     "output_type": "stream",
     "text": [
      "\n"
     ]
    },
    {
     "name": "stdout",
     "output_type": "stream",
     "text": [
      "\n",
      "      Epoch    GPU_mem   box_loss   seg_loss   cls_loss   dfl_loss  Instances       Size\n"
     ]
    },
    {
     "name": "stderr",
     "output_type": "stream",
     "text": [
      "     15/150      4.29G     0.9801      1.536      1.059      1.263         35        640: 100%|██████████| 50/50 [00:05<00:00,  8.90it/s]\n",
      "                 Class     Images  Instances      Box(P          R      mAP50  mAP50-95)     Mask(P          R      mAP50  mAP50-95): 100%|██████████| 7/7 [00:01<00:00,  6.76it/s]"
     ]
    },
    {
     "name": "stdout",
     "output_type": "stream",
     "text": [
      "                   all        200        213      0.833      0.732      0.816      0.609      0.845      0.709      0.812      0.612\n"
     ]
    },
    {
     "name": "stderr",
     "output_type": "stream",
     "text": [
      "\n"
     ]
    },
    {
     "name": "stdout",
     "output_type": "stream",
     "text": [
      "\n",
      "      Epoch    GPU_mem   box_loss   seg_loss   cls_loss   dfl_loss  Instances       Size\n"
     ]
    },
    {
     "name": "stderr",
     "output_type": "stream",
     "text": [
      "     16/150      4.29G     0.9767      1.546      1.051      1.258         35        640: 100%|██████████| 50/50 [00:05<00:00,  8.86it/s]\n",
      "                 Class     Images  Instances      Box(P          R      mAP50  mAP50-95)     Mask(P          R      mAP50  mAP50-95): 100%|██████████| 7/7 [00:01<00:00,  6.68it/s]"
     ]
    },
    {
     "name": "stdout",
     "output_type": "stream",
     "text": [
      "                   all        200        213      0.801      0.761      0.852      0.593      0.811       0.77       0.86      0.623\n"
     ]
    },
    {
     "name": "stderr",
     "output_type": "stream",
     "text": [
      "\n"
     ]
    },
    {
     "name": "stdout",
     "output_type": "stream",
     "text": [
      "\n",
      "      Epoch    GPU_mem   box_loss   seg_loss   cls_loss   dfl_loss  Instances       Size\n"
     ]
    },
    {
     "name": "stderr",
     "output_type": "stream",
     "text": [
      "     17/150      4.29G     0.9738      1.525      1.001      1.253         45        640: 100%|██████████| 50/50 [00:05<00:00,  8.90it/s]\n",
      "                 Class     Images  Instances      Box(P          R      mAP50  mAP50-95)     Mask(P          R      mAP50  mAP50-95): 100%|██████████| 7/7 [00:01<00:00,  6.78it/s]"
     ]
    },
    {
     "name": "stdout",
     "output_type": "stream",
     "text": [
      "                   all        200        213      0.816      0.779      0.856       0.64       0.84      0.784      0.863      0.632\n"
     ]
    },
    {
     "name": "stderr",
     "output_type": "stream",
     "text": [
      "\n"
     ]
    },
    {
     "name": "stdout",
     "output_type": "stream",
     "text": [
      "\n",
      "      Epoch    GPU_mem   box_loss   seg_loss   cls_loss   dfl_loss  Instances       Size\n"
     ]
    },
    {
     "name": "stderr",
     "output_type": "stream",
     "text": [
      "     18/150      4.29G     0.9597      1.478      1.006      1.256         37        640: 100%|██████████| 50/50 [00:05<00:00,  9.04it/s]\n",
      "                 Class     Images  Instances      Box(P          R      mAP50  mAP50-95)     Mask(P          R      mAP50  mAP50-95): 100%|██████████| 7/7 [00:01<00:00,  6.67it/s]"
     ]
    },
    {
     "name": "stdout",
     "output_type": "stream",
     "text": [
      "                   all        200        213      0.794      0.742      0.812        0.6      0.836      0.739      0.836      0.613\n"
     ]
    },
    {
     "name": "stderr",
     "output_type": "stream",
     "text": [
      "\n"
     ]
    },
    {
     "name": "stdout",
     "output_type": "stream",
     "text": [
      "\n",
      "      Epoch    GPU_mem   box_loss   seg_loss   cls_loss   dfl_loss  Instances       Size\n"
     ]
    },
    {
     "name": "stderr",
     "output_type": "stream",
     "text": [
      "     19/150      4.29G     0.9367      1.456     0.9932      1.245         33        640: 100%|██████████| 50/50 [00:05<00:00,  9.08it/s]\n",
      "                 Class     Images  Instances      Box(P          R      mAP50  mAP50-95)     Mask(P          R      mAP50  mAP50-95): 100%|██████████| 7/7 [00:01<00:00,  6.75it/s]"
     ]
    },
    {
     "name": "stdout",
     "output_type": "stream",
     "text": [
      "                   all        200        213      0.777      0.784       0.84      0.631      0.802      0.799      0.854      0.639\n"
     ]
    },
    {
     "name": "stderr",
     "output_type": "stream",
     "text": [
      "\n"
     ]
    },
    {
     "name": "stdout",
     "output_type": "stream",
     "text": [
      "\n",
      "      Epoch    GPU_mem   box_loss   seg_loss   cls_loss   dfl_loss  Instances       Size\n"
     ]
    },
    {
     "name": "stderr",
     "output_type": "stream",
     "text": [
      "     20/150      4.29G     0.9337      1.478     0.9768      1.233         33        640: 100%|██████████| 50/50 [00:05<00:00,  9.15it/s]\n",
      "                 Class     Images  Instances      Box(P          R      mAP50  mAP50-95)     Mask(P          R      mAP50  mAP50-95): 100%|██████████| 7/7 [00:01<00:00,  6.92it/s]"
     ]
    },
    {
     "name": "stdout",
     "output_type": "stream",
     "text": [
      "                   all        200        213      0.831      0.709      0.799       0.59      0.842      0.718      0.809      0.611\n"
     ]
    },
    {
     "name": "stderr",
     "output_type": "stream",
     "text": [
      "\n"
     ]
    },
    {
     "name": "stdout",
     "output_type": "stream",
     "text": [
      "\n",
      "      Epoch    GPU_mem   box_loss   seg_loss   cls_loss   dfl_loss  Instances       Size\n"
     ]
    },
    {
     "name": "stderr",
     "output_type": "stream",
     "text": [
      "     21/150      4.29G     0.9112      1.453      0.935      1.229         34        640: 100%|██████████| 50/50 [00:05<00:00,  8.84it/s]\n",
      "                 Class     Images  Instances      Box(P          R      mAP50  mAP50-95)     Mask(P          R      mAP50  mAP50-95): 100%|██████████| 7/7 [00:01<00:00,  5.84it/s]"
     ]
    },
    {
     "name": "stdout",
     "output_type": "stream",
     "text": [
      "                   all        200        213      0.816      0.625      0.743      0.551      0.829      0.629       0.74      0.536\n"
     ]
    },
    {
     "name": "stderr",
     "output_type": "stream",
     "text": [
      "\n"
     ]
    },
    {
     "name": "stdout",
     "output_type": "stream",
     "text": [
      "\n",
      "      Epoch    GPU_mem   box_loss   seg_loss   cls_loss   dfl_loss  Instances       Size\n"
     ]
    },
    {
     "name": "stderr",
     "output_type": "stream",
     "text": [
      "     22/150      4.29G     0.9184      1.466     0.9384      1.222         37        640: 100%|██████████| 50/50 [00:06<00:00,  8.21it/s]\n",
      "                 Class     Images  Instances      Box(P          R      mAP50  mAP50-95)     Mask(P          R      mAP50  mAP50-95): 100%|██████████| 7/7 [00:01<00:00,  6.34it/s]"
     ]
    },
    {
     "name": "stdout",
     "output_type": "stream",
     "text": [
      "                   all        200        213      0.901      0.793      0.889       0.66      0.902      0.784      0.883      0.668\n"
     ]
    },
    {
     "name": "stderr",
     "output_type": "stream",
     "text": [
      "\n"
     ]
    },
    {
     "name": "stdout",
     "output_type": "stream",
     "text": [
      "\n",
      "      Epoch    GPU_mem   box_loss   seg_loss   cls_loss   dfl_loss  Instances       Size\n"
     ]
    },
    {
     "name": "stderr",
     "output_type": "stream",
     "text": [
      "     23/150      4.29G     0.9008      1.459     0.9139      1.211         35        640: 100%|██████████| 50/50 [00:05<00:00,  8.78it/s]\n",
      "                 Class     Images  Instances      Box(P          R      mAP50  mAP50-95)     Mask(P          R      mAP50  mAP50-95): 100%|██████████| 7/7 [00:01<00:00,  6.60it/s]"
     ]
    },
    {
     "name": "stdout",
     "output_type": "stream",
     "text": [
      "                   all        200        213      0.848      0.793      0.891      0.675      0.866      0.786       0.89       0.68\n"
     ]
    },
    {
     "name": "stderr",
     "output_type": "stream",
     "text": [
      "\n"
     ]
    },
    {
     "name": "stdout",
     "output_type": "stream",
     "text": [
      "\n",
      "      Epoch    GPU_mem   box_loss   seg_loss   cls_loss   dfl_loss  Instances       Size\n"
     ]
    },
    {
     "name": "stderr",
     "output_type": "stream",
     "text": [
      "     24/150      4.29G     0.9381       1.47     0.9343      1.236         39        640: 100%|██████████| 50/50 [00:05<00:00,  9.10it/s]\n",
      "                 Class     Images  Instances      Box(P          R      mAP50  mAP50-95)     Mask(P          R      mAP50  mAP50-95): 100%|██████████| 7/7 [00:01<00:00,  6.69it/s]"
     ]
    },
    {
     "name": "stdout",
     "output_type": "stream",
     "text": [
      "                   all        200        213       0.88      0.754      0.855      0.627      0.902      0.775      0.869      0.638\n"
     ]
    },
    {
     "name": "stderr",
     "output_type": "stream",
     "text": [
      "\n"
     ]
    },
    {
     "name": "stdout",
     "output_type": "stream",
     "text": [
      "\n",
      "      Epoch    GPU_mem   box_loss   seg_loss   cls_loss   dfl_loss  Instances       Size\n"
     ]
    },
    {
     "name": "stderr",
     "output_type": "stream",
     "text": [
      "     25/150      4.29G     0.9022      1.393     0.8993      1.223         32        640: 100%|██████████| 50/50 [00:05<00:00,  8.82it/s]\n",
      "                 Class     Images  Instances      Box(P          R      mAP50  mAP50-95)     Mask(P          R      mAP50  mAP50-95): 100%|██████████| 7/7 [00:01<00:00,  6.19it/s]"
     ]
    },
    {
     "name": "stdout",
     "output_type": "stream",
     "text": [
      "                   all        200        213       0.85      0.793      0.863      0.638      0.842      0.822       0.87       0.67\n"
     ]
    },
    {
     "name": "stderr",
     "output_type": "stream",
     "text": [
      "\n"
     ]
    },
    {
     "name": "stdout",
     "output_type": "stream",
     "text": [
      "\n",
      "      Epoch    GPU_mem   box_loss   seg_loss   cls_loss   dfl_loss  Instances       Size\n"
     ]
    },
    {
     "name": "stderr",
     "output_type": "stream",
     "text": [
      "     26/150      4.29G     0.8809      1.462     0.9081      1.205         25        640: 100%|██████████| 50/50 [00:06<00:00,  8.05it/s]\n",
      "                 Class     Images  Instances      Box(P          R      mAP50  mAP50-95)     Mask(P          R      mAP50  mAP50-95): 100%|██████████| 7/7 [00:01<00:00,  6.57it/s]"
     ]
    },
    {
     "name": "stdout",
     "output_type": "stream",
     "text": [
      "                   all        200        213      0.844       0.85      0.908      0.701      0.857       0.84       0.91      0.704\n"
     ]
    },
    {
     "name": "stderr",
     "output_type": "stream",
     "text": [
      "\n"
     ]
    },
    {
     "name": "stdout",
     "output_type": "stream",
     "text": [
      "\n",
      "      Epoch    GPU_mem   box_loss   seg_loss   cls_loss   dfl_loss  Instances       Size\n"
     ]
    },
    {
     "name": "stderr",
     "output_type": "stream",
     "text": [
      "     27/150      4.29G     0.8781      1.441     0.8875      1.207         28        640: 100%|██████████| 50/50 [00:06<00:00,  8.25it/s]\n",
      "                 Class     Images  Instances      Box(P          R      mAP50  mAP50-95)     Mask(P          R      mAP50  mAP50-95): 100%|██████████| 7/7 [00:01<00:00,  6.35it/s]"
     ]
    },
    {
     "name": "stdout",
     "output_type": "stream",
     "text": [
      "                   all        200        213      0.896      0.742       0.88      0.651      0.879      0.765      0.879      0.653\n"
     ]
    },
    {
     "name": "stderr",
     "output_type": "stream",
     "text": [
      "\n"
     ]
    },
    {
     "name": "stdout",
     "output_type": "stream",
     "text": [
      "\n",
      "      Epoch    GPU_mem   box_loss   seg_loss   cls_loss   dfl_loss  Instances       Size\n"
     ]
    },
    {
     "name": "stderr",
     "output_type": "stream",
     "text": [
      "     28/150      4.29G     0.8581      1.368     0.8794      1.187         29        640: 100%|██████████| 50/50 [00:05<00:00,  8.51it/s]\n",
      "                 Class     Images  Instances      Box(P          R      mAP50  mAP50-95)     Mask(P          R      mAP50  mAP50-95): 100%|██████████| 7/7 [00:01<00:00,  6.22it/s]"
     ]
    },
    {
     "name": "stdout",
     "output_type": "stream",
     "text": [
      "                   all        200        213      0.888      0.744      0.867       0.66      0.882      0.773      0.875      0.672\n"
     ]
    },
    {
     "name": "stderr",
     "output_type": "stream",
     "text": [
      "\n"
     ]
    },
    {
     "name": "stdout",
     "output_type": "stream",
     "text": [
      "\n",
      "      Epoch    GPU_mem   box_loss   seg_loss   cls_loss   dfl_loss  Instances       Size\n"
     ]
    },
    {
     "name": "stderr",
     "output_type": "stream",
     "text": [
      "     29/150      4.29G     0.8851      1.391     0.8976        1.2         31        640: 100%|██████████| 50/50 [00:06<00:00,  8.14it/s]\n",
      "                 Class     Images  Instances      Box(P          R      mAP50  mAP50-95)     Mask(P          R      mAP50  mAP50-95): 100%|██████████| 7/7 [00:01<00:00,  5.43it/s]"
     ]
    },
    {
     "name": "stdout",
     "output_type": "stream",
     "text": [
      "                   all        200        213      0.861      0.779      0.855      0.664      0.876      0.793      0.867      0.671\n"
     ]
    },
    {
     "name": "stderr",
     "output_type": "stream",
     "text": [
      "\n"
     ]
    },
    {
     "name": "stdout",
     "output_type": "stream",
     "text": [
      "\n",
      "      Epoch    GPU_mem   box_loss   seg_loss   cls_loss   dfl_loss  Instances       Size\n"
     ]
    },
    {
     "name": "stderr",
     "output_type": "stream",
     "text": [
      "     30/150      4.29G     0.8539      1.411      0.893      1.181         43        640: 100%|██████████| 50/50 [00:06<00:00,  7.97it/s]\n",
      "                 Class     Images  Instances      Box(P          R      mAP50  mAP50-95)     Mask(P          R      mAP50  mAP50-95): 100%|██████████| 7/7 [00:01<00:00,  6.20it/s]"
     ]
    },
    {
     "name": "stdout",
     "output_type": "stream",
     "text": [
      "                   all        200        213      0.898      0.785      0.894      0.653      0.899      0.779      0.888      0.656\n"
     ]
    },
    {
     "name": "stderr",
     "output_type": "stream",
     "text": [
      "\n"
     ]
    },
    {
     "name": "stdout",
     "output_type": "stream",
     "text": [
      "\n",
      "      Epoch    GPU_mem   box_loss   seg_loss   cls_loss   dfl_loss  Instances       Size\n"
     ]
    },
    {
     "name": "stderr",
     "output_type": "stream",
     "text": [
      "     31/150      4.29G     0.8732      1.365     0.8864      1.196         36        640: 100%|██████████| 50/50 [00:05<00:00,  9.00it/s]\n",
      "                 Class     Images  Instances      Box(P          R      mAP50  mAP50-95)     Mask(P          R      mAP50  mAP50-95): 100%|██████████| 7/7 [00:01<00:00,  6.56it/s]"
     ]
    },
    {
     "name": "stdout",
     "output_type": "stream",
     "text": [
      "                   all        200        213       0.88      0.826      0.888      0.698      0.889      0.831      0.899      0.705\n"
     ]
    },
    {
     "name": "stderr",
     "output_type": "stream",
     "text": [
      "\n"
     ]
    },
    {
     "name": "stdout",
     "output_type": "stream",
     "text": [
      "\n",
      "      Epoch    GPU_mem   box_loss   seg_loss   cls_loss   dfl_loss  Instances       Size\n"
     ]
    },
    {
     "name": "stderr",
     "output_type": "stream",
     "text": [
      "     32/150      4.29G     0.8659      1.398      0.852      1.179         43        640: 100%|██████████| 50/50 [00:05<00:00,  8.96it/s]\n",
      "                 Class     Images  Instances      Box(P          R      mAP50  mAP50-95)     Mask(P          R      mAP50  mAP50-95): 100%|██████████| 7/7 [00:01<00:00,  6.44it/s]"
     ]
    },
    {
     "name": "stdout",
     "output_type": "stream",
     "text": [
      "                   all        200        213        0.9      0.751      0.876       0.68      0.918      0.765      0.883      0.693\n"
     ]
    },
    {
     "name": "stderr",
     "output_type": "stream",
     "text": [
      "\n"
     ]
    },
    {
     "name": "stdout",
     "output_type": "stream",
     "text": [
      "\n",
      "      Epoch    GPU_mem   box_loss   seg_loss   cls_loss   dfl_loss  Instances       Size\n"
     ]
    },
    {
     "name": "stderr",
     "output_type": "stream",
     "text": [
      "     33/150      4.29G     0.8475      1.399     0.8227      1.178         22        640: 100%|██████████| 50/50 [00:05<00:00,  8.62it/s]\n",
      "                 Class     Images  Instances      Box(P          R      mAP50  mAP50-95)     Mask(P          R      mAP50  mAP50-95): 100%|██████████| 7/7 [00:01<00:00,  6.72it/s]"
     ]
    },
    {
     "name": "stdout",
     "output_type": "stream",
     "text": [
      "                   all        200        213      0.814      0.802      0.839      0.624      0.819      0.807      0.841      0.642\n"
     ]
    },
    {
     "name": "stderr",
     "output_type": "stream",
     "text": [
      "\n"
     ]
    },
    {
     "name": "stdout",
     "output_type": "stream",
     "text": [
      "\n",
      "      Epoch    GPU_mem   box_loss   seg_loss   cls_loss   dfl_loss  Instances       Size\n"
     ]
    },
    {
     "name": "stderr",
     "output_type": "stream",
     "text": [
      "     34/150      4.29G      0.851      1.398     0.8648      1.195         32        640: 100%|██████████| 50/50 [00:05<00:00,  8.68it/s]\n",
      "                 Class     Images  Instances      Box(P          R      mAP50  mAP50-95)     Mask(P          R      mAP50  mAP50-95): 100%|██████████| 7/7 [00:04<00:00,  1.43it/s]"
     ]
    },
    {
     "name": "stdout",
     "output_type": "stream",
     "text": [
      "                   all        200        213      0.867      0.766      0.873      0.685      0.883      0.782      0.885      0.686\n"
     ]
    },
    {
     "name": "stderr",
     "output_type": "stream",
     "text": [
      "\n"
     ]
    },
    {
     "name": "stdout",
     "output_type": "stream",
     "text": [
      "\n",
      "      Epoch    GPU_mem   box_loss   seg_loss   cls_loss   dfl_loss  Instances       Size\n"
     ]
    },
    {
     "name": "stderr",
     "output_type": "stream",
     "text": [
      "     35/150      4.29G     0.8389      1.366     0.8251      1.165         38        640: 100%|██████████| 50/50 [00:26<00:00,  1.92it/s]\n",
      "                 Class     Images  Instances      Box(P          R      mAP50  mAP50-95)     Mask(P          R      mAP50  mAP50-95): 100%|██████████| 7/7 [00:05<00:00,  1.33it/s]"
     ]
    },
    {
     "name": "stdout",
     "output_type": "stream",
     "text": [
      "                   all        200        213      0.851      0.803      0.873       0.66      0.869      0.817       0.89      0.679\n"
     ]
    },
    {
     "name": "stderr",
     "output_type": "stream",
     "text": [
      "\n"
     ]
    },
    {
     "name": "stdout",
     "output_type": "stream",
     "text": [
      "\n",
      "      Epoch    GPU_mem   box_loss   seg_loss   cls_loss   dfl_loss  Instances       Size\n"
     ]
    },
    {
     "name": "stderr",
     "output_type": "stream",
     "text": [
      "     36/150      4.29G     0.8739      1.362     0.8315      1.196         28        640: 100%|██████████| 50/50 [00:10<00:00,  4.59it/s]\n",
      "                 Class     Images  Instances      Box(P          R      mAP50  mAP50-95)     Mask(P          R      mAP50  mAP50-95): 100%|██████████| 7/7 [00:01<00:00,  6.86it/s]"
     ]
    },
    {
     "name": "stdout",
     "output_type": "stream",
     "text": [
      "                   all        200        213      0.879      0.748       0.84      0.657      0.884      0.752      0.845      0.635\n"
     ]
    },
    {
     "name": "stderr",
     "output_type": "stream",
     "text": [
      "\n"
     ]
    },
    {
     "name": "stdout",
     "output_type": "stream",
     "text": [
      "\n",
      "      Epoch    GPU_mem   box_loss   seg_loss   cls_loss   dfl_loss  Instances       Size\n"
     ]
    },
    {
     "name": "stderr",
     "output_type": "stream",
     "text": [
      "     37/150      4.29G     0.8152       1.29     0.8009      1.143         37        640: 100%|██████████| 50/50 [00:05<00:00,  9.52it/s]\n",
      "                 Class     Images  Instances      Box(P          R      mAP50  mAP50-95)     Mask(P          R      mAP50  mAP50-95): 100%|██████████| 7/7 [00:01<00:00,  6.77it/s]"
     ]
    },
    {
     "name": "stdout",
     "output_type": "stream",
     "text": [
      "                   all        200        213      0.854      0.803      0.899      0.713      0.864      0.812      0.908      0.718\n"
     ]
    },
    {
     "name": "stderr",
     "output_type": "stream",
     "text": [
      "\n"
     ]
    },
    {
     "name": "stdout",
     "output_type": "stream",
     "text": [
      "\n",
      "      Epoch    GPU_mem   box_loss   seg_loss   cls_loss   dfl_loss  Instances       Size\n"
     ]
    },
    {
     "name": "stderr",
     "output_type": "stream",
     "text": [
      "     38/150      4.29G     0.8388      1.306     0.7983      1.163         36        640: 100%|██████████| 50/50 [00:06<00:00,  8.02it/s]\n",
      "                 Class     Images  Instances      Box(P          R      mAP50  mAP50-95)     Mask(P          R      mAP50  mAP50-95): 100%|██████████| 7/7 [00:01<00:00,  6.10it/s]"
     ]
    },
    {
     "name": "stdout",
     "output_type": "stream",
     "text": [
      "                   all        200        213      0.891      0.841      0.909      0.698      0.882       0.85      0.912      0.708\n"
     ]
    },
    {
     "name": "stderr",
     "output_type": "stream",
     "text": [
      "\n"
     ]
    },
    {
     "name": "stdout",
     "output_type": "stream",
     "text": [
      "\n",
      "      Epoch    GPU_mem   box_loss   seg_loss   cls_loss   dfl_loss  Instances       Size\n"
     ]
    },
    {
     "name": "stderr",
     "output_type": "stream",
     "text": [
      "     39/150       4.3G     0.8819      1.438     0.8472      1.201         31        640: 100%|██████████| 50/50 [00:06<00:00,  7.68it/s]\n",
      "                 Class     Images  Instances      Box(P          R      mAP50  mAP50-95)     Mask(P          R      mAP50  mAP50-95): 100%|██████████| 7/7 [00:01<00:00,  6.21it/s]"
     ]
    },
    {
     "name": "stdout",
     "output_type": "stream",
     "text": [
      "                   all        200        213      0.894      0.826      0.905      0.699      0.889      0.822      0.904      0.702\n"
     ]
    },
    {
     "name": "stderr",
     "output_type": "stream",
     "text": [
      "\n"
     ]
    },
    {
     "name": "stdout",
     "output_type": "stream",
     "text": [
      "\n",
      "      Epoch    GPU_mem   box_loss   seg_loss   cls_loss   dfl_loss  Instances       Size\n"
     ]
    },
    {
     "name": "stderr",
     "output_type": "stream",
     "text": [
      "     40/150       4.3G     0.8302      1.318     0.8285      1.163         31        640: 100%|██████████| 50/50 [00:06<00:00,  8.01it/s]\n",
      "                 Class     Images  Instances      Box(P          R      mAP50  mAP50-95)     Mask(P          R      mAP50  mAP50-95): 100%|██████████| 7/7 [00:01<00:00,  6.67it/s]"
     ]
    },
    {
     "name": "stdout",
     "output_type": "stream",
     "text": [
      "                   all        200        213      0.896      0.779      0.895      0.679      0.907      0.789      0.912        0.7\n"
     ]
    },
    {
     "name": "stderr",
     "output_type": "stream",
     "text": [
      "\n"
     ]
    },
    {
     "name": "stdout",
     "output_type": "stream",
     "text": [
      "\n",
      "      Epoch    GPU_mem   box_loss   seg_loss   cls_loss   dfl_loss  Instances       Size\n"
     ]
    },
    {
     "name": "stderr",
     "output_type": "stream",
     "text": [
      "     41/150       4.3G     0.8579       1.37     0.8088       1.18         41        640: 100%|██████████| 50/50 [00:05<00:00,  8.68it/s]\n",
      "                 Class     Images  Instances      Box(P          R      mAP50  mAP50-95)     Mask(P          R      mAP50  mAP50-95): 100%|██████████| 7/7 [00:01<00:00,  6.57it/s]"
     ]
    },
    {
     "name": "stdout",
     "output_type": "stream",
     "text": [
      "                   all        200        213      0.902      0.819      0.897      0.698      0.912      0.826      0.902      0.687\n"
     ]
    },
    {
     "name": "stderr",
     "output_type": "stream",
     "text": [
      "\n"
     ]
    },
    {
     "name": "stdout",
     "output_type": "stream",
     "text": [
      "\n",
      "      Epoch    GPU_mem   box_loss   seg_loss   cls_loss   dfl_loss  Instances       Size\n"
     ]
    },
    {
     "name": "stderr",
     "output_type": "stream",
     "text": [
      "     42/150       4.3G     0.8595      1.369       0.83       1.18         35        640: 100%|██████████| 50/50 [00:05<00:00,  8.87it/s]\n",
      "                 Class     Images  Instances      Box(P          R      mAP50  mAP50-95)     Mask(P          R      mAP50  mAP50-95): 100%|██████████| 7/7 [00:01<00:00,  6.77it/s]"
     ]
    },
    {
     "name": "stdout",
     "output_type": "stream",
     "text": [
      "                   all        200        213      0.862      0.851      0.898      0.705      0.887      0.848      0.908      0.703\n"
     ]
    },
    {
     "name": "stderr",
     "output_type": "stream",
     "text": [
      "\n"
     ]
    },
    {
     "name": "stdout",
     "output_type": "stream",
     "text": [
      "\n",
      "      Epoch    GPU_mem   box_loss   seg_loss   cls_loss   dfl_loss  Instances       Size\n"
     ]
    },
    {
     "name": "stderr",
     "output_type": "stream",
     "text": [
      "     43/150       4.3G      0.831      1.264     0.7885      1.168         39        640: 100%|██████████| 50/50 [00:05<00:00,  9.03it/s]\n",
      "                 Class     Images  Instances      Box(P          R      mAP50  mAP50-95)     Mask(P          R      mAP50  mAP50-95): 100%|██████████| 7/7 [00:01<00:00,  6.53it/s]"
     ]
    },
    {
     "name": "stdout",
     "output_type": "stream",
     "text": [
      "                   all        200        213      0.868      0.873      0.911      0.724      0.935      0.822      0.912      0.724\n"
     ]
    },
    {
     "name": "stderr",
     "output_type": "stream",
     "text": [
      "\n"
     ]
    },
    {
     "name": "stdout",
     "output_type": "stream",
     "text": [
      "\n",
      "      Epoch    GPU_mem   box_loss   seg_loss   cls_loss   dfl_loss  Instances       Size\n"
     ]
    },
    {
     "name": "stderr",
     "output_type": "stream",
     "text": [
      "     44/150       4.3G     0.8371      1.309     0.8153      1.163         49        640: 100%|██████████| 50/50 [00:05<00:00,  9.08it/s]\n",
      "                 Class     Images  Instances      Box(P          R      mAP50  mAP50-95)     Mask(P          R      mAP50  mAP50-95): 100%|██████████| 7/7 [00:01<00:00,  6.95it/s]"
     ]
    },
    {
     "name": "stdout",
     "output_type": "stream",
     "text": [
      "                   all        200        213      0.861      0.842      0.915       0.71      0.921      0.825      0.922      0.718\n"
     ]
    },
    {
     "name": "stderr",
     "output_type": "stream",
     "text": [
      "\n"
     ]
    },
    {
     "name": "stdout",
     "output_type": "stream",
     "text": [
      "\n",
      "      Epoch    GPU_mem   box_loss   seg_loss   cls_loss   dfl_loss  Instances       Size\n"
     ]
    },
    {
     "name": "stderr",
     "output_type": "stream",
     "text": [
      "     45/150       4.3G     0.8133      1.264     0.7706       1.15         45        640: 100%|██████████| 50/50 [00:05<00:00,  9.14it/s]\n",
      "                 Class     Images  Instances      Box(P          R      mAP50  mAP50-95)     Mask(P          R      mAP50  mAP50-95): 100%|██████████| 7/7 [00:00<00:00,  7.03it/s]"
     ]
    },
    {
     "name": "stdout",
     "output_type": "stream",
     "text": [
      "                   all        200        213      0.934      0.808      0.922       0.71      0.936      0.803      0.927      0.725\n"
     ]
    },
    {
     "name": "stderr",
     "output_type": "stream",
     "text": [
      "\n"
     ]
    },
    {
     "name": "stdout",
     "output_type": "stream",
     "text": [
      "\n",
      "      Epoch    GPU_mem   box_loss   seg_loss   cls_loss   dfl_loss  Instances       Size\n"
     ]
    },
    {
     "name": "stderr",
     "output_type": "stream",
     "text": [
      "     46/150       4.3G     0.8247      1.287     0.8009      1.165         29        640: 100%|██████████| 50/50 [00:05<00:00,  9.13it/s]\n",
      "                 Class     Images  Instances      Box(P          R      mAP50  mAP50-95)     Mask(P          R      mAP50  mAP50-95): 100%|██████████| 7/7 [00:01<00:00,  6.89it/s]"
     ]
    },
    {
     "name": "stdout",
     "output_type": "stream",
     "text": [
      "                   all        200        213      0.905      0.852       0.92      0.741      0.915      0.861      0.926      0.743\n"
     ]
    },
    {
     "name": "stderr",
     "output_type": "stream",
     "text": [
      "\n"
     ]
    },
    {
     "name": "stdout",
     "output_type": "stream",
     "text": [
      "\n",
      "      Epoch    GPU_mem   box_loss   seg_loss   cls_loss   dfl_loss  Instances       Size\n"
     ]
    },
    {
     "name": "stderr",
     "output_type": "stream",
     "text": [
      "     47/150       4.3G     0.7968       1.25      0.771       1.14         41        640: 100%|██████████| 50/50 [00:05<00:00,  9.23it/s]\n",
      "                 Class     Images  Instances      Box(P          R      mAP50  mAP50-95)     Mask(P          R      mAP50  mAP50-95): 100%|██████████| 7/7 [00:00<00:00,  7.02it/s]"
     ]
    },
    {
     "name": "stdout",
     "output_type": "stream",
     "text": [
      "                   all        200        213      0.857      0.859      0.925      0.732      0.857      0.859      0.923      0.723\n"
     ]
    },
    {
     "name": "stderr",
     "output_type": "stream",
     "text": [
      "\n"
     ]
    },
    {
     "name": "stdout",
     "output_type": "stream",
     "text": [
      "\n",
      "      Epoch    GPU_mem   box_loss   seg_loss   cls_loss   dfl_loss  Instances       Size\n"
     ]
    },
    {
     "name": "stderr",
     "output_type": "stream",
     "text": [
      "     48/150       4.3G     0.8224      1.267     0.7653      1.163         37        640: 100%|██████████| 50/50 [00:05<00:00,  9.09it/s]\n",
      "                 Class     Images  Instances      Box(P          R      mAP50  mAP50-95)     Mask(P          R      mAP50  mAP50-95): 100%|██████████| 7/7 [00:01<00:00,  6.97it/s]"
     ]
    },
    {
     "name": "stdout",
     "output_type": "stream",
     "text": [
      "                   all        200        213      0.901      0.854      0.906      0.708      0.896      0.849      0.905      0.715\n"
     ]
    },
    {
     "name": "stderr",
     "output_type": "stream",
     "text": [
      "\n"
     ]
    },
    {
     "name": "stdout",
     "output_type": "stream",
     "text": [
      "\n",
      "      Epoch    GPU_mem   box_loss   seg_loss   cls_loss   dfl_loss  Instances       Size\n"
     ]
    },
    {
     "name": "stderr",
     "output_type": "stream",
     "text": [
      "     49/150       4.3G     0.8211      1.271     0.7703      1.157         29        640: 100%|██████████| 50/50 [00:05<00:00,  9.21it/s]\n",
      "                 Class     Images  Instances      Box(P          R      mAP50  mAP50-95)     Mask(P          R      mAP50  mAP50-95): 100%|██████████| 7/7 [00:00<00:00,  7.04it/s]"
     ]
    },
    {
     "name": "stdout",
     "output_type": "stream",
     "text": [
      "                   all        200        213      0.879      0.852      0.893      0.702      0.884      0.857      0.908      0.713\n"
     ]
    },
    {
     "name": "stderr",
     "output_type": "stream",
     "text": [
      "\n"
     ]
    },
    {
     "name": "stdout",
     "output_type": "stream",
     "text": [
      "\n",
      "      Epoch    GPU_mem   box_loss   seg_loss   cls_loss   dfl_loss  Instances       Size\n"
     ]
    },
    {
     "name": "stderr",
     "output_type": "stream",
     "text": [
      "     50/150       4.3G     0.8017      1.291     0.7503      1.145         37        640: 100%|██████████| 50/50 [00:05<00:00,  9.09it/s]\n",
      "                 Class     Images  Instances      Box(P          R      mAP50  mAP50-95)     Mask(P          R      mAP50  mAP50-95): 100%|██████████| 7/7 [00:00<00:00,  7.03it/s]"
     ]
    },
    {
     "name": "stdout",
     "output_type": "stream",
     "text": [
      "                   all        200        213      0.875      0.873      0.917      0.719       0.92      0.831      0.917      0.711\n"
     ]
    },
    {
     "name": "stderr",
     "output_type": "stream",
     "text": [
      "\n"
     ]
    },
    {
     "name": "stdout",
     "output_type": "stream",
     "text": [
      "\n",
      "      Epoch    GPU_mem   box_loss   seg_loss   cls_loss   dfl_loss  Instances       Size\n"
     ]
    },
    {
     "name": "stderr",
     "output_type": "stream",
     "text": [
      "     51/150       4.3G     0.7996      1.265     0.7428      1.136         35        640: 100%|██████████| 50/50 [00:05<00:00,  9.07it/s]\n",
      "                 Class     Images  Instances      Box(P          R      mAP50  mAP50-95)     Mask(P          R      mAP50  mAP50-95): 100%|██████████| 7/7 [00:01<00:00,  6.53it/s]"
     ]
    },
    {
     "name": "stdout",
     "output_type": "stream",
     "text": [
      "                   all        200        213      0.875      0.819      0.918      0.723       0.87      0.831      0.918      0.721\n"
     ]
    },
    {
     "name": "stderr",
     "output_type": "stream",
     "text": [
      "\n"
     ]
    },
    {
     "name": "stdout",
     "output_type": "stream",
     "text": [
      "\n",
      "      Epoch    GPU_mem   box_loss   seg_loss   cls_loss   dfl_loss  Instances       Size\n"
     ]
    },
    {
     "name": "stderr",
     "output_type": "stream",
     "text": [
      "     52/150       4.3G     0.8017      1.293     0.7641      1.149         44        640: 100%|██████████| 50/50 [00:05<00:00,  8.85it/s]\n",
      "                 Class     Images  Instances      Box(P          R      mAP50  mAP50-95)     Mask(P          R      mAP50  mAP50-95): 100%|██████████| 7/7 [00:01<00:00,  6.69it/s]"
     ]
    },
    {
     "name": "stdout",
     "output_type": "stream",
     "text": [
      "                   all        200        213      0.891      0.841      0.917      0.723      0.908      0.834      0.922      0.719\n"
     ]
    },
    {
     "name": "stderr",
     "output_type": "stream",
     "text": [
      "\n"
     ]
    },
    {
     "name": "stdout",
     "output_type": "stream",
     "text": [
      "\n",
      "      Epoch    GPU_mem   box_loss   seg_loss   cls_loss   dfl_loss  Instances       Size\n"
     ]
    },
    {
     "name": "stderr",
     "output_type": "stream",
     "text": [
      "     53/150       4.3G     0.7909      1.269      0.737       1.13         33        640: 100%|██████████| 50/50 [00:05<00:00,  8.80it/s]\n",
      "                 Class     Images  Instances      Box(P          R      mAP50  mAP50-95)     Mask(P          R      mAP50  mAP50-95): 100%|██████████| 7/7 [00:01<00:00,  6.58it/s]"
     ]
    },
    {
     "name": "stdout",
     "output_type": "stream",
     "text": [
      "                   all        200        213      0.892      0.813      0.904       0.71      0.902      0.824      0.916      0.729\n"
     ]
    },
    {
     "name": "stderr",
     "output_type": "stream",
     "text": [
      "\n"
     ]
    },
    {
     "name": "stdout",
     "output_type": "stream",
     "text": [
      "\n",
      "      Epoch    GPU_mem   box_loss   seg_loss   cls_loss   dfl_loss  Instances       Size\n"
     ]
    },
    {
     "name": "stderr",
     "output_type": "stream",
     "text": [
      "     54/150       4.3G     0.7773      1.185     0.7313       1.13         40        640: 100%|██████████| 50/50 [00:05<00:00,  8.76it/s]\n",
      "                 Class     Images  Instances      Box(P          R      mAP50  mAP50-95)     Mask(P          R      mAP50  mAP50-95): 100%|██████████| 7/7 [00:01<00:00,  6.69it/s]"
     ]
    },
    {
     "name": "stdout",
     "output_type": "stream",
     "text": [
      "                   all        200        213      0.874      0.876       0.92      0.734      0.873      0.873      0.924      0.738\n"
     ]
    },
    {
     "name": "stderr",
     "output_type": "stream",
     "text": [
      "\n"
     ]
    },
    {
     "name": "stdout",
     "output_type": "stream",
     "text": [
      "\n",
      "      Epoch    GPU_mem   box_loss   seg_loss   cls_loss   dfl_loss  Instances       Size\n"
     ]
    },
    {
     "name": "stderr",
     "output_type": "stream",
     "text": [
      "     55/150       4.3G     0.7567      1.176     0.7178      1.119         43        640: 100%|██████████| 50/50 [00:05<00:00,  8.84it/s]\n",
      "                 Class     Images  Instances      Box(P          R      mAP50  mAP50-95)     Mask(P          R      mAP50  mAP50-95): 100%|██████████| 7/7 [00:01<00:00,  6.80it/s]"
     ]
    },
    {
     "name": "stdout",
     "output_type": "stream",
     "text": [
      "                   all        200        213      0.923       0.84      0.911      0.714      0.934       0.85      0.916       0.73\n"
     ]
    },
    {
     "name": "stderr",
     "output_type": "stream",
     "text": [
      "\n"
     ]
    },
    {
     "name": "stdout",
     "output_type": "stream",
     "text": [
      "\n",
      "      Epoch    GPU_mem   box_loss   seg_loss   cls_loss   dfl_loss  Instances       Size\n"
     ]
    },
    {
     "name": "stderr",
     "output_type": "stream",
     "text": [
      "     56/150       4.3G     0.7846      1.285     0.7619      1.139         26        640: 100%|██████████| 50/50 [00:05<00:00,  9.13it/s]\n",
      "                 Class     Images  Instances      Box(P          R      mAP50  mAP50-95)     Mask(P          R      mAP50  mAP50-95): 100%|██████████| 7/7 [00:01<00:00,  6.65it/s]"
     ]
    },
    {
     "name": "stdout",
     "output_type": "stream",
     "text": [
      "                   all        200        213      0.783      0.811      0.865       0.67      0.798      0.826      0.877      0.691\n"
     ]
    },
    {
     "name": "stderr",
     "output_type": "stream",
     "text": [
      "\n"
     ]
    },
    {
     "name": "stdout",
     "output_type": "stream",
     "text": [
      "\n",
      "      Epoch    GPU_mem   box_loss   seg_loss   cls_loss   dfl_loss  Instances       Size\n"
     ]
    },
    {
     "name": "stderr",
     "output_type": "stream",
     "text": [
      "     57/150       4.3G     0.7965      1.247     0.7658      1.152         38        640: 100%|██████████| 50/50 [00:05<00:00,  8.86it/s]\n",
      "                 Class     Images  Instances      Box(P          R      mAP50  mAP50-95)     Mask(P          R      mAP50  mAP50-95): 100%|██████████| 7/7 [00:01<00:00,  6.52it/s]"
     ]
    },
    {
     "name": "stdout",
     "output_type": "stream",
     "text": [
      "                   all        200        213      0.928      0.859      0.928      0.736       0.92      0.867      0.931      0.732\n"
     ]
    },
    {
     "name": "stderr",
     "output_type": "stream",
     "text": [
      "\n"
     ]
    },
    {
     "name": "stdout",
     "output_type": "stream",
     "text": [
      "\n",
      "      Epoch    GPU_mem   box_loss   seg_loss   cls_loss   dfl_loss  Instances       Size\n"
     ]
    },
    {
     "name": "stderr",
     "output_type": "stream",
     "text": [
      "     58/150       4.3G     0.7758      1.206     0.7264       1.14         42        640: 100%|██████████| 50/50 [00:05<00:00,  8.93it/s]\n",
      "                 Class     Images  Instances      Box(P          R      mAP50  mAP50-95)     Mask(P          R      mAP50  mAP50-95): 100%|██████████| 7/7 [00:00<00:00,  7.01it/s]"
     ]
    },
    {
     "name": "stdout",
     "output_type": "stream",
     "text": [
      "                   all        200        213      0.945      0.826      0.919      0.722      0.956      0.836      0.935      0.732\n"
     ]
    },
    {
     "name": "stderr",
     "output_type": "stream",
     "text": [
      "\n"
     ]
    },
    {
     "name": "stdout",
     "output_type": "stream",
     "text": [
      "\n",
      "      Epoch    GPU_mem   box_loss   seg_loss   cls_loss   dfl_loss  Instances       Size\n"
     ]
    },
    {
     "name": "stderr",
     "output_type": "stream",
     "text": [
      "     59/150       4.3G     0.7823      1.255     0.7581      1.139         33        640: 100%|██████████| 50/50 [00:05<00:00,  9.19it/s]\n",
      "                 Class     Images  Instances      Box(P          R      mAP50  mAP50-95)     Mask(P          R      mAP50  mAP50-95): 100%|██████████| 7/7 [00:01<00:00,  6.99it/s]"
     ]
    },
    {
     "name": "stdout",
     "output_type": "stream",
     "text": [
      "                   all        200        213      0.934      0.803      0.921      0.733       0.94      0.808      0.928      0.733\n"
     ]
    },
    {
     "name": "stderr",
     "output_type": "stream",
     "text": [
      "\n"
     ]
    },
    {
     "name": "stdout",
     "output_type": "stream",
     "text": [
      "\n",
      "      Epoch    GPU_mem   box_loss   seg_loss   cls_loss   dfl_loss  Instances       Size\n"
     ]
    },
    {
     "name": "stderr",
     "output_type": "stream",
     "text": [
      "     60/150       4.3G     0.7675      1.215     0.7172      1.133         38        640: 100%|██████████| 50/50 [00:05<00:00,  9.12it/s]\n",
      "                 Class     Images  Instances      Box(P          R      mAP50  mAP50-95)     Mask(P          R      mAP50  mAP50-95): 100%|██████████| 7/7 [00:01<00:00,  6.96it/s]"
     ]
    },
    {
     "name": "stdout",
     "output_type": "stream",
     "text": [
      "                   all        200        213      0.924      0.826      0.921      0.714      0.929      0.831      0.928      0.722\n"
     ]
    },
    {
     "name": "stderr",
     "output_type": "stream",
     "text": [
      "\n"
     ]
    },
    {
     "name": "stdout",
     "output_type": "stream",
     "text": [
      "\n",
      "      Epoch    GPU_mem   box_loss   seg_loss   cls_loss   dfl_loss  Instances       Size\n"
     ]
    },
    {
     "name": "stderr",
     "output_type": "stream",
     "text": [
      "     61/150       4.3G     0.7719      1.179     0.7168      1.134         35        640: 100%|██████████| 50/50 [00:05<00:00,  9.24it/s]\n",
      "                 Class     Images  Instances      Box(P          R      mAP50  mAP50-95)     Mask(P          R      mAP50  mAP50-95): 100%|██████████| 7/7 [00:01<00:00,  6.98it/s]"
     ]
    },
    {
     "name": "stdout",
     "output_type": "stream",
     "text": [
      "                   all        200        213      0.936      0.845      0.919      0.728      0.942       0.85      0.931      0.736\n"
     ]
    },
    {
     "name": "stderr",
     "output_type": "stream",
     "text": [
      "\n"
     ]
    },
    {
     "name": "stdout",
     "output_type": "stream",
     "text": [
      "\n",
      "      Epoch    GPU_mem   box_loss   seg_loss   cls_loss   dfl_loss  Instances       Size\n"
     ]
    },
    {
     "name": "stderr",
     "output_type": "stream",
     "text": [
      "     62/150       4.3G     0.7547      1.197     0.7069      1.122         36        640: 100%|██████████| 50/50 [00:05<00:00,  8.96it/s]\n",
      "                 Class     Images  Instances      Box(P          R      mAP50  mAP50-95)     Mask(P          R      mAP50  mAP50-95): 100%|██████████| 7/7 [00:01<00:00,  6.67it/s]"
     ]
    },
    {
     "name": "stdout",
     "output_type": "stream",
     "text": [
      "                   all        200        213      0.881      0.864      0.919      0.703      0.891      0.873      0.922      0.712\n"
     ]
    },
    {
     "name": "stderr",
     "output_type": "stream",
     "text": [
      "\n"
     ]
    },
    {
     "name": "stdout",
     "output_type": "stream",
     "text": [
      "\n",
      "      Epoch    GPU_mem   box_loss   seg_loss   cls_loss   dfl_loss  Instances       Size\n"
     ]
    },
    {
     "name": "stderr",
     "output_type": "stream",
     "text": [
      "     63/150       4.3G      0.741      1.166      0.695       1.11         35        640: 100%|██████████| 50/50 [00:05<00:00,  9.07it/s]\n",
      "                 Class     Images  Instances      Box(P          R      mAP50  mAP50-95)     Mask(P          R      mAP50  mAP50-95): 100%|██████████| 7/7 [00:01<00:00,  6.50it/s]"
     ]
    },
    {
     "name": "stdout",
     "output_type": "stream",
     "text": [
      "                   all        200        213       0.91      0.812      0.906      0.713      0.915      0.817       0.91      0.718\n"
     ]
    },
    {
     "name": "stderr",
     "output_type": "stream",
     "text": [
      "\n"
     ]
    },
    {
     "name": "stdout",
     "output_type": "stream",
     "text": [
      "\n",
      "      Epoch    GPU_mem   box_loss   seg_loss   cls_loss   dfl_loss  Instances       Size\n"
     ]
    },
    {
     "name": "stderr",
     "output_type": "stream",
     "text": [
      "     64/150       4.3G     0.7726      1.204     0.7067      1.126         30        640: 100%|██████████| 50/50 [00:05<00:00,  8.95it/s]\n",
      "                 Class     Images  Instances      Box(P          R      mAP50  mAP50-95)     Mask(P          R      mAP50  mAP50-95): 100%|██████████| 7/7 [00:01<00:00,  6.99it/s]"
     ]
    },
    {
     "name": "stdout",
     "output_type": "stream",
     "text": [
      "                   all        200        213      0.903      0.828      0.924      0.741      0.903      0.828      0.929       0.74\n"
     ]
    },
    {
     "name": "stderr",
     "output_type": "stream",
     "text": [
      "\n"
     ]
    },
    {
     "name": "stdout",
     "output_type": "stream",
     "text": [
      "\n",
      "      Epoch    GPU_mem   box_loss   seg_loss   cls_loss   dfl_loss  Instances       Size\n"
     ]
    },
    {
     "name": "stderr",
     "output_type": "stream",
     "text": [
      "     65/150       4.3G     0.7308      1.139     0.6762      1.105         26        640: 100%|██████████| 50/50 [00:05<00:00,  8.94it/s]\n",
      "                 Class     Images  Instances      Box(P          R      mAP50  mAP50-95)     Mask(P          R      mAP50  mAP50-95): 100%|██████████| 7/7 [00:01<00:00,  6.85it/s]"
     ]
    },
    {
     "name": "stdout",
     "output_type": "stream",
     "text": [
      "                   all        200        213      0.911      0.869       0.93      0.744      0.911      0.869      0.932      0.748\n"
     ]
    },
    {
     "name": "stderr",
     "output_type": "stream",
     "text": [
      "\n"
     ]
    },
    {
     "name": "stdout",
     "output_type": "stream",
     "text": [
      "\n",
      "      Epoch    GPU_mem   box_loss   seg_loss   cls_loss   dfl_loss  Instances       Size\n"
     ]
    },
    {
     "name": "stderr",
     "output_type": "stream",
     "text": [
      "     66/150       4.3G     0.7333      1.195     0.6996      1.097         37        640: 100%|██████████| 50/50 [00:05<00:00,  9.08it/s]\n",
      "                 Class     Images  Instances      Box(P          R      mAP50  mAP50-95)     Mask(P          R      mAP50  mAP50-95): 100%|██████████| 7/7 [00:01<00:00,  6.88it/s]"
     ]
    },
    {
     "name": "stdout",
     "output_type": "stream",
     "text": [
      "                   all        200        213      0.894      0.832      0.914      0.732      0.894      0.832      0.915      0.727\n"
     ]
    },
    {
     "name": "stderr",
     "output_type": "stream",
     "text": [
      "\n"
     ]
    },
    {
     "name": "stdout",
     "output_type": "stream",
     "text": [
      "\n",
      "      Epoch    GPU_mem   box_loss   seg_loss   cls_loss   dfl_loss  Instances       Size\n"
     ]
    },
    {
     "name": "stderr",
     "output_type": "stream",
     "text": [
      "     67/150       4.3G     0.7574      1.175     0.6596      1.134         32        640: 100%|██████████| 50/50 [00:05<00:00,  9.11it/s]\n",
      "                 Class     Images  Instances      Box(P          R      mAP50  mAP50-95)     Mask(P          R      mAP50  mAP50-95): 100%|██████████| 7/7 [00:01<00:00,  6.95it/s]"
     ]
    },
    {
     "name": "stdout",
     "output_type": "stream",
     "text": [
      "                   all        200        213      0.921      0.819      0.912      0.721      0.926      0.824       0.92      0.726\n"
     ]
    },
    {
     "name": "stderr",
     "output_type": "stream",
     "text": [
      "\n"
     ]
    },
    {
     "name": "stdout",
     "output_type": "stream",
     "text": [
      "\n",
      "      Epoch    GPU_mem   box_loss   seg_loss   cls_loss   dfl_loss  Instances       Size\n"
     ]
    },
    {
     "name": "stderr",
     "output_type": "stream",
     "text": [
      "     68/150       4.3G     0.7412      1.142     0.6844      1.115         36        640: 100%|██████████| 50/50 [00:05<00:00,  9.11it/s]\n",
      "                 Class     Images  Instances      Box(P          R      mAP50  mAP50-95)     Mask(P          R      mAP50  mAP50-95): 100%|██████████| 7/7 [00:01<00:00,  6.93it/s]"
     ]
    },
    {
     "name": "stdout",
     "output_type": "stream",
     "text": [
      "                   all        200        213      0.878      0.845      0.912      0.726      0.883      0.864      0.927      0.735\n"
     ]
    },
    {
     "name": "stderr",
     "output_type": "stream",
     "text": [
      "\n"
     ]
    },
    {
     "name": "stdout",
     "output_type": "stream",
     "text": [
      "\n",
      "      Epoch    GPU_mem   box_loss   seg_loss   cls_loss   dfl_loss  Instances       Size\n"
     ]
    },
    {
     "name": "stderr",
     "output_type": "stream",
     "text": [
      "     69/150       4.3G     0.7391      1.182     0.7002       1.11         27        640: 100%|██████████| 50/50 [00:05<00:00,  9.22it/s]\n",
      "                 Class     Images  Instances      Box(P          R      mAP50  mAP50-95)     Mask(P          R      mAP50  mAP50-95): 100%|██████████| 7/7 [00:01<00:00,  6.77it/s]"
     ]
    },
    {
     "name": "stdout",
     "output_type": "stream",
     "text": [
      "                   all        200        213      0.875      0.855      0.916      0.735      0.889      0.869      0.925      0.739\n"
     ]
    },
    {
     "name": "stderr",
     "output_type": "stream",
     "text": [
      "\n"
     ]
    },
    {
     "name": "stdout",
     "output_type": "stream",
     "text": [
      "\n",
      "      Epoch    GPU_mem   box_loss   seg_loss   cls_loss   dfl_loss  Instances       Size\n"
     ]
    },
    {
     "name": "stderr",
     "output_type": "stream",
     "text": [
      "     70/150       4.3G     0.7562      1.174     0.6735      1.118         34        640: 100%|██████████| 50/50 [00:05<00:00,  9.07it/s]\n",
      "                 Class     Images  Instances      Box(P          R      mAP50  mAP50-95)     Mask(P          R      mAP50  mAP50-95): 100%|██████████| 7/7 [00:01<00:00,  6.91it/s]"
     ]
    },
    {
     "name": "stdout",
     "output_type": "stream",
     "text": [
      "                   all        200        213      0.866      0.873       0.93      0.751      0.875      0.883      0.936       0.75\n"
     ]
    },
    {
     "name": "stderr",
     "output_type": "stream",
     "text": [
      "\n"
     ]
    },
    {
     "name": "stdout",
     "output_type": "stream",
     "text": [
      "\n",
      "      Epoch    GPU_mem   box_loss   seg_loss   cls_loss   dfl_loss  Instances       Size\n"
     ]
    },
    {
     "name": "stderr",
     "output_type": "stream",
     "text": [
      "     71/150       4.3G     0.7337      1.143     0.6544      1.092         35        640: 100%|██████████| 50/50 [00:05<00:00,  9.18it/s]\n",
      "                 Class     Images  Instances      Box(P          R      mAP50  mAP50-95)     Mask(P          R      mAP50  mAP50-95): 100%|██████████| 7/7 [00:00<00:00,  7.02it/s]"
     ]
    },
    {
     "name": "stdout",
     "output_type": "stream",
     "text": [
      "                   all        200        213      0.936      0.822      0.918      0.736      0.939      0.836      0.931      0.737\n"
     ]
    },
    {
     "name": "stderr",
     "output_type": "stream",
     "text": [
      "\n"
     ]
    },
    {
     "name": "stdout",
     "output_type": "stream",
     "text": [
      "\n",
      "      Epoch    GPU_mem   box_loss   seg_loss   cls_loss   dfl_loss  Instances       Size\n"
     ]
    },
    {
     "name": "stderr",
     "output_type": "stream",
     "text": [
      "     72/150       4.3G     0.7158      1.151     0.6547      1.099         31        640: 100%|██████████| 50/50 [00:05<00:00,  9.07it/s]\n",
      "                 Class     Images  Instances      Box(P          R      mAP50  mAP50-95)     Mask(P          R      mAP50  mAP50-95): 100%|██████████| 7/7 [00:01<00:00,  6.75it/s]"
     ]
    },
    {
     "name": "stdout",
     "output_type": "stream",
     "text": [
      "                   all        200        213      0.907      0.859      0.921      0.737      0.919      0.854      0.926      0.744\n"
     ]
    },
    {
     "name": "stderr",
     "output_type": "stream",
     "text": [
      "\n"
     ]
    },
    {
     "name": "stdout",
     "output_type": "stream",
     "text": [
      "\n",
      "      Epoch    GPU_mem   box_loss   seg_loss   cls_loss   dfl_loss  Instances       Size\n"
     ]
    },
    {
     "name": "stderr",
     "output_type": "stream",
     "text": [
      "     73/150       4.3G     0.7287       1.18     0.6814      1.104         42        640: 100%|██████████| 50/50 [00:05<00:00,  9.12it/s]\n",
      "                 Class     Images  Instances      Box(P          R      mAP50  mAP50-95)     Mask(P          R      mAP50  mAP50-95): 100%|██████████| 7/7 [00:01<00:00,  6.92it/s]"
     ]
    },
    {
     "name": "stdout",
     "output_type": "stream",
     "text": [
      "                   all        200        213       0.88      0.863      0.914      0.723      0.885      0.868      0.922      0.727\n"
     ]
    },
    {
     "name": "stderr",
     "output_type": "stream",
     "text": [
      "\n"
     ]
    },
    {
     "name": "stdout",
     "output_type": "stream",
     "text": [
      "\n",
      "      Epoch    GPU_mem   box_loss   seg_loss   cls_loss   dfl_loss  Instances       Size\n"
     ]
    },
    {
     "name": "stderr",
     "output_type": "stream",
     "text": [
      "     74/150       4.3G     0.7531      1.174     0.6752      1.121         41        640: 100%|██████████| 50/50 [00:05<00:00,  8.96it/s]\n",
      "                 Class     Images  Instances      Box(P          R      mAP50  mAP50-95)     Mask(P          R      mAP50  mAP50-95): 100%|██████████| 7/7 [00:01<00:00,  6.83it/s]"
     ]
    },
    {
     "name": "stdout",
     "output_type": "stream",
     "text": [
      "                   all        200        213      0.917      0.825      0.924      0.739      0.932      0.838      0.933      0.734\n"
     ]
    },
    {
     "name": "stderr",
     "output_type": "stream",
     "text": [
      "\n"
     ]
    },
    {
     "name": "stdout",
     "output_type": "stream",
     "text": [
      "\n",
      "      Epoch    GPU_mem   box_loss   seg_loss   cls_loss   dfl_loss  Instances       Size\n"
     ]
    },
    {
     "name": "stderr",
     "output_type": "stream",
     "text": [
      "     75/150       4.3G     0.7027      1.165     0.6324      1.093         39        640: 100%|██████████| 50/50 [00:05<00:00,  9.15it/s]\n",
      "                 Class     Images  Instances      Box(P          R      mAP50  mAP50-95)     Mask(P          R      mAP50  mAP50-95): 100%|██████████| 7/7 [00:01<00:00,  6.96it/s]"
     ]
    },
    {
     "name": "stdout",
     "output_type": "stream",
     "text": [
      "                   all        200        213      0.908      0.859      0.929      0.753      0.918      0.869       0.94      0.762\n"
     ]
    },
    {
     "name": "stderr",
     "output_type": "stream",
     "text": [
      "\n"
     ]
    },
    {
     "name": "stdout",
     "output_type": "stream",
     "text": [
      "\n",
      "      Epoch    GPU_mem   box_loss   seg_loss   cls_loss   dfl_loss  Instances       Size\n"
     ]
    },
    {
     "name": "stderr",
     "output_type": "stream",
     "text": [
      "     76/150       4.3G     0.7158      1.154     0.6522        1.1         33        640: 100%|██████████| 50/50 [00:05<00:00,  9.11it/s]\n",
      "                 Class     Images  Instances      Box(P          R      mAP50  mAP50-95)     Mask(P          R      mAP50  mAP50-95): 100%|██████████| 7/7 [00:01<00:00,  6.84it/s]"
     ]
    },
    {
     "name": "stdout",
     "output_type": "stream",
     "text": [
      "                   all        200        213      0.893      0.864      0.925       0.74      0.888       0.86       0.92      0.745\n"
     ]
    },
    {
     "name": "stderr",
     "output_type": "stream",
     "text": [
      "\n"
     ]
    },
    {
     "name": "stdout",
     "output_type": "stream",
     "text": [
      "\n",
      "      Epoch    GPU_mem   box_loss   seg_loss   cls_loss   dfl_loss  Instances       Size\n"
     ]
    },
    {
     "name": "stderr",
     "output_type": "stream",
     "text": [
      "     77/150       4.3G      0.707      1.104     0.6515      1.091         31        640: 100%|██████████| 50/50 [00:05<00:00,  9.11it/s]\n",
      "                 Class     Images  Instances      Box(P          R      mAP50  mAP50-95)     Mask(P          R      mAP50  mAP50-95): 100%|██████████| 7/7 [00:01<00:00,  6.83it/s]"
     ]
    },
    {
     "name": "stdout",
     "output_type": "stream",
     "text": [
      "                   all        200        213      0.915      0.859      0.928      0.757       0.92      0.864      0.934      0.751\n"
     ]
    },
    {
     "name": "stderr",
     "output_type": "stream",
     "text": [
      "\n"
     ]
    },
    {
     "name": "stdout",
     "output_type": "stream",
     "text": [
      "\n",
      "      Epoch    GPU_mem   box_loss   seg_loss   cls_loss   dfl_loss  Instances       Size\n"
     ]
    },
    {
     "name": "stderr",
     "output_type": "stream",
     "text": [
      "     78/150       4.3G     0.7074      1.115      0.636      1.092         28        640: 100%|██████████| 50/50 [00:05<00:00,  9.15it/s]\n",
      "                 Class     Images  Instances      Box(P          R      mAP50  mAP50-95)     Mask(P          R      mAP50  mAP50-95): 100%|██████████| 7/7 [00:00<00:00,  7.01it/s]"
     ]
    },
    {
     "name": "stdout",
     "output_type": "stream",
     "text": [
      "                   all        200        213      0.917      0.869      0.926      0.736      0.927      0.878      0.942      0.758\n"
     ]
    },
    {
     "name": "stderr",
     "output_type": "stream",
     "text": [
      "\n"
     ]
    },
    {
     "name": "stdout",
     "output_type": "stream",
     "text": [
      "\n",
      "      Epoch    GPU_mem   box_loss   seg_loss   cls_loss   dfl_loss  Instances       Size\n"
     ]
    },
    {
     "name": "stderr",
     "output_type": "stream",
     "text": [
      "     79/150       4.3G      0.721      1.124     0.6462      1.101         35        640: 100%|██████████| 50/50 [00:05<00:00,  9.02it/s]\n",
      "                 Class     Images  Instances      Box(P          R      mAP50  mAP50-95)     Mask(P          R      mAP50  mAP50-95): 100%|██████████| 7/7 [00:01<00:00,  6.72it/s]"
     ]
    },
    {
     "name": "stdout",
     "output_type": "stream",
     "text": [
      "                   all        200        213      0.913       0.85      0.911      0.725       0.92      0.864      0.916      0.734\n"
     ]
    },
    {
     "name": "stderr",
     "output_type": "stream",
     "text": [
      "\n"
     ]
    },
    {
     "name": "stdout",
     "output_type": "stream",
     "text": [
      "\n",
      "      Epoch    GPU_mem   box_loss   seg_loss   cls_loss   dfl_loss  Instances       Size\n"
     ]
    },
    {
     "name": "stderr",
     "output_type": "stream",
     "text": [
      "     80/150       4.3G     0.7064        1.1     0.6172      1.085         34        640: 100%|██████████| 50/50 [00:05<00:00,  9.01it/s]\n",
      "                 Class     Images  Instances      Box(P          R      mAP50  mAP50-95)     Mask(P          R      mAP50  mAP50-95): 100%|██████████| 7/7 [00:01<00:00,  6.89it/s]"
     ]
    },
    {
     "name": "stdout",
     "output_type": "stream",
     "text": [
      "                   all        200        213      0.877      0.869      0.926       0.74      0.894      0.878      0.936      0.746\n"
     ]
    },
    {
     "name": "stderr",
     "output_type": "stream",
     "text": [
      "\n"
     ]
    },
    {
     "name": "stdout",
     "output_type": "stream",
     "text": [
      "\n",
      "      Epoch    GPU_mem   box_loss   seg_loss   cls_loss   dfl_loss  Instances       Size\n"
     ]
    },
    {
     "name": "stderr",
     "output_type": "stream",
     "text": [
      "     81/150       4.3G     0.7111      1.099     0.6144      1.091         37        640: 100%|██████████| 50/50 [00:05<00:00,  9.03it/s]\n",
      "                 Class     Images  Instances      Box(P          R      mAP50  mAP50-95)     Mask(P          R      mAP50  mAP50-95): 100%|██████████| 7/7 [00:01<00:00,  6.74it/s]"
     ]
    },
    {
     "name": "stdout",
     "output_type": "stream",
     "text": [
      "                   all        200        213      0.942      0.839       0.94      0.763      0.949      0.845      0.946      0.763\n"
     ]
    },
    {
     "name": "stderr",
     "output_type": "stream",
     "text": [
      "\n"
     ]
    },
    {
     "name": "stdout",
     "output_type": "stream",
     "text": [
      "\n",
      "      Epoch    GPU_mem   box_loss   seg_loss   cls_loss   dfl_loss  Instances       Size\n"
     ]
    },
    {
     "name": "stderr",
     "output_type": "stream",
     "text": [
      "     82/150       4.3G     0.6943      1.099     0.6169      1.083         33        640: 100%|██████████| 50/50 [00:05<00:00,  9.16it/s]\n",
      "                 Class     Images  Instances      Box(P          R      mAP50  mAP50-95)     Mask(P          R      mAP50  mAP50-95): 100%|██████████| 7/7 [00:01<00:00,  6.81it/s]"
     ]
    },
    {
     "name": "stdout",
     "output_type": "stream",
     "text": [
      "                   all        200        213      0.921      0.821      0.905      0.736      0.918      0.831      0.913      0.739\n"
     ]
    },
    {
     "name": "stderr",
     "output_type": "stream",
     "text": [
      "\n"
     ]
    },
    {
     "name": "stdout",
     "output_type": "stream",
     "text": [
      "\n",
      "      Epoch    GPU_mem   box_loss   seg_loss   cls_loss   dfl_loss  Instances       Size\n"
     ]
    },
    {
     "name": "stderr",
     "output_type": "stream",
     "text": [
      "     83/150       4.3G     0.7103      1.115     0.6281      1.083         47        640: 100%|██████████| 50/50 [00:05<00:00,  9.16it/s]\n",
      "                 Class     Images  Instances      Box(P          R      mAP50  mAP50-95)     Mask(P          R      mAP50  mAP50-95): 100%|██████████| 7/7 [00:01<00:00,  6.91it/s]"
     ]
    },
    {
     "name": "stdout",
     "output_type": "stream",
     "text": [
      "                   all        200        213      0.943      0.848      0.932       0.74      0.943      0.848      0.933      0.745\n"
     ]
    },
    {
     "name": "stderr",
     "output_type": "stream",
     "text": [
      "\n"
     ]
    },
    {
     "name": "stdout",
     "output_type": "stream",
     "text": [
      "\n",
      "      Epoch    GPU_mem   box_loss   seg_loss   cls_loss   dfl_loss  Instances       Size\n"
     ]
    },
    {
     "name": "stderr",
     "output_type": "stream",
     "text": [
      "     84/150       4.3G     0.6806      1.065     0.6103      1.054         36        640: 100%|██████████| 50/50 [00:05<00:00,  8.95it/s]\n",
      "                 Class     Images  Instances      Box(P          R      mAP50  mAP50-95)     Mask(P          R      mAP50  mAP50-95): 100%|██████████| 7/7 [00:01<00:00,  6.91it/s]"
     ]
    },
    {
     "name": "stdout",
     "output_type": "stream",
     "text": [
      "                   all        200        213      0.896      0.812      0.883      0.678      0.902      0.817      0.891       0.69\n"
     ]
    },
    {
     "name": "stderr",
     "output_type": "stream",
     "text": [
      "\n"
     ]
    },
    {
     "name": "stdout",
     "output_type": "stream",
     "text": [
      "\n",
      "      Epoch    GPU_mem   box_loss   seg_loss   cls_loss   dfl_loss  Instances       Size\n"
     ]
    },
    {
     "name": "stderr",
     "output_type": "stream",
     "text": [
      "     85/150       4.3G     0.7161      1.108     0.6305      1.086         37        640: 100%|██████████| 50/50 [00:05<00:00,  8.88it/s]\n",
      "                 Class     Images  Instances      Box(P          R      mAP50  mAP50-95)     Mask(P          R      mAP50  mAP50-95): 100%|██████████| 7/7 [00:01<00:00,  6.82it/s]"
     ]
    },
    {
     "name": "stdout",
     "output_type": "stream",
     "text": [
      "                   all        200        213      0.921      0.831       0.92      0.724      0.896      0.883      0.936      0.742\n"
     ]
    },
    {
     "name": "stderr",
     "output_type": "stream",
     "text": [
      "\n"
     ]
    },
    {
     "name": "stdout",
     "output_type": "stream",
     "text": [
      "\n",
      "      Epoch    GPU_mem   box_loss   seg_loss   cls_loss   dfl_loss  Instances       Size\n"
     ]
    },
    {
     "name": "stderr",
     "output_type": "stream",
     "text": [
      "     86/150       4.3G     0.7128      1.125     0.6449      1.082         29        640: 100%|██████████| 50/50 [00:05<00:00,  8.77it/s]\n",
      "                 Class     Images  Instances      Box(P          R      mAP50  mAP50-95)     Mask(P          R      mAP50  mAP50-95): 100%|██████████| 7/7 [00:01<00:00,  6.73it/s]"
     ]
    },
    {
     "name": "stdout",
     "output_type": "stream",
     "text": [
      "                   all        200        213      0.913      0.869      0.935      0.764      0.918      0.873      0.937      0.766\n"
     ]
    },
    {
     "name": "stderr",
     "output_type": "stream",
     "text": [
      "\n"
     ]
    },
    {
     "name": "stdout",
     "output_type": "stream",
     "text": [
      "\n",
      "      Epoch    GPU_mem   box_loss   seg_loss   cls_loss   dfl_loss  Instances       Size\n"
     ]
    },
    {
     "name": "stderr",
     "output_type": "stream",
     "text": [
      "     87/150       4.3G     0.6742      1.066     0.6114      1.077         38        640: 100%|██████████| 50/50 [00:05<00:00,  9.12it/s]\n",
      "                 Class     Images  Instances      Box(P          R      mAP50  mAP50-95)     Mask(P          R      mAP50  mAP50-95): 100%|██████████| 7/7 [00:00<00:00,  7.04it/s]"
     ]
    },
    {
     "name": "stdout",
     "output_type": "stream",
     "text": [
      "                   all        200        213      0.943      0.862      0.939      0.765      0.954      0.871      0.942      0.769\n"
     ]
    },
    {
     "name": "stderr",
     "output_type": "stream",
     "text": [
      "\n"
     ]
    },
    {
     "name": "stdout",
     "output_type": "stream",
     "text": [
      "\n",
      "      Epoch    GPU_mem   box_loss   seg_loss   cls_loss   dfl_loss  Instances       Size\n"
     ]
    },
    {
     "name": "stderr",
     "output_type": "stream",
     "text": [
      "     88/150       4.3G     0.6706      1.093     0.6061      1.064         32        640: 100%|██████████| 50/50 [00:05<00:00,  9.15it/s]\n",
      "                 Class     Images  Instances      Box(P          R      mAP50  mAP50-95)     Mask(P          R      mAP50  mAP50-95): 100%|██████████| 7/7 [00:01<00:00,  6.82it/s]"
     ]
    },
    {
     "name": "stdout",
     "output_type": "stream",
     "text": [
      "                   all        200        213      0.886      0.876      0.933      0.762      0.891       0.88      0.946      0.761\n"
     ]
    },
    {
     "name": "stderr",
     "output_type": "stream",
     "text": [
      "\n"
     ]
    },
    {
     "name": "stdout",
     "output_type": "stream",
     "text": [
      "\n",
      "      Epoch    GPU_mem   box_loss   seg_loss   cls_loss   dfl_loss  Instances       Size\n"
     ]
    },
    {
     "name": "stderr",
     "output_type": "stream",
     "text": [
      "     89/150       4.3G     0.6685       1.03     0.5985      1.059         52        640: 100%|██████████| 50/50 [00:05<00:00,  9.12it/s]\n",
      "                 Class     Images  Instances      Box(P          R      mAP50  mAP50-95)     Mask(P          R      mAP50  mAP50-95): 100%|██████████| 7/7 [00:01<00:00,  6.93it/s]"
     ]
    },
    {
     "name": "stdout",
     "output_type": "stream",
     "text": [
      "                   all        200        213      0.917      0.884      0.935      0.758      0.912      0.874      0.935      0.761\n"
     ]
    },
    {
     "name": "stderr",
     "output_type": "stream",
     "text": [
      "\n"
     ]
    },
    {
     "name": "stdout",
     "output_type": "stream",
     "text": [
      "\n",
      "      Epoch    GPU_mem   box_loss   seg_loss   cls_loss   dfl_loss  Instances       Size\n"
     ]
    },
    {
     "name": "stderr",
     "output_type": "stream",
     "text": [
      "     90/150       4.3G     0.6872      1.075     0.6098      1.065         41        640: 100%|██████████| 50/50 [00:05<00:00,  8.84it/s]\n",
      "                 Class     Images  Instances      Box(P          R      mAP50  mAP50-95)     Mask(P          R      mAP50  mAP50-95): 100%|██████████| 7/7 [00:01<00:00,  6.96it/s]"
     ]
    },
    {
     "name": "stdout",
     "output_type": "stream",
     "text": [
      "                   all        200        213      0.901      0.895      0.945      0.765      0.901      0.895      0.944      0.763\n"
     ]
    },
    {
     "name": "stderr",
     "output_type": "stream",
     "text": [
      "\n"
     ]
    },
    {
     "name": "stdout",
     "output_type": "stream",
     "text": [
      "\n",
      "      Epoch    GPU_mem   box_loss   seg_loss   cls_loss   dfl_loss  Instances       Size\n"
     ]
    },
    {
     "name": "stderr",
     "output_type": "stream",
     "text": [
      "     91/150       4.3G     0.7006      1.078     0.6303      1.098         24        640: 100%|██████████| 50/50 [00:05<00:00,  9.15it/s]\n",
      "                 Class     Images  Instances      Box(P          R      mAP50  mAP50-95)     Mask(P          R      mAP50  mAP50-95): 100%|██████████| 7/7 [00:01<00:00,  6.96it/s]"
     ]
    },
    {
     "name": "stdout",
     "output_type": "stream",
     "text": [
      "                   all        200        213      0.897      0.883      0.926      0.735      0.893      0.883      0.927      0.744\n"
     ]
    },
    {
     "name": "stderr",
     "output_type": "stream",
     "text": [
      "\n"
     ]
    },
    {
     "name": "stdout",
     "output_type": "stream",
     "text": [
      "\n",
      "      Epoch    GPU_mem   box_loss   seg_loss   cls_loss   dfl_loss  Instances       Size\n"
     ]
    },
    {
     "name": "stderr",
     "output_type": "stream",
     "text": [
      "     92/150       4.3G     0.6965      1.103     0.6335      1.079         32        640: 100%|██████████| 50/50 [00:05<00:00,  8.99it/s]\n",
      "                 Class     Images  Instances      Box(P          R      mAP50  mAP50-95)     Mask(P          R      mAP50  mAP50-95): 100%|██████████| 7/7 [00:01<00:00,  6.87it/s]"
     ]
    },
    {
     "name": "stdout",
     "output_type": "stream",
     "text": [
      "                   all        200        213      0.938      0.859      0.927      0.745      0.926       0.88      0.931      0.742\n"
     ]
    },
    {
     "name": "stderr",
     "output_type": "stream",
     "text": [
      "\n"
     ]
    },
    {
     "name": "stdout",
     "output_type": "stream",
     "text": [
      "\n",
      "      Epoch    GPU_mem   box_loss   seg_loss   cls_loss   dfl_loss  Instances       Size\n"
     ]
    },
    {
     "name": "stderr",
     "output_type": "stream",
     "text": [
      "     93/150       4.3G     0.6785      1.064     0.5927      1.064         42        640: 100%|██████████| 50/50 [00:05<00:00,  9.03it/s]\n",
      "                 Class     Images  Instances      Box(P          R      mAP50  mAP50-95)     Mask(P          R      mAP50  mAP50-95): 100%|██████████| 7/7 [00:01<00:00,  6.86it/s]"
     ]
    },
    {
     "name": "stdout",
     "output_type": "stream",
     "text": [
      "                   all        200        213      0.856      0.906      0.939      0.773      0.861      0.911       0.94      0.773\n"
     ]
    },
    {
     "name": "stderr",
     "output_type": "stream",
     "text": [
      "\n"
     ]
    },
    {
     "name": "stdout",
     "output_type": "stream",
     "text": [
      "\n",
      "      Epoch    GPU_mem   box_loss   seg_loss   cls_loss   dfl_loss  Instances       Size\n"
     ]
    },
    {
     "name": "stderr",
     "output_type": "stream",
     "text": [
      "     94/150       4.3G     0.6623      1.049     0.5777       1.06         24        640: 100%|██████████| 50/50 [00:05<00:00,  8.95it/s]\n",
      "                 Class     Images  Instances      Box(P          R      mAP50  mAP50-95)     Mask(P          R      mAP50  mAP50-95): 100%|██████████| 7/7 [00:01<00:00,  6.91it/s]"
     ]
    },
    {
     "name": "stdout",
     "output_type": "stream",
     "text": [
      "                   all        200        213      0.908      0.836      0.914       0.74      0.923       0.85      0.927      0.739\n"
     ]
    },
    {
     "name": "stderr",
     "output_type": "stream",
     "text": [
      "\n"
     ]
    },
    {
     "name": "stdout",
     "output_type": "stream",
     "text": [
      "\n",
      "      Epoch    GPU_mem   box_loss   seg_loss   cls_loss   dfl_loss  Instances       Size\n"
     ]
    },
    {
     "name": "stderr",
     "output_type": "stream",
     "text": [
      "     95/150       4.3G     0.6546      1.019     0.5676      1.063         34        640: 100%|██████████| 50/50 [00:05<00:00,  9.21it/s]\n",
      "                 Class     Images  Instances      Box(P          R      mAP50  mAP50-95)     Mask(P          R      mAP50  mAP50-95): 100%|██████████| 7/7 [00:01<00:00,  6.84it/s]"
     ]
    },
    {
     "name": "stdout",
     "output_type": "stream",
     "text": [
      "                   all        200        213      0.903      0.887      0.939      0.768      0.914      0.895      0.945      0.764\n"
     ]
    },
    {
     "name": "stderr",
     "output_type": "stream",
     "text": [
      "\n"
     ]
    },
    {
     "name": "stdout",
     "output_type": "stream",
     "text": [
      "\n",
      "      Epoch    GPU_mem   box_loss   seg_loss   cls_loss   dfl_loss  Instances       Size\n"
     ]
    },
    {
     "name": "stderr",
     "output_type": "stream",
     "text": [
      "     96/150       4.3G     0.6637      1.055     0.5936      1.063         40        640: 100%|██████████| 50/50 [00:05<00:00,  9.06it/s]\n",
      "                 Class     Images  Instances      Box(P          R      mAP50  mAP50-95)     Mask(P          R      mAP50  mAP50-95): 100%|██████████| 7/7 [00:01<00:00,  6.89it/s]"
     ]
    },
    {
     "name": "stdout",
     "output_type": "stream",
     "text": [
      "                   all        200        213      0.922      0.838      0.927      0.758      0.933      0.844      0.933      0.756\n"
     ]
    },
    {
     "name": "stderr",
     "output_type": "stream",
     "text": [
      "\n"
     ]
    },
    {
     "name": "stdout",
     "output_type": "stream",
     "text": [
      "\n",
      "      Epoch    GPU_mem   box_loss   seg_loss   cls_loss   dfl_loss  Instances       Size\n"
     ]
    },
    {
     "name": "stderr",
     "output_type": "stream",
     "text": [
      "     97/150       4.3G     0.6749      1.046     0.5778      1.047         34        640: 100%|██████████| 50/50 [00:05<00:00,  9.22it/s]\n",
      "                 Class     Images  Instances      Box(P          R      mAP50  mAP50-95)     Mask(P          R      mAP50  mAP50-95): 100%|██████████| 7/7 [00:01<00:00,  6.92it/s]"
     ]
    },
    {
     "name": "stdout",
     "output_type": "stream",
     "text": [
      "                   all        200        213      0.875      0.886      0.933      0.756      0.888      0.892      0.944      0.749\n"
     ]
    },
    {
     "name": "stderr",
     "output_type": "stream",
     "text": [
      "\n"
     ]
    },
    {
     "name": "stdout",
     "output_type": "stream",
     "text": [
      "\n",
      "      Epoch    GPU_mem   box_loss   seg_loss   cls_loss   dfl_loss  Instances       Size\n"
     ]
    },
    {
     "name": "stderr",
     "output_type": "stream",
     "text": [
      "     98/150       4.3G     0.6765      1.052     0.5824      1.066         44        640: 100%|██████████| 50/50 [00:05<00:00,  9.12it/s]\n",
      "                 Class     Images  Instances      Box(P          R      mAP50  mAP50-95)     Mask(P          R      mAP50  mAP50-95): 100%|██████████| 7/7 [00:01<00:00,  6.88it/s]"
     ]
    },
    {
     "name": "stdout",
     "output_type": "stream",
     "text": [
      "                   all        200        213      0.932      0.854      0.939      0.743      0.943      0.864      0.948      0.752\n"
     ]
    },
    {
     "name": "stderr",
     "output_type": "stream",
     "text": [
      "\n"
     ]
    },
    {
     "name": "stdout",
     "output_type": "stream",
     "text": [
      "\n",
      "      Epoch    GPU_mem   box_loss   seg_loss   cls_loss   dfl_loss  Instances       Size\n"
     ]
    },
    {
     "name": "stderr",
     "output_type": "stream",
     "text": [
      "     99/150       4.3G     0.6473      1.013     0.5479      1.053         26        640: 100%|██████████| 50/50 [00:05<00:00,  9.09it/s]\n",
      "                 Class     Images  Instances      Box(P          R      mAP50  mAP50-95)     Mask(P          R      mAP50  mAP50-95): 100%|██████████| 7/7 [00:00<00:00,  7.05it/s]"
     ]
    },
    {
     "name": "stdout",
     "output_type": "stream",
     "text": [
      "                   all        200        213      0.943      0.848      0.931      0.761      0.943      0.848      0.932      0.761\n"
     ]
    },
    {
     "name": "stderr",
     "output_type": "stream",
     "text": [
      "\n"
     ]
    },
    {
     "name": "stdout",
     "output_type": "stream",
     "text": [
      "\n",
      "      Epoch    GPU_mem   box_loss   seg_loss   cls_loss   dfl_loss  Instances       Size\n"
     ]
    },
    {
     "name": "stderr",
     "output_type": "stream",
     "text": [
      "    100/150       4.3G     0.6431      1.021     0.5309      1.043         39        640: 100%|██████████| 50/50 [00:05<00:00,  8.95it/s]\n",
      "                 Class     Images  Instances      Box(P          R      mAP50  mAP50-95)     Mask(P          R      mAP50  mAP50-95): 100%|██████████| 7/7 [00:01<00:00,  6.92it/s]"
     ]
    },
    {
     "name": "stdout",
     "output_type": "stream",
     "text": [
      "                   all        200        213      0.893      0.897       0.93      0.756      0.892      0.892      0.929      0.756\n"
     ]
    },
    {
     "name": "stderr",
     "output_type": "stream",
     "text": [
      "\n"
     ]
    },
    {
     "name": "stdout",
     "output_type": "stream",
     "text": [
      "\n",
      "      Epoch    GPU_mem   box_loss   seg_loss   cls_loss   dfl_loss  Instances       Size\n"
     ]
    },
    {
     "name": "stderr",
     "output_type": "stream",
     "text": [
      "    101/150       4.3G     0.6311      1.026     0.5425      1.048         33        640: 100%|██████████| 50/50 [00:05<00:00,  9.11it/s]\n",
      "                 Class     Images  Instances      Box(P          R      mAP50  mAP50-95)     Mask(P          R      mAP50  mAP50-95): 100%|██████████| 7/7 [00:01<00:00,  6.75it/s]"
     ]
    },
    {
     "name": "stdout",
     "output_type": "stream",
     "text": [
      "                   all        200        213      0.894      0.845       0.93      0.749      0.904      0.854      0.936      0.756\n"
     ]
    },
    {
     "name": "stderr",
     "output_type": "stream",
     "text": [
      "\n"
     ]
    },
    {
     "name": "stdout",
     "output_type": "stream",
     "text": [
      "\n",
      "      Epoch    GPU_mem   box_loss   seg_loss   cls_loss   dfl_loss  Instances       Size\n"
     ]
    },
    {
     "name": "stderr",
     "output_type": "stream",
     "text": [
      "    102/150       4.3G     0.6462      1.037     0.5598      1.047         30        640: 100%|██████████| 50/50 [00:05<00:00,  9.10it/s]\n",
      "                 Class     Images  Instances      Box(P          R      mAP50  mAP50-95)     Mask(P          R      mAP50  mAP50-95): 100%|██████████| 7/7 [00:01<00:00,  6.76it/s]"
     ]
    },
    {
     "name": "stdout",
     "output_type": "stream",
     "text": [
      "                   all        200        213      0.928      0.849      0.923      0.761      0.929      0.845      0.925      0.759\n"
     ]
    },
    {
     "name": "stderr",
     "output_type": "stream",
     "text": [
      "\n"
     ]
    },
    {
     "name": "stdout",
     "output_type": "stream",
     "text": [
      "\n",
      "      Epoch    GPU_mem   box_loss   seg_loss   cls_loss   dfl_loss  Instances       Size\n"
     ]
    },
    {
     "name": "stderr",
     "output_type": "stream",
     "text": [
      "    103/150       4.3G     0.6327     0.9952     0.5524      1.044         25        640: 100%|██████████| 50/50 [00:05<00:00,  8.72it/s]\n",
      "                 Class     Images  Instances      Box(P          R      mAP50  mAP50-95)     Mask(P          R      mAP50  mAP50-95): 100%|██████████| 7/7 [00:01<00:00,  6.36it/s]"
     ]
    },
    {
     "name": "stdout",
     "output_type": "stream",
     "text": [
      "                   all        200        213      0.922      0.829      0.922      0.743      0.932      0.839      0.928      0.747\n"
     ]
    },
    {
     "name": "stderr",
     "output_type": "stream",
     "text": [
      "\n"
     ]
    },
    {
     "name": "stdout",
     "output_type": "stream",
     "text": [
      "\n",
      "      Epoch    GPU_mem   box_loss   seg_loss   cls_loss   dfl_loss  Instances       Size\n"
     ]
    },
    {
     "name": "stderr",
     "output_type": "stream",
     "text": [
      "    104/150       4.3G     0.6374      1.019     0.5432      1.047         40        640: 100%|██████████| 50/50 [00:05<00:00,  9.12it/s]\n",
      "                 Class     Images  Instances      Box(P          R      mAP50  mAP50-95)     Mask(P          R      mAP50  mAP50-95): 100%|██████████| 7/7 [00:01<00:00,  6.93it/s]"
     ]
    },
    {
     "name": "stdout",
     "output_type": "stream",
     "text": [
      "                   all        200        213      0.926      0.883       0.94      0.769       0.93      0.887      0.945      0.769\n"
     ]
    },
    {
     "name": "stderr",
     "output_type": "stream",
     "text": [
      "\n"
     ]
    },
    {
     "name": "stdout",
     "output_type": "stream",
     "text": [
      "\n",
      "      Epoch    GPU_mem   box_loss   seg_loss   cls_loss   dfl_loss  Instances       Size\n"
     ]
    },
    {
     "name": "stderr",
     "output_type": "stream",
     "text": [
      "    105/150       4.3G     0.6487     0.9975       0.56      1.056         27        640: 100%|██████████| 50/50 [00:05<00:00,  8.76it/s]\n",
      "                 Class     Images  Instances      Box(P          R      mAP50  mAP50-95)     Mask(P          R      mAP50  mAP50-95): 100%|██████████| 7/7 [00:01<00:00,  6.87it/s]"
     ]
    },
    {
     "name": "stdout",
     "output_type": "stream",
     "text": [
      "                   all        200        213      0.922      0.873      0.928      0.742      0.917      0.869      0.927      0.747\n"
     ]
    },
    {
     "name": "stderr",
     "output_type": "stream",
     "text": [
      "\n"
     ]
    },
    {
     "name": "stdout",
     "output_type": "stream",
     "text": [
      "\n",
      "      Epoch    GPU_mem   box_loss   seg_loss   cls_loss   dfl_loss  Instances       Size\n"
     ]
    },
    {
     "name": "stderr",
     "output_type": "stream",
     "text": [
      "    106/150       4.3G     0.6347      1.028     0.5587      1.045         30        640: 100%|██████████| 50/50 [00:05<00:00,  8.74it/s]\n",
      "                 Class     Images  Instances      Box(P          R      mAP50  mAP50-95)     Mask(P          R      mAP50  mAP50-95): 100%|██████████| 7/7 [00:01<00:00,  6.29it/s]"
     ]
    },
    {
     "name": "stdout",
     "output_type": "stream",
     "text": [
      "                   all        200        213      0.903      0.873      0.924      0.755      0.918      0.887      0.931      0.759\n"
     ]
    },
    {
     "name": "stderr",
     "output_type": "stream",
     "text": [
      "\n"
     ]
    },
    {
     "name": "stdout",
     "output_type": "stream",
     "text": [
      "\n",
      "      Epoch    GPU_mem   box_loss   seg_loss   cls_loss   dfl_loss  Instances       Size\n"
     ]
    },
    {
     "name": "stderr",
     "output_type": "stream",
     "text": [
      "    107/150       4.3G     0.6182      1.016     0.5136      1.037         35        640: 100%|██████████| 50/50 [00:05<00:00,  9.11it/s]\n",
      "                 Class     Images  Instances      Box(P          R      mAP50  mAP50-95)     Mask(P          R      mAP50  mAP50-95): 100%|██████████| 7/7 [00:00<00:00,  7.04it/s]"
     ]
    },
    {
     "name": "stdout",
     "output_type": "stream",
     "text": [
      "                   all        200        213       0.93      0.871      0.922      0.757      0.945      0.885      0.934      0.763\n"
     ]
    },
    {
     "name": "stderr",
     "output_type": "stream",
     "text": [
      "\n"
     ]
    },
    {
     "name": "stdout",
     "output_type": "stream",
     "text": [
      "\n",
      "      Epoch    GPU_mem   box_loss   seg_loss   cls_loss   dfl_loss  Instances       Size\n"
     ]
    },
    {
     "name": "stderr",
     "output_type": "stream",
     "text": [
      "    108/150       4.3G     0.6301     0.9922     0.5237      1.042         31        640: 100%|██████████| 50/50 [00:05<00:00,  9.09it/s]\n",
      "                 Class     Images  Instances      Box(P          R      mAP50  mAP50-95)     Mask(P          R      mAP50  mAP50-95): 100%|██████████| 7/7 [00:01<00:00,  6.89it/s]"
     ]
    },
    {
     "name": "stdout",
     "output_type": "stream",
     "text": [
      "                   all        200        213      0.856      0.893      0.937      0.783      0.922      0.836       0.94      0.769\n"
     ]
    },
    {
     "name": "stderr",
     "output_type": "stream",
     "text": [
      "\n"
     ]
    },
    {
     "name": "stdout",
     "output_type": "stream",
     "text": [
      "\n",
      "      Epoch    GPU_mem   box_loss   seg_loss   cls_loss   dfl_loss  Instances       Size\n"
     ]
    },
    {
     "name": "stderr",
     "output_type": "stream",
     "text": [
      "    109/150       4.3G     0.6332      1.017     0.5374      1.048         38        640: 100%|██████████| 50/50 [00:05<00:00,  8.94it/s]\n",
      "                 Class     Images  Instances      Box(P          R      mAP50  mAP50-95)     Mask(P          R      mAP50  mAP50-95): 100%|██████████| 7/7 [00:01<00:00,  6.98it/s]"
     ]
    },
    {
     "name": "stdout",
     "output_type": "stream",
     "text": [
      "                   all        200        213      0.928      0.864      0.916      0.758      0.938      0.873      0.932      0.758\n"
     ]
    },
    {
     "name": "stderr",
     "output_type": "stream",
     "text": [
      "\n"
     ]
    },
    {
     "name": "stdout",
     "output_type": "stream",
     "text": [
      "\n",
      "      Epoch    GPU_mem   box_loss   seg_loss   cls_loss   dfl_loss  Instances       Size\n"
     ]
    },
    {
     "name": "stderr",
     "output_type": "stream",
     "text": [
      "    110/150       4.3G      0.622      1.011     0.5128      1.035         36        640: 100%|██████████| 50/50 [00:05<00:00,  8.87it/s]\n",
      "                 Class     Images  Instances      Box(P          R      mAP50  mAP50-95)     Mask(P          R      mAP50  mAP50-95): 100%|██████████| 7/7 [00:01<00:00,  6.58it/s]"
     ]
    },
    {
     "name": "stdout",
     "output_type": "stream",
     "text": [
      "                   all        200        213        0.9      0.869      0.924      0.767      0.905      0.873      0.933      0.763\n"
     ]
    },
    {
     "name": "stderr",
     "output_type": "stream",
     "text": [
      "\n"
     ]
    },
    {
     "name": "stdout",
     "output_type": "stream",
     "text": [
      "\n",
      "      Epoch    GPU_mem   box_loss   seg_loss   cls_loss   dfl_loss  Instances       Size\n"
     ]
    },
    {
     "name": "stderr",
     "output_type": "stream",
     "text": [
      "    111/150       4.3G     0.6328     0.9732     0.5078       1.05         37        640: 100%|██████████| 50/50 [00:05<00:00,  9.10it/s]\n",
      "                 Class     Images  Instances      Box(P          R      mAP50  mAP50-95)     Mask(P          R      mAP50  mAP50-95): 100%|██████████| 7/7 [00:01<00:00,  6.84it/s]"
     ]
    },
    {
     "name": "stdout",
     "output_type": "stream",
     "text": [
      "                   all        200        213      0.933      0.848      0.934      0.767      0.938      0.853      0.937      0.774\n"
     ]
    },
    {
     "name": "stderr",
     "output_type": "stream",
     "text": [
      "\n"
     ]
    },
    {
     "name": "stdout",
     "output_type": "stream",
     "text": [
      "\n",
      "      Epoch    GPU_mem   box_loss   seg_loss   cls_loss   dfl_loss  Instances       Size\n"
     ]
    },
    {
     "name": "stderr",
     "output_type": "stream",
     "text": [
      "    112/150       4.3G     0.6181     0.9871     0.5286       1.03         36        640: 100%|██████████| 50/50 [00:05<00:00,  9.14it/s]\n",
      "                 Class     Images  Instances      Box(P          R      mAP50  mAP50-95)     Mask(P          R      mAP50  mAP50-95): 100%|██████████| 7/7 [00:00<00:00,  7.01it/s]"
     ]
    },
    {
     "name": "stdout",
     "output_type": "stream",
     "text": [
      "                   all        200        213      0.937      0.822      0.922      0.769      0.925       0.85      0.939      0.763\n"
     ]
    },
    {
     "name": "stderr",
     "output_type": "stream",
     "text": [
      "\n"
     ]
    },
    {
     "name": "stdout",
     "output_type": "stream",
     "text": [
      "\n",
      "      Epoch    GPU_mem   box_loss   seg_loss   cls_loss   dfl_loss  Instances       Size\n"
     ]
    },
    {
     "name": "stderr",
     "output_type": "stream",
     "text": [
      "    113/150       4.3G     0.6154     0.9525     0.5135      1.033         41        640: 100%|██████████| 50/50 [00:05<00:00,  9.15it/s]\n",
      "                 Class     Images  Instances      Box(P          R      mAP50  mAP50-95)     Mask(P          R      mAP50  mAP50-95): 100%|██████████| 7/7 [00:00<00:00,  7.00it/s]"
     ]
    },
    {
     "name": "stdout",
     "output_type": "stream",
     "text": [
      "                   all        200        213      0.911      0.897       0.94      0.781      0.923      0.906       0.95      0.769\n"
     ]
    },
    {
     "name": "stderr",
     "output_type": "stream",
     "text": [
      "\n"
     ]
    },
    {
     "name": "stdout",
     "output_type": "stream",
     "text": [
      "\n",
      "      Epoch    GPU_mem   box_loss   seg_loss   cls_loss   dfl_loss  Instances       Size\n"
     ]
    },
    {
     "name": "stderr",
     "output_type": "stream",
     "text": [
      "    114/150       4.3G     0.6055     0.9728      0.508      1.033         37        640: 100%|██████████| 50/50 [00:05<00:00,  9.06it/s]\n",
      "                 Class     Images  Instances      Box(P          R      mAP50  mAP50-95)     Mask(P          R      mAP50  mAP50-95): 100%|██████████| 7/7 [00:00<00:00,  7.02it/s]"
     ]
    },
    {
     "name": "stdout",
     "output_type": "stream",
     "text": [
      "                   all        200        213        0.9      0.883      0.928      0.769      0.904      0.887      0.939      0.766\n"
     ]
    },
    {
     "name": "stderr",
     "output_type": "stream",
     "text": [
      "\n"
     ]
    },
    {
     "name": "stdout",
     "output_type": "stream",
     "text": [
      "\n",
      "      Epoch    GPU_mem   box_loss   seg_loss   cls_loss   dfl_loss  Instances       Size\n"
     ]
    },
    {
     "name": "stderr",
     "output_type": "stream",
     "text": [
      "    115/150       4.3G      0.612     0.9769     0.5073      1.033         44        640: 100%|██████████| 50/50 [00:05<00:00,  9.04it/s]\n",
      "                 Class     Images  Instances      Box(P          R      mAP50  mAP50-95)     Mask(P          R      mAP50  mAP50-95): 100%|██████████| 7/7 [00:00<00:00,  7.08it/s]"
     ]
    },
    {
     "name": "stdout",
     "output_type": "stream",
     "text": [
      "                   all        200        213      0.951       0.85      0.927      0.765      0.956      0.854      0.937      0.763\n"
     ]
    },
    {
     "name": "stderr",
     "output_type": "stream",
     "text": [
      "\n"
     ]
    },
    {
     "name": "stdout",
     "output_type": "stream",
     "text": [
      "\n",
      "      Epoch    GPU_mem   box_loss   seg_loss   cls_loss   dfl_loss  Instances       Size\n"
     ]
    },
    {
     "name": "stderr",
     "output_type": "stream",
     "text": [
      "    116/150       4.3G     0.6207     0.9647     0.5091      1.026         31        640: 100%|██████████| 50/50 [00:05<00:00,  9.13it/s]\n",
      "                 Class     Images  Instances      Box(P          R      mAP50  mAP50-95)     Mask(P          R      mAP50  mAP50-95): 100%|██████████| 7/7 [00:01<00:00,  6.77it/s]"
     ]
    },
    {
     "name": "stdout",
     "output_type": "stream",
     "text": [
      "                   all        200        213      0.909      0.845      0.919      0.757      0.919      0.854      0.932      0.758\n"
     ]
    },
    {
     "name": "stderr",
     "output_type": "stream",
     "text": [
      "\n"
     ]
    },
    {
     "name": "stdout",
     "output_type": "stream",
     "text": [
      "\n",
      "      Epoch    GPU_mem   box_loss   seg_loss   cls_loss   dfl_loss  Instances       Size\n"
     ]
    },
    {
     "name": "stderr",
     "output_type": "stream",
     "text": [
      "    117/150       4.3G     0.6319      0.974     0.5184      1.032         39        640: 100%|██████████| 50/50 [00:05<00:00,  9.08it/s]\n",
      "                 Class     Images  Instances      Box(P          R      mAP50  mAP50-95)     Mask(P          R      mAP50  mAP50-95): 100%|██████████| 7/7 [00:01<00:00,  6.65it/s]"
     ]
    },
    {
     "name": "stdout",
     "output_type": "stream",
     "text": [
      "                   all        200        213      0.912      0.874       0.93      0.774      0.922      0.884      0.935      0.769\n"
     ]
    },
    {
     "name": "stderr",
     "output_type": "stream",
     "text": [
      "\n"
     ]
    },
    {
     "name": "stdout",
     "output_type": "stream",
     "text": [
      "\n",
      "      Epoch    GPU_mem   box_loss   seg_loss   cls_loss   dfl_loss  Instances       Size\n"
     ]
    },
    {
     "name": "stderr",
     "output_type": "stream",
     "text": [
      "    118/150       4.3G     0.6162     0.9583     0.5001      1.022         38        640: 100%|██████████| 50/50 [00:05<00:00,  9.13it/s]\n",
      "                 Class     Images  Instances      Box(P          R      mAP50  mAP50-95)     Mask(P          R      mAP50  mAP50-95): 100%|██████████| 7/7 [00:01<00:00,  6.95it/s]"
     ]
    },
    {
     "name": "stdout",
     "output_type": "stream",
     "text": [
      "                   all        200        213      0.924      0.864      0.925      0.772      0.929      0.869      0.942       0.77\n"
     ]
    },
    {
     "name": "stderr",
     "output_type": "stream",
     "text": [
      "\n"
     ]
    },
    {
     "name": "stdout",
     "output_type": "stream",
     "text": [
      "\n",
      "      Epoch    GPU_mem   box_loss   seg_loss   cls_loss   dfl_loss  Instances       Size\n"
     ]
    },
    {
     "name": "stderr",
     "output_type": "stream",
     "text": [
      "    119/150       4.3G     0.6018     0.9823     0.4876      1.036         33        640: 100%|██████████| 50/50 [00:05<00:00,  9.13it/s]\n",
      "                 Class     Images  Instances      Box(P          R      mAP50  mAP50-95)     Mask(P          R      mAP50  mAP50-95): 100%|██████████| 7/7 [00:00<00:00,  7.10it/s]"
     ]
    },
    {
     "name": "stdout",
     "output_type": "stream",
     "text": [
      "                   all        200        213      0.931      0.891      0.934      0.777      0.941        0.9      0.949      0.771\n"
     ]
    },
    {
     "name": "stderr",
     "output_type": "stream",
     "text": [
      "\n"
     ]
    },
    {
     "name": "stdout",
     "output_type": "stream",
     "text": [
      "\n",
      "      Epoch    GPU_mem   box_loss   seg_loss   cls_loss   dfl_loss  Instances       Size\n"
     ]
    },
    {
     "name": "stderr",
     "output_type": "stream",
     "text": [
      "    120/150       4.3G     0.6135      1.021     0.5143      1.023         31        640: 100%|██████████| 50/50 [00:05<00:00,  9.11it/s]\n",
      "                 Class     Images  Instances      Box(P          R      mAP50  mAP50-95)     Mask(P          R      mAP50  mAP50-95): 100%|██████████| 7/7 [00:01<00:00,  6.90it/s]"
     ]
    },
    {
     "name": "stdout",
     "output_type": "stream",
     "text": [
      "                   all        200        213      0.924      0.878      0.926      0.766      0.929      0.883      0.937      0.764\n"
     ]
    },
    {
     "name": "stderr",
     "output_type": "stream",
     "text": [
      "\n"
     ]
    },
    {
     "name": "stdout",
     "output_type": "stream",
     "text": [
      "\n",
      "      Epoch    GPU_mem   box_loss   seg_loss   cls_loss   dfl_loss  Instances       Size\n"
     ]
    },
    {
     "name": "stderr",
     "output_type": "stream",
     "text": [
      "    121/150       4.3G     0.6173      0.982     0.5059      1.024         37        640: 100%|██████████| 50/50 [00:05<00:00,  9.13it/s]\n",
      "                 Class     Images  Instances      Box(P          R      mAP50  mAP50-95)     Mask(P          R      mAP50  mAP50-95): 100%|██████████| 7/7 [00:01<00:00,  6.89it/s]"
     ]
    },
    {
     "name": "stdout",
     "output_type": "stream",
     "text": [
      "                   all        200        213      0.894      0.901      0.932      0.751      0.899      0.906      0.935      0.747\n"
     ]
    },
    {
     "name": "stderr",
     "output_type": "stream",
     "text": [
      "\n"
     ]
    },
    {
     "name": "stdout",
     "output_type": "stream",
     "text": [
      "\n",
      "      Epoch    GPU_mem   box_loss   seg_loss   cls_loss   dfl_loss  Instances       Size\n"
     ]
    },
    {
     "name": "stderr",
     "output_type": "stream",
     "text": [
      "    122/150       4.3G     0.6119     0.9903     0.5095      1.036         28        640: 100%|██████████| 50/50 [00:05<00:00,  9.06it/s]\n",
      "                 Class     Images  Instances      Box(P          R      mAP50  mAP50-95)     Mask(P          R      mAP50  mAP50-95): 100%|██████████| 7/7 [00:00<00:00,  7.02it/s]"
     ]
    },
    {
     "name": "stdout",
     "output_type": "stream",
     "text": [
      "                   all        200        213      0.932       0.85      0.922      0.742      0.939      0.859      0.933      0.745\n"
     ]
    },
    {
     "name": "stderr",
     "output_type": "stream",
     "text": [
      "\n"
     ]
    },
    {
     "name": "stdout",
     "output_type": "stream",
     "text": [
      "\n",
      "      Epoch    GPU_mem   box_loss   seg_loss   cls_loss   dfl_loss  Instances       Size\n"
     ]
    },
    {
     "name": "stderr",
     "output_type": "stream",
     "text": [
      "    123/150       4.3G     0.6371     0.9787     0.5178      1.042         39        640: 100%|██████████| 50/50 [00:05<00:00,  9.15it/s]\n",
      "                 Class     Images  Instances      Box(P          R      mAP50  mAP50-95)     Mask(P          R      mAP50  mAP50-95): 100%|██████████| 7/7 [00:01<00:00,  6.94it/s]"
     ]
    },
    {
     "name": "stdout",
     "output_type": "stream",
     "text": [
      "                   all        200        213      0.922      0.854      0.932      0.749       0.94      0.869      0.945      0.757\n"
     ]
    },
    {
     "name": "stderr",
     "output_type": "stream",
     "text": [
      "\n"
     ]
    },
    {
     "name": "stdout",
     "output_type": "stream",
     "text": [
      "\n",
      "      Epoch    GPU_mem   box_loss   seg_loss   cls_loss   dfl_loss  Instances       Size\n"
     ]
    },
    {
     "name": "stderr",
     "output_type": "stream",
     "text": [
      "    124/150       4.3G     0.5926     0.9458     0.4847       1.02         37        640: 100%|██████████| 50/50 [00:05<00:00,  9.04it/s]\n",
      "                 Class     Images  Instances      Box(P          R      mAP50  mAP50-95)     Mask(P          R      mAP50  mAP50-95): 100%|██████████| 7/7 [00:01<00:00,  6.95it/s]"
     ]
    },
    {
     "name": "stdout",
     "output_type": "stream",
     "text": [
      "                   all        200        213      0.918      0.873       0.93      0.762      0.927      0.883      0.946      0.767\n"
     ]
    },
    {
     "name": "stderr",
     "output_type": "stream",
     "text": [
      "\n"
     ]
    },
    {
     "name": "stdout",
     "output_type": "stream",
     "text": [
      "\n",
      "      Epoch    GPU_mem   box_loss   seg_loss   cls_loss   dfl_loss  Instances       Size\n"
     ]
    },
    {
     "name": "stderr",
     "output_type": "stream",
     "text": [
      "    125/150       4.3G        0.6     0.9301     0.4728      1.021         35        640: 100%|██████████| 50/50 [00:05<00:00,  9.20it/s]\n",
      "                 Class     Images  Instances      Box(P          R      mAP50  mAP50-95)     Mask(P          R      mAP50  mAP50-95): 100%|██████████| 7/7 [00:01<00:00,  6.81it/s]"
     ]
    },
    {
     "name": "stdout",
     "output_type": "stream",
     "text": [
      "                   all        200        213       0.92      0.883      0.939       0.77      0.925      0.887      0.948      0.774\n"
     ]
    },
    {
     "name": "stderr",
     "output_type": "stream",
     "text": [
      "\n"
     ]
    },
    {
     "name": "stdout",
     "output_type": "stream",
     "text": [
      "\n",
      "      Epoch    GPU_mem   box_loss   seg_loss   cls_loss   dfl_loss  Instances       Size\n"
     ]
    },
    {
     "name": "stderr",
     "output_type": "stream",
     "text": [
      "    126/150       4.3G      0.603     0.9148     0.4824      1.034         36        640: 100%|██████████| 50/50 [00:05<00:00,  9.07it/s]\n",
      "                 Class     Images  Instances      Box(P          R      mAP50  mAP50-95)     Mask(P          R      mAP50  mAP50-95): 100%|██████████| 7/7 [00:01<00:00,  6.78it/s]"
     ]
    },
    {
     "name": "stdout",
     "output_type": "stream",
     "text": [
      "                   all        200        213       0.93      0.845      0.939      0.764      0.935       0.85      0.941      0.766\n"
     ]
    },
    {
     "name": "stderr",
     "output_type": "stream",
     "text": [
      "\n"
     ]
    },
    {
     "name": "stdout",
     "output_type": "stream",
     "text": [
      "\n",
      "      Epoch    GPU_mem   box_loss   seg_loss   cls_loss   dfl_loss  Instances       Size\n"
     ]
    },
    {
     "name": "stderr",
     "output_type": "stream",
     "text": [
      "    127/150       4.3G     0.5971     0.9491     0.5107      1.017         33        640: 100%|██████████| 50/50 [00:05<00:00,  9.07it/s]\n",
      "                 Class     Images  Instances      Box(P          R      mAP50  mAP50-95)     Mask(P          R      mAP50  mAP50-95): 100%|██████████| 7/7 [00:01<00:00,  6.64it/s]"
     ]
    },
    {
     "name": "stdout",
     "output_type": "stream",
     "text": [
      "                   all        200        213      0.908      0.887      0.937       0.76      0.918      0.897      0.946      0.763\n"
     ]
    },
    {
     "name": "stderr",
     "output_type": "stream",
     "text": [
      "\n"
     ]
    },
    {
     "name": "stdout",
     "output_type": "stream",
     "text": [
      "\n",
      "      Epoch    GPU_mem   box_loss   seg_loss   cls_loss   dfl_loss  Instances       Size\n"
     ]
    },
    {
     "name": "stderr",
     "output_type": "stream",
     "text": [
      "    128/150       4.3G     0.5817     0.9502     0.4681      1.005         28        640: 100%|██████████| 50/50 [00:05<00:00,  9.13it/s]\n",
      "                 Class     Images  Instances      Box(P          R      mAP50  mAP50-95)     Mask(P          R      mAP50  mAP50-95): 100%|██████████| 7/7 [00:00<00:00,  7.03it/s]"
     ]
    },
    {
     "name": "stdout",
     "output_type": "stream",
     "text": [
      "                   all        200        213      0.892      0.911      0.942      0.772      0.897      0.915      0.947      0.771\n"
     ]
    },
    {
     "name": "stderr",
     "output_type": "stream",
     "text": [
      "\n"
     ]
    },
    {
     "name": "stdout",
     "output_type": "stream",
     "text": [
      "\n",
      "      Epoch    GPU_mem   box_loss   seg_loss   cls_loss   dfl_loss  Instances       Size\n"
     ]
    },
    {
     "name": "stderr",
     "output_type": "stream",
     "text": [
      "    129/150       4.3G     0.6017     0.9186     0.4651      1.021         30        640: 100%|██████████| 50/50 [00:05<00:00,  9.28it/s]\n",
      "                 Class     Images  Instances      Box(P          R      mAP50  mAP50-95)     Mask(P          R      mAP50  mAP50-95): 100%|██████████| 7/7 [00:01<00:00,  6.65it/s]"
     ]
    },
    {
     "name": "stdout",
     "output_type": "stream",
     "text": [
      "                   all        200        213      0.922      0.892       0.94      0.779      0.932      0.901      0.949      0.776\n"
     ]
    },
    {
     "name": "stderr",
     "output_type": "stream",
     "text": [
      "\n"
     ]
    },
    {
     "name": "stdout",
     "output_type": "stream",
     "text": [
      "\n",
      "      Epoch    GPU_mem   box_loss   seg_loss   cls_loss   dfl_loss  Instances       Size\n"
     ]
    },
    {
     "name": "stderr",
     "output_type": "stream",
     "text": [
      "    130/150       4.3G      0.577     0.9388     0.4484      1.009         33        640: 100%|██████████| 50/50 [00:05<00:00,  8.75it/s]\n",
      "                 Class     Images  Instances      Box(P          R      mAP50  mAP50-95)     Mask(P          R      mAP50  mAP50-95): 100%|██████████| 7/7 [00:01<00:00,  6.94it/s]"
     ]
    },
    {
     "name": "stdout",
     "output_type": "stream",
     "text": [
      "                   all        200        213      0.949      0.845      0.934      0.764      0.955       0.85      0.943       0.76\n"
     ]
    },
    {
     "name": "stderr",
     "output_type": "stream",
     "text": [
      "\n"
     ]
    },
    {
     "name": "stdout",
     "output_type": "stream",
     "text": [
      "\n",
      "      Epoch    GPU_mem   box_loss   seg_loss   cls_loss   dfl_loss  Instances       Size\n"
     ]
    },
    {
     "name": "stderr",
     "output_type": "stream",
     "text": [
      "    131/150       4.3G     0.5907     0.9442     0.4689      1.017         36        640: 100%|██████████| 50/50 [00:05<00:00,  9.22it/s]\n",
      "                 Class     Images  Instances      Box(P          R      mAP50  mAP50-95)     Mask(P          R      mAP50  mAP50-95): 100%|██████████| 7/7 [00:00<00:00,  7.11it/s]"
     ]
    },
    {
     "name": "stdout",
     "output_type": "stream",
     "text": [
      "                   all        200        213      0.922      0.892      0.937       0.77       0.91      0.915      0.948      0.763\n"
     ]
    },
    {
     "name": "stderr",
     "output_type": "stream",
     "text": [
      "\n"
     ]
    },
    {
     "name": "stdout",
     "output_type": "stream",
     "text": [
      "\n",
      "      Epoch    GPU_mem   box_loss   seg_loss   cls_loss   dfl_loss  Instances       Size\n"
     ]
    },
    {
     "name": "stderr",
     "output_type": "stream",
     "text": [
      "    132/150       4.3G     0.5738      0.914     0.4511      1.003         46        640: 100%|██████████| 50/50 [00:05<00:00,  9.12it/s]\n",
      "                 Class     Images  Instances      Box(P          R      mAP50  mAP50-95)     Mask(P          R      mAP50  mAP50-95): 100%|██████████| 7/7 [00:00<00:00,  7.03it/s]"
     ]
    },
    {
     "name": "stdout",
     "output_type": "stream",
     "text": [
      "                   all        200        213      0.912      0.887      0.928       0.76      0.921      0.897      0.938      0.765\n"
     ]
    },
    {
     "name": "stderr",
     "output_type": "stream",
     "text": [
      "\n"
     ]
    },
    {
     "name": "stdout",
     "output_type": "stream",
     "text": [
      "\n",
      "      Epoch    GPU_mem   box_loss   seg_loss   cls_loss   dfl_loss  Instances       Size\n"
     ]
    },
    {
     "name": "stderr",
     "output_type": "stream",
     "text": [
      "    133/150       4.3G     0.5815     0.9493     0.4661      1.011         27        640: 100%|██████████| 50/50 [00:05<00:00,  9.17it/s]\n",
      "                 Class     Images  Instances      Box(P          R      mAP50  mAP50-95)     Mask(P          R      mAP50  mAP50-95): 100%|██████████| 7/7 [00:00<00:00,  7.09it/s]"
     ]
    },
    {
     "name": "stdout",
     "output_type": "stream",
     "text": [
      "                   all        200        213      0.922      0.878       0.93      0.766      0.922      0.878      0.934      0.764\n"
     ]
    },
    {
     "name": "stderr",
     "output_type": "stream",
     "text": [
      "\n"
     ]
    },
    {
     "name": "stdout",
     "output_type": "stream",
     "text": [
      "\n",
      "      Epoch    GPU_mem   box_loss   seg_loss   cls_loss   dfl_loss  Instances       Size\n"
     ]
    },
    {
     "name": "stderr",
     "output_type": "stream",
     "text": [
      "    134/150       4.3G      0.579     0.9192     0.4716      1.012         33        640: 100%|██████████| 50/50 [00:05<00:00,  9.22it/s]\n",
      "                 Class     Images  Instances      Box(P          R      mAP50  mAP50-95)     Mask(P          R      mAP50  mAP50-95): 100%|██████████| 7/7 [00:00<00:00,  7.01it/s]"
     ]
    },
    {
     "name": "stdout",
     "output_type": "stream",
     "text": [
      "                   all        200        213      0.895      0.873      0.928      0.763        0.9      0.878      0.937      0.763\n"
     ]
    },
    {
     "name": "stderr",
     "output_type": "stream",
     "text": [
      "\n"
     ]
    },
    {
     "name": "stdout",
     "output_type": "stream",
     "text": [
      "\n",
      "      Epoch    GPU_mem   box_loss   seg_loss   cls_loss   dfl_loss  Instances       Size\n"
     ]
    },
    {
     "name": "stderr",
     "output_type": "stream",
     "text": [
      "    135/150       4.3G     0.5797      0.917     0.4593      1.012         32        640: 100%|██████████| 50/50 [00:05<00:00,  9.23it/s]\n",
      "                 Class     Images  Instances      Box(P          R      mAP50  mAP50-95)     Mask(P          R      mAP50  mAP50-95): 100%|██████████| 7/7 [00:00<00:00,  7.01it/s]"
     ]
    },
    {
     "name": "stdout",
     "output_type": "stream",
     "text": [
      "                   all        200        213      0.911      0.866      0.932      0.766      0.916      0.871       0.94      0.763\n"
     ]
    },
    {
     "name": "stderr",
     "output_type": "stream",
     "text": [
      "\n"
     ]
    },
    {
     "name": "stdout",
     "output_type": "stream",
     "text": [
      "\n",
      "      Epoch    GPU_mem   box_loss   seg_loss   cls_loss   dfl_loss  Instances       Size\n"
     ]
    },
    {
     "name": "stderr",
     "output_type": "stream",
     "text": [
      "    136/150       4.3G     0.5837     0.9287      0.463      1.012         32        640: 100%|██████████| 50/50 [00:05<00:00,  9.23it/s]\n",
      "                 Class     Images  Instances      Box(P          R      mAP50  mAP50-95)     Mask(P          R      mAP50  mAP50-95): 100%|██████████| 7/7 [00:00<00:00,  7.06it/s]"
     ]
    },
    {
     "name": "stdout",
     "output_type": "stream",
     "text": [
      "                   all        200        213      0.917      0.881      0.941      0.771      0.927       0.89      0.955      0.761\n"
     ]
    },
    {
     "name": "stderr",
     "output_type": "stream",
     "text": [
      "\n"
     ]
    },
    {
     "name": "stdout",
     "output_type": "stream",
     "text": [
      "\n",
      "      Epoch    GPU_mem   box_loss   seg_loss   cls_loss   dfl_loss  Instances       Size\n"
     ]
    },
    {
     "name": "stderr",
     "output_type": "stream",
     "text": [
      "    137/150       4.3G     0.5682     0.9003     0.4453      1.002         26        640: 100%|██████████| 50/50 [00:05<00:00,  9.27it/s]\n",
      "                 Class     Images  Instances      Box(P          R      mAP50  mAP50-95)     Mask(P          R      mAP50  mAP50-95): 100%|██████████| 7/7 [00:00<00:00,  7.02it/s]"
     ]
    },
    {
     "name": "stdout",
     "output_type": "stream",
     "text": [
      "                   all        200        213      0.936      0.887      0.936      0.776      0.941      0.891      0.945      0.775\n"
     ]
    },
    {
     "name": "stderr",
     "output_type": "stream",
     "text": [
      "\n"
     ]
    },
    {
     "name": "stdout",
     "output_type": "stream",
     "text": [
      "\n",
      "      Epoch    GPU_mem   box_loss   seg_loss   cls_loss   dfl_loss  Instances       Size\n"
     ]
    },
    {
     "name": "stderr",
     "output_type": "stream",
     "text": [
      "    138/150       4.3G     0.5494     0.8577     0.4456     0.9998         44        640: 100%|██████████| 50/50 [00:05<00:00,  9.17it/s]\n",
      "                 Class     Images  Instances      Box(P          R      mAP50  mAP50-95)     Mask(P          R      mAP50  mAP50-95): 100%|██████████| 7/7 [00:00<00:00,  7.01it/s]"
     ]
    },
    {
     "name": "stdout",
     "output_type": "stream",
     "text": [
      "                   all        200        213      0.913      0.883      0.944      0.781      0.919      0.887      0.948      0.781\n"
     ]
    },
    {
     "name": "stderr",
     "output_type": "stream",
     "text": [
      "\n"
     ]
    },
    {
     "name": "stdout",
     "output_type": "stream",
     "text": [
      "\n",
      "      Epoch    GPU_mem   box_loss   seg_loss   cls_loss   dfl_loss  Instances       Size\n"
     ]
    },
    {
     "name": "stderr",
     "output_type": "stream",
     "text": [
      "    139/150       4.3G     0.5651     0.8884     0.4551      1.001         37        640: 100%|██████████| 50/50 [00:05<00:00,  9.28it/s]\n",
      "                 Class     Images  Instances      Box(P          R      mAP50  mAP50-95)     Mask(P          R      mAP50  mAP50-95): 100%|██████████| 7/7 [00:01<00:00,  6.84it/s]"
     ]
    },
    {
     "name": "stdout",
     "output_type": "stream",
     "text": [
      "                   all        200        213      0.903      0.887      0.937      0.776      0.913      0.897      0.945      0.784\n"
     ]
    },
    {
     "name": "stderr",
     "output_type": "stream",
     "text": [
      "\n"
     ]
    },
    {
     "name": "stdout",
     "output_type": "stream",
     "text": [
      "\n",
      "      Epoch    GPU_mem   box_loss   seg_loss   cls_loss   dfl_loss  Instances       Size\n"
     ]
    },
    {
     "name": "stderr",
     "output_type": "stream",
     "text": [
      "    140/150       4.3G      0.558     0.8882      0.433     0.9894         35        640: 100%|██████████| 50/50 [00:05<00:00,  9.23it/s]\n",
      "                 Class     Images  Instances      Box(P          R      mAP50  mAP50-95)     Mask(P          R      mAP50  mAP50-95): 100%|██████████| 7/7 [00:01<00:00,  6.98it/s]"
     ]
    },
    {
     "name": "stdout",
     "output_type": "stream",
     "text": [
      "                   all        200        213      0.939      0.869      0.938      0.778      0.939      0.869      0.942      0.779\n"
     ]
    },
    {
     "name": "stderr",
     "output_type": "stream",
     "text": [
      "\n"
     ]
    },
    {
     "name": "stdout",
     "output_type": "stream",
     "text": [
      "Closing dataloader mosaic\n",
      "\n",
      "      Epoch    GPU_mem   box_loss   seg_loss   cls_loss   dfl_loss  Instances       Size\n"
     ]
    },
    {
     "name": "stderr",
     "output_type": "stream",
     "text": [
      "    141/150       4.3G     0.4251     0.7426     0.3159     0.9298         17        640: 100%|██████████| 50/50 [00:05<00:00,  8.75it/s]\n",
      "                 Class     Images  Instances      Box(P          R      mAP50  mAP50-95)     Mask(P          R      mAP50  mAP50-95): 100%|██████████| 7/7 [00:01<00:00,  6.87it/s]"
     ]
    },
    {
     "name": "stdout",
     "output_type": "stream",
     "text": [
      "                   all        200        213      0.934      0.866       0.94      0.768      0.939       0.87      0.945       0.77\n"
     ]
    },
    {
     "name": "stderr",
     "output_type": "stream",
     "text": [
      "\n"
     ]
    },
    {
     "name": "stdout",
     "output_type": "stream",
     "text": [
      "\n",
      "      Epoch    GPU_mem   box_loss   seg_loss   cls_loss   dfl_loss  Instances       Size\n"
     ]
    },
    {
     "name": "stderr",
     "output_type": "stream",
     "text": [
      "    142/150       4.3G      0.416       0.73     0.2927     0.9321         15        640: 100%|██████████| 50/50 [00:05<00:00,  8.89it/s]\n",
      "                 Class     Images  Instances      Box(P          R      mAP50  mAP50-95)     Mask(P          R      mAP50  mAP50-95): 100%|██████████| 7/7 [00:01<00:00,  6.67it/s]"
     ]
    },
    {
     "name": "stdout",
     "output_type": "stream",
     "text": [
      "                   all        200        213      0.885      0.897      0.942      0.774       0.89      0.901      0.951      0.769\n"
     ]
    },
    {
     "name": "stderr",
     "output_type": "stream",
     "text": [
      "\n"
     ]
    },
    {
     "name": "stdout",
     "output_type": "stream",
     "text": [
      "\n",
      "      Epoch    GPU_mem   box_loss   seg_loss   cls_loss   dfl_loss  Instances       Size\n"
     ]
    },
    {
     "name": "stderr",
     "output_type": "stream",
     "text": [
      "    143/150       4.3G     0.4195     0.7179     0.2894     0.9296         17        640: 100%|██████████| 50/50 [00:05<00:00,  9.11it/s]\n",
      "                 Class     Images  Instances      Box(P          R      mAP50  mAP50-95)     Mask(P          R      mAP50  mAP50-95): 100%|██████████| 7/7 [00:01<00:00,  6.85it/s]"
     ]
    },
    {
     "name": "stdout",
     "output_type": "stream",
     "text": [
      "                   all        200        213       0.93      0.864      0.948      0.783       0.94      0.873      0.952      0.776\n"
     ]
    },
    {
     "name": "stderr",
     "output_type": "stream",
     "text": [
      "\n"
     ]
    },
    {
     "name": "stdout",
     "output_type": "stream",
     "text": [
      "\n",
      "      Epoch    GPU_mem   box_loss   seg_loss   cls_loss   dfl_loss  Instances       Size\n"
     ]
    },
    {
     "name": "stderr",
     "output_type": "stream",
     "text": [
      "    144/150       4.3G     0.4167     0.7245     0.2833     0.9338         18        640: 100%|██████████| 50/50 [00:05<00:00,  9.21it/s]\n",
      "                 Class     Images  Instances      Box(P          R      mAP50  mAP50-95)     Mask(P          R      mAP50  mAP50-95): 100%|██████████| 7/7 [00:01<00:00,  6.85it/s]"
     ]
    },
    {
     "name": "stdout",
     "output_type": "stream",
     "text": [
      "                   all        200        213      0.893      0.906      0.948      0.785        0.9      0.897       0.95      0.778\n"
     ]
    },
    {
     "name": "stderr",
     "output_type": "stream",
     "text": [
      "\n"
     ]
    },
    {
     "name": "stdout",
     "output_type": "stream",
     "text": [
      "\n",
      "      Epoch    GPU_mem   box_loss   seg_loss   cls_loss   dfl_loss  Instances       Size\n"
     ]
    },
    {
     "name": "stderr",
     "output_type": "stream",
     "text": [
      "    145/150       4.3G     0.4113     0.7021      0.282     0.9406         17        640: 100%|██████████| 50/50 [00:05<00:00,  9.22it/s]\n",
      "                 Class     Images  Instances      Box(P          R      mAP50  mAP50-95)     Mask(P          R      mAP50  mAP50-95): 100%|██████████| 7/7 [00:01<00:00,  6.82it/s]"
     ]
    },
    {
     "name": "stdout",
     "output_type": "stream",
     "text": [
      "                   all        200        213      0.896      0.889      0.943      0.777      0.943       0.86      0.949      0.773\n"
     ]
    },
    {
     "name": "stderr",
     "output_type": "stream",
     "text": [
      "\n"
     ]
    },
    {
     "name": "stdout",
     "output_type": "stream",
     "text": [
      "\n",
      "      Epoch    GPU_mem   box_loss   seg_loss   cls_loss   dfl_loss  Instances       Size\n"
     ]
    },
    {
     "name": "stderr",
     "output_type": "stream",
     "text": [
      "    146/150       4.3G     0.4056     0.7001      0.278     0.9266         17        640: 100%|██████████| 50/50 [00:05<00:00,  9.25it/s]\n",
      "                 Class     Images  Instances      Box(P          R      mAP50  mAP50-95)     Mask(P          R      mAP50  mAP50-95): 100%|██████████| 7/7 [00:01<00:00,  6.84it/s]"
     ]
    },
    {
     "name": "stdout",
     "output_type": "stream",
     "text": [
      "                   all        200        213      0.929      0.865      0.942      0.781      0.913      0.886      0.946      0.774\n"
     ]
    },
    {
     "name": "stderr",
     "output_type": "stream",
     "text": [
      "\n"
     ]
    },
    {
     "name": "stdout",
     "output_type": "stream",
     "text": [
      "\n",
      "      Epoch    GPU_mem   box_loss   seg_loss   cls_loss   dfl_loss  Instances       Size\n"
     ]
    },
    {
     "name": "stderr",
     "output_type": "stream",
     "text": [
      "    147/150       4.3G     0.4118     0.7044     0.2775     0.9301         16        640: 100%|██████████| 50/50 [00:05<00:00,  9.34it/s]\n",
      "                 Class     Images  Instances      Box(P          R      mAP50  mAP50-95)     Mask(P          R      mAP50  mAP50-95): 100%|██████████| 7/7 [00:01<00:00,  6.85it/s]"
     ]
    },
    {
     "name": "stdout",
     "output_type": "stream",
     "text": [
      "                   all        200        213      0.906      0.902      0.942      0.783      0.919      0.901      0.949      0.774\n"
     ]
    },
    {
     "name": "stderr",
     "output_type": "stream",
     "text": [
      "\n"
     ]
    },
    {
     "name": "stdout",
     "output_type": "stream",
     "text": [
      "\n",
      "      Epoch    GPU_mem   box_loss   seg_loss   cls_loss   dfl_loss  Instances       Size\n"
     ]
    },
    {
     "name": "stderr",
     "output_type": "stream",
     "text": [
      "    148/150       4.3G     0.3993     0.7135     0.2729     0.9163         17        640: 100%|██████████| 50/50 [00:05<00:00,  9.29it/s]\n",
      "                 Class     Images  Instances      Box(P          R      mAP50  mAP50-95)     Mask(P          R      mAP50  mAP50-95): 100%|██████████| 7/7 [00:01<00:00,  6.46it/s]"
     ]
    },
    {
     "name": "stdout",
     "output_type": "stream",
     "text": [
      "                   all        200        213       0.91      0.911      0.943      0.783      0.916      0.916      0.953      0.775\n"
     ]
    },
    {
     "name": "stderr",
     "output_type": "stream",
     "text": [
      "\n"
     ]
    },
    {
     "name": "stdout",
     "output_type": "stream",
     "text": [
      "\n",
      "      Epoch    GPU_mem   box_loss   seg_loss   cls_loss   dfl_loss  Instances       Size\n"
     ]
    },
    {
     "name": "stderr",
     "output_type": "stream",
     "text": [
      "    149/150       4.3G     0.3974     0.6985     0.2512     0.9247         16        640: 100%|██████████| 50/50 [00:05<00:00,  9.21it/s]\n",
      "                 Class     Images  Instances      Box(P          R      mAP50  mAP50-95)     Mask(P          R      mAP50  mAP50-95): 100%|██████████| 7/7 [00:01<00:00,  6.88it/s]"
     ]
    },
    {
     "name": "stdout",
     "output_type": "stream",
     "text": [
      "                   all        200        213      0.926      0.883      0.944      0.783      0.941      0.897      0.956      0.777\n"
     ]
    },
    {
     "name": "stderr",
     "output_type": "stream",
     "text": [
      "\n"
     ]
    },
    {
     "name": "stdout",
     "output_type": "stream",
     "text": [
      "\n",
      "      Epoch    GPU_mem   box_loss   seg_loss   cls_loss   dfl_loss  Instances       Size\n"
     ]
    },
    {
     "name": "stderr",
     "output_type": "stream",
     "text": [
      "    150/150       4.3G     0.3974     0.6841     0.2626     0.9181         16        640: 100%|██████████| 50/50 [00:05<00:00,  9.27it/s]\n",
      "                 Class     Images  Instances      Box(P          R      mAP50  mAP50-95)     Mask(P          R      mAP50  mAP50-95): 100%|██████████| 7/7 [00:00<00:00,  7.07it/s]"
     ]
    },
    {
     "name": "stdout",
     "output_type": "stream",
     "text": [
      "                   all        200        213      0.928      0.878      0.943      0.781      0.943      0.892      0.956      0.774\n"
     ]
    },
    {
     "name": "stderr",
     "output_type": "stream",
     "text": [
      "\n"
     ]
    },
    {
     "name": "stdout",
     "output_type": "stream",
     "text": [
      "\n",
      "150 epochs completed in 0.318 hours.\n",
      "Optimizer stripped from runs\\segment\\train\\weights\\last.pt, 6.0MB\n",
      "Optimizer stripped from runs\\segment\\train\\weights\\best.pt, 6.0MB\n",
      "\n",
      "Validating runs\\segment\\train\\weights\\best.pt...\n",
      "Ultralytics 8.3.170  Python-3.12.11 torch-2.9.0.dev20250729+cu129 CUDA:0 (NVIDIA GeForce RTX 4080 SUPER, 16376MiB)\n",
      "YOLO11n-seg summary (fused): 113 layers, 2,834,763 parameters, 0 gradients, 10.2 GFLOPs\n"
     ]
    },
    {
     "name": "stderr",
     "output_type": "stream",
     "text": [
      "                 Class     Images  Instances      Box(P          R      mAP50  mAP50-95)     Mask(P          R      mAP50  mAP50-95): 100%|██████████| 7/7 [00:01<00:00,  4.76it/s]\n"
     ]
    },
    {
     "name": "stdout",
     "output_type": "stream",
     "text": [
      "                   all        200        213      0.893      0.905      0.948      0.784      0.901      0.897       0.95      0.778\n",
      "Speed: 0.2ms preprocess, 0.9ms inference, 0.0ms loss, 1.8ms postprocess per image\n",
      "Results saved to \u001b[1mruns\\segment\\train\u001b[0m\n",
      "Ultralytics 8.3.170  Python-3.12.11 torch-2.9.0.dev20250729+cu129 CUDA:0 (NVIDIA GeForce RTX 4080 SUPER, 16376MiB)\n",
      "YOLO11n-seg summary (fused): 113 layers, 2,834,763 parameters, 0 gradients, 10.2 GFLOPs\n",
      "\u001b[34m\u001b[1mval: \u001b[0mFast image access  (ping: 0.00.0 ms, read: 1200.0132.1 MB/s, size: 86.5 KB)\n"
     ]
    },
    {
     "name": "stderr",
     "output_type": "stream",
     "text": [
      "\u001b[34m\u001b[1mval: \u001b[0mScanning D:\\Project\\segmented-images\\prepared\\labels\\val.cache... 200 images, 0 backgrounds, 0 corrupt: 100%|██████████| 200/200 [00:00<?, ?it/s]\n",
      "                 Class     Images  Instances      Box(P          R      mAP50  mAP50-95)     Mask(P          R      mAP50  mAP50-95): 100%|██████████| 13/13 [00:01<00:00,  6.81it/s]\n"
     ]
    },
    {
     "name": "stdout",
     "output_type": "stream",
     "text": [
      "                   all        200        213      0.889      0.901      0.948      0.784      0.913      0.892       0.95      0.776\n",
      "Speed: 0.8ms preprocess, 2.3ms inference, 0.0ms loss, 1.5ms postprocess per image\n",
      "Results saved to \u001b[1mruns\\segment\\train2\u001b[0m\n"
     ]
    }
   ],
   "source": [
    "results = model.train(\n",
    "    data=r\"D:\\Project\\segmented-images\\prepared\\data.yaml\",\n",
    "    task=\"segment\",\n",
    "    epochs=150,\n",
    "    imgsz=640,\n",
    "    patience=30,\n",
    ")\n",
    "results = model.val()"
   ]
  },
  {
   "cell_type": "code",
   "execution_count": 4,
   "id": "afa748d9",
   "metadata": {},
   "outputs": [
    {
     "name": "stdout",
     "output_type": "stream",
     "text": [
      "\n",
      "image 1/880 D:\\Project\\segmented-images\\unlabeled-images\\images\\0006c07b-4c78-4c3a-8858-9da5a5f5bbe6.jpg: 480x640 (no detections), 7.6ms\n",
      "image 2/880 D:\\Project\\segmented-images\\unlabeled-images\\images\\0006dfaf-150c-4f60-b436-2797edb4bd9d.jpg: 480x640 (no detections), 7.8ms\n",
      "image 3/880 D:\\Project\\segmented-images\\unlabeled-images\\images\\0008978f-37ee-4b7e-85ae-b7bf8bfe2db9.jpg: 384x640 1 object, 8.2ms\n",
      "image 4/880 D:\\Project\\segmented-images\\unlabeled-images\\images\\0013b2b5-11a2-4f56-ac00-bb07f50cfe45.jpg: 480x640 (no detections), 7.9ms\n",
      "image 5/880 D:\\Project\\segmented-images\\unlabeled-images\\images\\001879d8-d57a-4036-bdb0-cce5e350c1d2.jpg: 512x640 (no detections), 8.4ms\n",
      "image 6/880 D:\\Project\\segmented-images\\unlabeled-images\\images\\00225c18-751e-4cb6-abec-721c0aa1ba16.jpg: 480x640 (no detections), 12.2ms\n",
      "image 7/880 D:\\Project\\segmented-images\\unlabeled-images\\images\\0022b10e-cf07-43f2-876e-4a6408b149f3.jpg: 512x640 (no detections), 7.2ms\n",
      "image 8/880 D:\\Project\\segmented-images\\unlabeled-images\\images\\0022f0c5-b83b-4f6c-be11-aa3fcef81f34.jpg: 480x640 1 object, 7.4ms\n",
      "image 9/880 D:\\Project\\segmented-images\\unlabeled-images\\images\\00233ad8-a73c-49a6-a358-3f447c2a2825.jpg: 480x640 1 object, 7.5ms\n",
      "image 10/880 D:\\Project\\segmented-images\\unlabeled-images\\images\\002eac6a-a363-4a4e-82b6-270c4c6a6e39.jpg: 480x640 (no detections), 7.0ms\n",
      "image 11/880 D:\\Project\\segmented-images\\unlabeled-images\\images\\002edb59-dd49-481b-a2d4-6b2c2da1e430.jpg: 480x640 (no detections), 6.8ms\n",
      "image 12/880 D:\\Project\\segmented-images\\unlabeled-images\\images\\003010d0-ecbd-49d5-911a-4c10cdaa2d92.jpg: 480x640 (no detections), 6.7ms\n",
      "image 13/880 D:\\Project\\segmented-images\\unlabeled-images\\images\\00314c36-1a16-4682-84a1-6d6ad1211a7b.jpg: 512x640 1 object, 7.6ms\n",
      "image 14/880 D:\\Project\\segmented-images\\unlabeled-images\\images\\00365a4f-0887-4fa2-a3ec-a899a78ce59f.jpg: 480x640 1 object, 7.2ms\n",
      "image 15/880 D:\\Project\\segmented-images\\unlabeled-images\\images\\00369ade-f3e0-4113-aabd-d20c8ec7fe37.jpg: 512x640 1 object, 7.2ms\n",
      "image 16/880 D:\\Project\\segmented-images\\unlabeled-images\\images\\00378445-2d07-4622-9c64-5cce7c21232a.jpg: 512x640 1 object, 6.9ms\n",
      "image 17/880 D:\\Project\\segmented-images\\unlabeled-images\\images\\003933e6-8c75-47f4-96b2-bb1816f70aa3.jpg: 384x640 1 object, 7.4ms\n",
      "image 18/880 D:\\Project\\segmented-images\\unlabeled-images\\images\\0039d441-63d0-4b8d-b466-6099acf0e9e0.jpg: 480x640 (no detections), 7.3ms\n",
      "image 19/880 D:\\Project\\segmented-images\\unlabeled-images\\images\\0040dfb5-7cd2-4fde-a4a6-574384a8510a.jpg: 512x640 (no detections), 7.2ms\n",
      "image 20/880 D:\\Project\\segmented-images\\unlabeled-images\\images\\00429c54-cdc7-47b0-b9a7-24adc3a27069.jpg: 512x640 (no detections), 7.5ms\n",
      "image 21/880 D:\\Project\\segmented-images\\unlabeled-images\\images\\0050ffaf-53ce-4e9b-b9aa-b5b59be458f5.jpg: 384x640 3 objects, 8.0ms\n",
      "image 22/880 D:\\Project\\segmented-images\\unlabeled-images\\images\\00510c9a-40b3-4346-a308-5711d78ba8ba.jpg: 512x640 (no detections), 7.7ms\n",
      "image 23/880 D:\\Project\\segmented-images\\unlabeled-images\\images\\00511fbf-161a-49a2-80db-a45b5adad539.jpg: 480x640 1 object, 8.0ms\n",
      "image 24/880 D:\\Project\\segmented-images\\unlabeled-images\\images\\00618e95-9eb7-4720-a98b-61b11b5debd4.jpg: 480x640 1 object, 7.5ms\n",
      "image 25/880 D:\\Project\\segmented-images\\unlabeled-images\\images\\0069eb60-b795-44fb-9c12-cfe56f56b664.jpg: 512x640 1 object, 8.1ms\n",
      "image 26/880 D:\\Project\\segmented-images\\unlabeled-images\\images\\006a797a-4a39-462a-88d5-a3d51e8c8781.jpg: 480x640 (no detections), 7.8ms\n",
      "image 27/880 D:\\Project\\segmented-images\\unlabeled-images\\images\\0075b021-48dd-456a-bdd5-f738a2c1045b.jpg: 480x640 (no detections), 7.2ms\n",
      "image 28/880 D:\\Project\\segmented-images\\unlabeled-images\\images\\0075b026-e6c4-4bf7-aba9-90b41d3a3dfd.jpg: 384x640 (no detections), 7.7ms\n",
      "image 29/880 D:\\Project\\segmented-images\\unlabeled-images\\images\\00776311-cd1c-4901-8866-1bcb8e9e80fb.jpg: 512x640 (no detections), 7.7ms\n",
      "image 30/880 D:\\Project\\segmented-images\\unlabeled-images\\images\\00777bed-f8b2-4bd2-bd72-c04fbef1cb62.jpg: 512x640 1 object, 6.8ms\n",
      "image 31/880 D:\\Project\\segmented-images\\unlabeled-images\\images\\0078edc7-b653-40c8-814a-e016923d05eb.jpg: 384x640 1 object, 7.4ms\n",
      "image 32/880 D:\\Project\\segmented-images\\unlabeled-images\\images\\008089af-1835-4ec0-bbf1-ce9e3fc9b8bd.jpg: 512x640 (no detections), 7.4ms\n",
      "image 33/880 D:\\Project\\segmented-images\\unlabeled-images\\images\\00841ea2-179d-4023-b9df-bd6a9511db9c.jpg: 512x640 1 object, 7.6ms\n",
      "image 34/880 D:\\Project\\segmented-images\\unlabeled-images\\images\\009dcdd7-52d1-431a-b95f-e221bcbb6e4a.jpg: 512x640 1 object, 6.9ms\n",
      "image 35/880 D:\\Project\\segmented-images\\unlabeled-images\\images\\009def35-97f2-473c-b907-30f2203d1181.jpg: 512x640 (no detections), 10.2ms\n",
      "image 36/880 D:\\Project\\segmented-images\\unlabeled-images\\images\\009e4762-421d-45a5-b249-c49f61b46b67.jpg: 480x640 (no detections), 8.6ms\n",
      "image 37/880 D:\\Project\\segmented-images\\unlabeled-images\\images\\009ff068-6a30-45fb-9cab-68444a70c866.jpg: 512x640 (no detections), 7.1ms\n",
      "image 38/880 D:\\Project\\segmented-images\\unlabeled-images\\images\\00b06d3e-7b2d-4da0-99b8-33ae9e9335a4.jpg: 480x640 (no detections), 7.9ms\n",
      "image 39/880 D:\\Project\\segmented-images\\unlabeled-images\\images\\00b14af0-470e-4de3-b333-28b300c4915d.jpg: 480x640 (no detections), 6.6ms\n",
      "image 40/880 D:\\Project\\segmented-images\\unlabeled-images\\images\\00b28d28-223c-4ff1-8c45-0b7d03cf808e.jpg: 384x640 (no detections), 7.1ms\n",
      "image 41/880 D:\\Project\\segmented-images\\unlabeled-images\\images\\00b42d2b-799b-4254-85fe-a4f2d5c4aecb.jpg: 480x640 1 object, 8.4ms\n",
      "image 42/880 D:\\Project\\segmented-images\\unlabeled-images\\images\\00b4c033-7e50-4bf3-860a-2d90bf3a9fc9.jpg: 480x640 (no detections), 7.0ms\n",
      "image 43/880 D:\\Project\\segmented-images\\unlabeled-images\\images\\00b5d6c2-508b-4b04-a4c2-ae73a6d29788.jpg: 384x640 (no detections), 7.2ms\n",
      "image 44/880 D:\\Project\\segmented-images\\unlabeled-images\\images\\00b66a20-6b31-4481-b628-6e42a75cc9cb.jpg: 512x640 (no detections), 7.3ms\n",
      "image 45/880 D:\\Project\\segmented-images\\unlabeled-images\\images\\00c1286f-b64f-4d90-b913-e2046032b3d4.jpg: 480x640 (no detections), 7.5ms\n",
      "image 46/880 D:\\Project\\segmented-images\\unlabeled-images\\images\\00c7089c-caf9-4c1b-850f-bedbb11668fc.jpg: 480x640 1 object, 6.9ms\n",
      "image 47/880 D:\\Project\\segmented-images\\unlabeled-images\\images\\00cf540b-cc89-4148-a613-af35d91eb83c.jpg: 512x640 (no detections), 7.9ms\n",
      "image 48/880 D:\\Project\\segmented-images\\unlabeled-images\\images\\00d5eebb-0eaa-49f5-baf1-5664a853de10.jpg: 480x640 1 object, 10.0ms\n",
      "image 49/880 D:\\Project\\segmented-images\\unlabeled-images\\images\\00d6d237-cbd0-4284-9f46-6a2d9bd8ac20.jpg: 512x640 (no detections), 7.4ms\n",
      "image 50/880 D:\\Project\\segmented-images\\unlabeled-images\\images\\00d9c8ab-1110-4312-9546-831baecab7e1.jpg: 480x640 1 object, 8.1ms\n",
      "image 51/880 D:\\Project\\segmented-images\\unlabeled-images\\images\\00d9f191-7504-4003-bb53-d8de8ad67312.jpg: 480x640 (no detections), 7.2ms\n",
      "image 52/880 D:\\Project\\segmented-images\\unlabeled-images\\images\\00e26d9d-4357-47b6-b102-26f09cea1f30.jpg: 480x640 1 object, 6.8ms\n",
      "image 53/880 D:\\Project\\segmented-images\\unlabeled-images\\images\\00e40ffa-f5d0-40d2-85bb-a1fbff646838.jpg: 480x640 2 objects, 7.1ms\n",
      "image 54/880 D:\\Project\\segmented-images\\unlabeled-images\\images\\00e474aa-33d5-4bc4-aa13-ff927d916e74.jpg: 480x640 1 object, 7.9ms\n",
      "image 55/880 D:\\Project\\segmented-images\\unlabeled-images\\images\\00e85cd0-76c5-4cbe-82d7-acf4cbea2c74.jpg: 480x640 (no detections), 7.1ms\n",
      "image 56/880 D:\\Project\\segmented-images\\unlabeled-images\\images\\00e9ae4e-415b-4d36-883f-721053e68b49.jpg: 480x640 4 objects, 6.6ms\n",
      "image 57/880 D:\\Project\\segmented-images\\unlabeled-images\\images\\00e9fc74-ad15-4a29-94a2-68e00c784a70.jpg: 480x640 1 object, 7.5ms\n",
      "image 58/880 D:\\Project\\segmented-images\\unlabeled-images\\images\\00ecf806-33bc-4c68-b26a-93c074432b0b.jpg: 480x640 (no detections), 6.8ms\n",
      "image 59/880 D:\\Project\\segmented-images\\unlabeled-images\\images\\00fb1230-7493-4245-91cf-0d028bdc719e.jpg: 480x640 (no detections), 6.8ms\n",
      "image 60/880 D:\\Project\\segmented-images\\unlabeled-images\\images\\00fbe9e7-9279-4a5b-8da7-02290f555326.jpg: 384x640 (no detections), 9.4ms\n",
      "image 61/880 D:\\Project\\segmented-images\\unlabeled-images\\images\\00fc6a1b-c074-47b7-8e3e-a31a7fa974c1.jpg: 480x640 (no detections), 9.4ms\n",
      "image 62/880 D:\\Project\\segmented-images\\unlabeled-images\\images\\00fcc006-fefb-4120-a352-b5f472c40a11.jpg: 384x640 (no detections), 7.8ms\n",
      "image 63/880 D:\\Project\\segmented-images\\unlabeled-images\\images\\00fcc101-9179-4612-a0c7-5a2a3c05fd14.jpg: 480x640 2 objects, 7.9ms\n",
      "image 64/880 D:\\Project\\segmented-images\\unlabeled-images\\images\\00fcf9a9-96f0-4c38-a1f5-ffa3dc56bdbd.jpg: 512x640 (no detections), 7.4ms\n",
      "image 65/880 D:\\Project\\segmented-images\\unlabeled-images\\images\\00fd7823-72d7-4c5a-a36a-f12cf14d3099.jpg: 480x640 1 object, 8.8ms\n",
      "image 66/880 D:\\Project\\segmented-images\\unlabeled-images\\images\\0101a9d5-572a-46c0-9b2c-6178d8dda4e6.jpg: 480x640 (no detections), 6.8ms\n",
      "image 67/880 D:\\Project\\segmented-images\\unlabeled-images\\images\\01090d08-dd1b-44f8-b444-abab9a4689c6.jpg: 512x640 1 object, 9.4ms\n",
      "image 68/880 D:\\Project\\segmented-images\\unlabeled-images\\images\\010a2a5b-1f1a-416d-9eff-81d444f0a26c.jpg: 512x640 (no detections), 6.9ms\n",
      "image 69/880 D:\\Project\\segmented-images\\unlabeled-images\\images\\010b8000-8aaa-405c-affe-a82a58426d55.jpg: 512x640 (no detections), 7.0ms\n",
      "image 70/880 D:\\Project\\segmented-images\\unlabeled-images\\images\\010c2d32-2bfc-4ed6-b1e3-e0be811310fb.jpg: 512x640 (no detections), 7.1ms\n",
      "image 71/880 D:\\Project\\segmented-images\\unlabeled-images\\images\\01100377-8c10-46ea-a4a8-98ad6b84b21f.jpg: 512x640 (no detections), 6.8ms\n",
      "image 72/880 D:\\Project\\segmented-images\\unlabeled-images\\images\\01147f62-f193-4457-933c-a9bfdd05d239.jpg: 512x640 2 objects, 7.4ms\n",
      "image 73/880 D:\\Project\\segmented-images\\unlabeled-images\\images\\01162639-b643-41fe-82ed-3deb46d2280c.jpg: 480x640 (no detections), 7.2ms\n",
      "image 74/880 D:\\Project\\segmented-images\\unlabeled-images\\images\\01181fc9-89b1-40eb-8d3b-bb8e4e282e3f.jpg: 512x640 (no detections), 7.3ms\n",
      "image 75/880 D:\\Project\\segmented-images\\unlabeled-images\\images\\0118523e-bd29-4334-86de-6237bf4bda54.jpg: 480x640 1 object, 7.9ms\n",
      "image 76/880 D:\\Project\\segmented-images\\unlabeled-images\\images\\01208e8d-d007-4d4f-ac6d-cb966a88b9e7.jpg: 512x640 1 object, 7.4ms\n",
      "image 77/880 D:\\Project\\segmented-images\\unlabeled-images\\images\\01212358-c376-4cc3-969f-7ade425bac51.jpg: 384x640 1 object, 10.1ms\n",
      "image 78/880 D:\\Project\\segmented-images\\unlabeled-images\\images\\01213fdb-406d-4ea1-a22f-0c8dcddbe0e2.jpg: 512x640 (no detections), 7.7ms\n",
      "image 79/880 D:\\Project\\segmented-images\\unlabeled-images\\images\\01280191-27b2-41d5-bd9a-089ab25d315b.jpg: 480x640 1 object, 7.2ms\n",
      "image 80/880 D:\\Project\\segmented-images\\unlabeled-images\\images\\01286c1b-8b08-4316-aa59-fd20f28b5bb9.jpg: 384x640 (no detections), 7.6ms\n",
      "image 81/880 D:\\Project\\segmented-images\\unlabeled-images\\images\\012ff24f-3743-469e-ac74-5466a3a23973.jpg: 640x640 (no detections), 7.7ms\n",
      "image 82/880 D:\\Project\\segmented-images\\unlabeled-images\\images\\01304764-540d-484b-9065-9a59e8d98c61.jpg: 512x640 1 object, 7.5ms\n",
      "image 83/880 D:\\Project\\segmented-images\\unlabeled-images\\images\\01312704-2acf-4d69-9397-a7a6d8fdfb34.jpg: 480x640 1 object, 6.8ms\n",
      "image 84/880 D:\\Project\\segmented-images\\unlabeled-images\\images\\01383a62-c445-4d8b-a000-becd97fe49ba.jpg: 384x640 1 object, 8.4ms\n",
      "image 85/880 D:\\Project\\segmented-images\\unlabeled-images\\images\\013a2bf2-c5ca-44a9-8ab5-4ff36547c392.jpg: 512x640 1 object, 7.8ms\n",
      "image 86/880 D:\\Project\\segmented-images\\unlabeled-images\\images\\013ab10f-6a0d-4eb8-93f6-0383135e1780.jpg: 480x640 2 objects, 7.1ms\n",
      "image 87/880 D:\\Project\\segmented-images\\unlabeled-images\\images\\013ae8bc-2900-4217-89a4-84ddfc775c97.jpg: 512x640 1 object, 7.3ms\n",
      "image 88/880 D:\\Project\\segmented-images\\unlabeled-images\\images\\013b64a8-a44e-4fae-8390-2e45612661bc.jpg: 384x640 1 object, 7.9ms\n",
      "image 89/880 D:\\Project\\segmented-images\\unlabeled-images\\images\\013b9904-7995-4666-9d57-ab77b86551aa.jpg: 512x640 (no detections), 7.3ms\n",
      "image 90/880 D:\\Project\\segmented-images\\unlabeled-images\\images\\0143825a-bdc2-4af3-9783-cf72f8223bb5.jpg: 480x640 1 object, 10.5ms\n",
      "image 91/880 D:\\Project\\segmented-images\\unlabeled-images\\images\\0143c93d-6952-49c1-a0c2-89d0f97b1dad.jpg: 512x640 (no detections), 7.4ms\n",
      "image 92/880 D:\\Project\\segmented-images\\unlabeled-images\\images\\0143c9a6-d3d1-4389-b6ee-087ea712192a.jpg: 512x640 (no detections), 7.5ms\n",
      "image 93/880 D:\\Project\\segmented-images\\unlabeled-images\\images\\0143df6d-7916-486b-ba2f-3bb709889e92.jpg: 480x640 (no detections), 8.1ms\n",
      "image 94/880 D:\\Project\\segmented-images\\unlabeled-images\\images\\0144095d-f793-4fc2-ac8f-8a746aab7b20.jpg: 512x640 (no detections), 7.5ms\n",
      "image 95/880 D:\\Project\\segmented-images\\unlabeled-images\\images\\0144cc45-acd5-42e8-bbeb-2f21c5993e3d.jpg: 480x640 (no detections), 7.3ms\n",
      "image 96/880 D:\\Project\\segmented-images\\unlabeled-images\\images\\0145bc37-456c-400d-b95b-5a5d018bc79d.jpg: 480x640 (no detections), 6.8ms\n",
      "image 97/880 D:\\Project\\segmented-images\\unlabeled-images\\images\\0147bb3f-e806-40f8-8309-394011a888ca.jpg: 480x640 (no detections), 6.8ms\n",
      "image 98/880 D:\\Project\\segmented-images\\unlabeled-images\\images\\0147fdf8-94b8-4b00-9418-ddacf12a37dc.jpg: 480x640 (no detections), 6.7ms\n",
      "image 99/880 D:\\Project\\segmented-images\\unlabeled-images\\images\\0148240b-40d7-4c03-ae32-51c7d01bda16.jpg: 480x640 (no detections), 6.9ms\n",
      "image 100/880 D:\\Project\\segmented-images\\unlabeled-images\\images\\014908d6-e2f9-4b6b-ace3-312dbdb0db5b.jpg: 480x640 (no detections), 7.6ms\n",
      "image 101/880 D:\\Project\\segmented-images\\unlabeled-images\\images\\014917b4-cd8c-42ca-9556-94bfa0ff83f1.jpg: 512x640 (no detections), 7.5ms\n",
      "image 102/880 D:\\Project\\segmented-images\\unlabeled-images\\images\\0149601c-aa60-4f80-b2a2-5174bd13c146.jpg: 480x640 (no detections), 7.3ms\n",
      "image 103/880 D:\\Project\\segmented-images\\unlabeled-images\\images\\015013a2-1a8f-4be0-a0f3-b9f9dcb7ea93.jpg: 512x640 1 object, 7.1ms\n",
      "image 104/880 D:\\Project\\segmented-images\\unlabeled-images\\images\\015142b9-b51a-421a-911d-6fb6f0544c1b.jpg: 480x640 (no detections), 7.2ms\n",
      "image 105/880 D:\\Project\\segmented-images\\unlabeled-images\\images\\0152091a-4d9b-4bf4-86df-4d7b5bfccc01.jpg: 480x640 (no detections), 6.9ms\n",
      "image 106/880 D:\\Project\\segmented-images\\unlabeled-images\\images\\015218d2-31c1-4332-b3da-5293a0f8fae1.jpg: 480x640 (no detections), 6.7ms\n",
      "image 107/880 D:\\Project\\segmented-images\\unlabeled-images\\images\\015266c2-ba69-49fe-a389-bb60b604536b.jpg: 384x640 (no detections), 7.4ms\n",
      "image 108/880 D:\\Project\\segmented-images\\unlabeled-images\\images\\0155338f-4539-4e3a-b2ac-2d4aa274b61a.jpg: 512x640 1 object, 7.3ms\n",
      "image 109/880 D:\\Project\\segmented-images\\unlabeled-images\\images\\015837fa-f854-4179-b59f-4775a0163daa.jpg: 512x640 1 object, 15.5ms\n",
      "image 110/880 D:\\Project\\segmented-images\\unlabeled-images\\images\\015e307b-01a0-4c04-a5b3-a38c0d4d081c.jpg: 512x640 (no detections), 6.6ms\n",
      "image 111/880 D:\\Project\\segmented-images\\unlabeled-images\\images\\015f4880-fd85-4dac-8e56-1ed7feec5562.jpg: 480x640 (no detections), 7.2ms\n",
      "image 112/880 D:\\Project\\segmented-images\\unlabeled-images\\images\\016a0384-a573-430b-aa99-106309a612a6.jpg: 480x640 (no detections), 6.6ms\n",
      "image 113/880 D:\\Project\\segmented-images\\unlabeled-images\\images\\016a212f-d07c-4288-be63-3cc732b0d121.jpg: 384x640 (no detections), 7.2ms\n",
      "image 114/880 D:\\Project\\segmented-images\\unlabeled-images\\images\\016a3cbf-07f2-47f3-874b-913a64347c10.jpg: 512x640 (no detections), 7.8ms\n",
      "image 115/880 D:\\Project\\segmented-images\\unlabeled-images\\images\\016b1cb0-f9a5-41f6-82d4-fd6edfb34f9c.jpg: 512x640 1 object, 6.7ms\n",
      "image 116/880 D:\\Project\\segmented-images\\unlabeled-images\\images\\016b3e46-30fa-40cc-94cc-d5730f650035.jpg: 512x640 (no detections), 6.9ms\n",
      "image 117/880 D:\\Project\\segmented-images\\unlabeled-images\\images\\0180d37d-98f0-41a4-8d0c-c8c54fe70003.jpg: 384x640 (no detections), 7.4ms\n",
      "image 118/880 D:\\Project\\segmented-images\\unlabeled-images\\images\\0181b358-47e8-4791-ac06-e00dc6151aa4.jpg: 480x640 1 object, 7.1ms\n",
      "image 119/880 D:\\Project\\segmented-images\\unlabeled-images\\images\\0181ef14-a861-494e-a287-7733cb396b6c.jpg: 512x640 (no detections), 7.4ms\n",
      "image 120/880 D:\\Project\\segmented-images\\unlabeled-images\\images\\0181f44b-04be-4543-9db7-6f022585f8fc.jpg: 384x640 (no detections), 7.1ms\n",
      "image 121/880 D:\\Project\\segmented-images\\unlabeled-images\\images\\018e8402-efb5-422e-a093-835fa20f7861.jpg: 384x640 (no detections), 7.5ms\n",
      "image 122/880 D:\\Project\\segmented-images\\unlabeled-images\\images\\018eb088-8925-4989-a4f8-5a97e07d9eb4.jpg: 512x640 (no detections), 7.8ms\n",
      "image 123/880 D:\\Project\\segmented-images\\unlabeled-images\\images\\018ee161-6df5-4aeb-8575-1c048acafdb2.jpg: 480x640 (no detections), 7.2ms\n",
      "image 124/880 D:\\Project\\segmented-images\\unlabeled-images\\images\\01913c21-162f-4a54-bd89-c18f6d2e3c7f.jpg: 480x640 1 object, 7.1ms\n",
      "image 125/880 D:\\Project\\segmented-images\\unlabeled-images\\images\\01939a79-76db-4a74-ac93-27cd696b945e.jpg: 384x640 1 object, 7.3ms\n",
      "image 126/880 D:\\Project\\segmented-images\\unlabeled-images\\images\\0195efcd-fb27-4a63-ac16-2bec7a396937.jpg: 384x640 (no detections), 7.1ms\n",
      "image 127/880 D:\\Project\\segmented-images\\unlabeled-images\\images\\0196e86d-0af9-400b-83c1-61408fb0c33c.jpg: 384x640 (no detections), 9.1ms\n",
      "image 128/880 D:\\Project\\segmented-images\\unlabeled-images\\images\\0197ac82-cb46-48ed-aeef-a55c2601c88e.jpg: 640x640 1 object, 7.8ms\n",
      "image 129/880 D:\\Project\\segmented-images\\unlabeled-images\\images\\019d0120-59e4-48e3-936b-ac02c5339268.jpg: 480x640 (no detections), 7.4ms\n",
      "image 130/880 D:\\Project\\segmented-images\\unlabeled-images\\images\\019d5531-d8da-4be9-b733-b64f981b2133.jpg: 512x640 (no detections), 7.7ms\n",
      "image 131/880 D:\\Project\\segmented-images\\unlabeled-images\\images\\019e1c09-906d-4d8e-af04-1a2cfdf8c8db.jpg: 480x640 (no detections), 6.9ms\n",
      "image 132/880 D:\\Project\\segmented-images\\unlabeled-images\\images\\019eb3ff-2ef6-4df2-948e-dd4dc19aa315.jpg: 480x640 1 object, 6.4ms\n",
      "image 133/880 D:\\Project\\segmented-images\\unlabeled-images\\images\\01a2831a-4d5d-4e36-a4b5-ad2fcb6f5527.jpg: 480x640 (no detections), 8.8ms\n",
      "image 134/880 D:\\Project\\segmented-images\\unlabeled-images\\images\\01a395a4-ff32-46c9-8328-5dbd573ab0a8.jpg: 480x640 (no detections), 6.8ms\n",
      "image 135/880 D:\\Project\\segmented-images\\unlabeled-images\\images\\01a6ce19-fbf6-4268-86ee-0a87049dd35a.jpg: 512x640 (no detections), 7.9ms\n",
      "image 136/880 D:\\Project\\segmented-images\\unlabeled-images\\images\\01a7ba34-403e-46fd-a87a-eedcbbc46c36.jpg: 512x640 (no detections), 7.0ms\n",
      "image 137/880 D:\\Project\\segmented-images\\unlabeled-images\\images\\01a7c5e3-af7b-4fca-9d69-f238f78a427a.jpg: 512x640 1 object, 6.5ms\n",
      "image 138/880 D:\\Project\\segmented-images\\unlabeled-images\\images\\01a978af-b9f6-4cd9-854e-4fccbf09270d.jpg: 480x640 (no detections), 7.4ms\n",
      "image 139/880 D:\\Project\\segmented-images\\unlabeled-images\\images\\01a9a9a6-6f77-4737-8752-038970217255.jpg: 512x640 (no detections), 7.4ms\n",
      "image 140/880 D:\\Project\\segmented-images\\unlabeled-images\\images\\01b3e4a6-3fb3-4141-a019-25ccb1705afa.jpg: 480x640 1 object, 7.2ms\n",
      "image 141/880 D:\\Project\\segmented-images\\unlabeled-images\\images\\01b4ab38-27e6-4e7d-bdc6-55234ae253bf.jpg: 512x640 (no detections), 7.7ms\n",
      "image 142/880 D:\\Project\\segmented-images\\unlabeled-images\\images\\01b4f66e-e0f8-4510-a32e-4cb568f4e4d2.jpg: 512x640 1 object, 6.4ms\n",
      "image 143/880 D:\\Project\\segmented-images\\unlabeled-images\\images\\01b5e0fe-cebe-45aa-9e93-f56cf6e7335a.jpg: 480x640 (no detections), 11.6ms\n",
      "image 144/880 D:\\Project\\segmented-images\\unlabeled-images\\images\\01b6d6b6-72dd-4768-82d4-4c5db2a37ffe.jpg: 480x640 (no detections), 8.8ms\n",
      "image 145/880 D:\\Project\\segmented-images\\unlabeled-images\\images\\01b7df15-d293-4dbd-ac1b-0a9770482a2e.jpg: 512x640 (no detections), 7.3ms\n",
      "image 146/880 D:\\Project\\segmented-images\\unlabeled-images\\images\\01b8d316-3005-42e8-b6f5-7ae520dc40da.jpg: 384x640 (no detections), 7.8ms\n",
      "image 147/880 D:\\Project\\segmented-images\\unlabeled-images\\images\\01c08ec1-e73d-4feb-b17f-9fab88578fe1.jpg: 512x640 (no detections), 8.2ms\n",
      "image 148/880 D:\\Project\\segmented-images\\unlabeled-images\\images\\01c10a61-254b-443e-9a65-946e7c98533d.jpg: 512x640 (no detections), 6.7ms\n",
      "image 149/880 D:\\Project\\segmented-images\\unlabeled-images\\images\\01c24fb3-7a25-4a0f-86a4-5a2a35c19b8b.jpg: 512x640 (no detections), 6.8ms\n",
      "image 150/880 D:\\Project\\segmented-images\\unlabeled-images\\images\\01c6ae3a-6ee5-4a98-a792-c7f59a1c2fc4.jpg: 512x640 (no detections), 6.8ms\n",
      "image 151/880 D:\\Project\\segmented-images\\unlabeled-images\\images\\01c6c368-fd9f-45dc-bf6c-2e9f4e182872.jpg: 480x640 1 object, 7.1ms\n",
      "image 152/880 D:\\Project\\segmented-images\\unlabeled-images\\images\\01c9a237-aa81-456d-984a-20aa8c535531.jpg: 512x640 (no detections), 7.5ms\n",
      "image 153/880 D:\\Project\\segmented-images\\unlabeled-images\\images\\01c9b62e-e0c7-4f97-8576-496c89380445.jpg: 384x640 2 objects, 8.5ms\n",
      "image 154/880 D:\\Project\\segmented-images\\unlabeled-images\\images\\01cc5962-50ac-48bc-bd88-5291fd4c7902.jpg: 480x640 (no detections), 9.5ms\n",
      "image 155/880 D:\\Project\\segmented-images\\unlabeled-images\\images\\01ccd918-5e11-4a15-b865-17c56ef99fa0.jpg: 384x640 (no detections), 7.1ms\n",
      "image 156/880 D:\\Project\\segmented-images\\unlabeled-images\\images\\01cdfcbb-defd-46aa-a5d3-ccfa543c8b3b.jpg: 512x640 1 object, 7.0ms\n",
      "image 157/880 D:\\Project\\segmented-images\\unlabeled-images\\images\\01d5d2ad-6b94-473b-bff9-4ca39b943b8f.jpg: 512x640 (no detections), 6.6ms\n",
      "image 158/880 D:\\Project\\segmented-images\\unlabeled-images\\images\\01d5d682-3ed6-4135-aec1-5822aaeedb3c.jpg: 384x640 1 object, 7.0ms\n",
      "image 159/880 D:\\Project\\segmented-images\\unlabeled-images\\images\\01d6c144-82b6-45f7-9951-e3756a84fe60.jpg: 480x640 1 object, 7.1ms\n",
      "image 160/880 D:\\Project\\segmented-images\\unlabeled-images\\images\\01d8cbe1-7272-40dd-b5f8-5e86be54c8da.jpg: 480x640 (no detections), 9.0ms\n",
      "image 161/880 D:\\Project\\segmented-images\\unlabeled-images\\images\\01e07f44-6f43-47b2-ab47-bff35681b04d.jpg: 384x640 1 object, 7.0ms\n",
      "image 162/880 D:\\Project\\segmented-images\\unlabeled-images\\images\\01e1f9cc-71c3-43da-a566-6c685d7b1552.jpg: 480x640 (no detections), 7.0ms\n",
      "image 163/880 D:\\Project\\segmented-images\\unlabeled-images\\images\\01e3d20d-0ac0-45e5-9e96-f0acce601ec4.jpg: 480x640 (no detections), 7.4ms\n",
      "image 164/880 D:\\Project\\segmented-images\\unlabeled-images\\images\\01e3efef-567d-4351-83f6-1f804e029404.jpg: 480x640 1 object, 7.0ms\n",
      "image 165/880 D:\\Project\\segmented-images\\unlabeled-images\\images\\01e4c7fd-8a2c-4cea-bf28-c2a11ee23c36.jpg: 384x640 1 object, 7.2ms\n",
      "image 166/880 D:\\Project\\segmented-images\\unlabeled-images\\images\\01e5e744-3006-4091-a932-a61206f47380.jpg: 480x640 1 object, 7.1ms\n",
      "image 167/880 D:\\Project\\segmented-images\\unlabeled-images\\images\\01e7b129-0ed1-4035-8e12-015ade508b8a.jpg: 512x640 (no detections), 7.2ms\n",
      "image 168/880 D:\\Project\\segmented-images\\unlabeled-images\\images\\01f092a2-fccb-49f6-af06-8351c8bb47f1.jpg: 512x640 (no detections), 7.3ms\n",
      "image 169/880 D:\\Project\\segmented-images\\unlabeled-images\\images\\01f21a32-3454-4ed2-be03-a42191e47fe9.jpg: 512x640 1 object, 6.8ms\n",
      "image 170/880 D:\\Project\\segmented-images\\unlabeled-images\\images\\01f6cfa7-d97c-4d84-a7d0-21bef5a69cb7.jpg: 512x640 (no detections), 7.4ms\n",
      "image 171/880 D:\\Project\\segmented-images\\unlabeled-images\\images\\01f7ae9a-d3db-43cb-b6f9-10698f40f755.jpg: 512x640 (no detections), 7.1ms\n",
      "image 172/880 D:\\Project\\segmented-images\\unlabeled-images\\images\\01f8a955-a892-456f-b952-5ca260028d98.jpg: 480x640 (no detections), 7.5ms\n",
      "image 173/880 D:\\Project\\segmented-images\\unlabeled-images\\images\\01f8cfc9-881b-4f03-aff8-4626190f6faf.jpg: 480x640 1 object, 7.5ms\n",
      "image 174/880 D:\\Project\\segmented-images\\unlabeled-images\\images\\01f8d0d8-f98a-466d-bcff-60a2d1a8f912.jpg: 480x640 (no detections), 7.0ms\n",
      "image 175/880 D:\\Project\\segmented-images\\unlabeled-images\\images\\021efd0c-8fbc-4816-b48c-e49fac54e252.jpg: 384x640 1 object, 7.6ms\n",
      "image 176/880 D:\\Project\\segmented-images\\unlabeled-images\\images\\021f327a-dbb7-4ad2-a8ad-fd6006118a85.jpg: 512x640 1 object, 7.5ms\n",
      "image 177/880 D:\\Project\\segmented-images\\unlabeled-images\\images\\021fbb75-43a4-4846-a315-9e369677ad68.jpg: 512x640 1 object, 6.6ms\n",
      "image 178/880 D:\\Project\\segmented-images\\unlabeled-images\\images\\0225ad06-1f80-42a4-a014-120dbf2338f2.jpg: 512x640 1 object, 6.8ms\n",
      "image 179/880 D:\\Project\\segmented-images\\unlabeled-images\\images\\0226b609-970b-4f6c-96a5-4393725ad305.jpg: 384x640 1 object, 6.9ms\n",
      "image 180/880 D:\\Project\\segmented-images\\unlabeled-images\\images\\0226cfc6-a9aa-42e5-bee9-bc6618ad9d94.jpg: 480x640 (no detections), 7.2ms\n",
      "image 181/880 D:\\Project\\segmented-images\\unlabeled-images\\images\\02270fd7-ab5d-4291-821f-ce93ce19d244.jpg: 512x640 (no detections), 7.0ms\n",
      "image 182/880 D:\\Project\\segmented-images\\unlabeled-images\\images\\02273c6f-4bae-4099-b52a-26996acc5f65.jpg: 512x640 (no detections), 7.7ms\n",
      "image 183/880 D:\\Project\\segmented-images\\unlabeled-images\\images\\0227a0b9-8d68-4337-abd2-3123d6a631c1.jpg: 480x640 (no detections), 7.8ms\n",
      "image 184/880 D:\\Project\\segmented-images\\unlabeled-images\\images\\02280ced-4235-4387-8b8b-6aaa34b98d86.jpg: 480x640 (no detections), 8.2ms\n",
      "image 185/880 D:\\Project\\segmented-images\\unlabeled-images\\images\\02286b87-ca9c-4d6b-96fc-1a02ce9cec67.jpg: 512x640 (no detections), 8.3ms\n",
      "image 186/880 D:\\Project\\segmented-images\\unlabeled-images\\images\\0229c42e-2118-4894-b15a-126ce082b563.jpg: 480x640 1 object, 7.1ms\n",
      "image 187/880 D:\\Project\\segmented-images\\unlabeled-images\\images\\022ae397-7f1e-4c25-ba97-c2722cdf2d73.jpg: 512x640 (no detections), 9.1ms\n",
      "image 188/880 D:\\Project\\segmented-images\\unlabeled-images\\images\\022babc1-999c-42b3-ae7e-2d10d551cc45.jpg: 480x640 1 object, 7.3ms\n",
      "image 189/880 D:\\Project\\segmented-images\\unlabeled-images\\images\\02484633-2a7a-4ef6-97b4-0c60eab088c2.jpg: 512x640 (no detections), 9.1ms\n",
      "image 190/880 D:\\Project\\segmented-images\\unlabeled-images\\images\\02501026-b160-41d6-9c99-a2212546a2fc.jpg: 480x640 (no detections), 7.0ms\n",
      "image 191/880 D:\\Project\\segmented-images\\unlabeled-images\\images\\02503996-1aca-4b82-b01f-0f6bf5cac329.jpg: 480x640 (no detections), 7.5ms\n",
      "image 192/880 D:\\Project\\segmented-images\\unlabeled-images\\images\\02504823-d5a2-4670-8550-77c7cb0e292c.jpg: 512x640 1 object, 6.7ms\n",
      "image 193/880 D:\\Project\\segmented-images\\unlabeled-images\\images\\02522769-c337-4a21-b1e3-d1c4ffa3c590.jpg: 512x640 (no detections), 7.2ms\n",
      "image 194/880 D:\\Project\\segmented-images\\unlabeled-images\\images\\025c291f-b663-492c-848e-6705df4f220b.jpg: 480x640 (no detections), 7.0ms\n",
      "image 195/880 D:\\Project\\segmented-images\\unlabeled-images\\images\\025c4af0-9017-4165-bd26-247624154151.jpg: 480x640 (no detections), 6.7ms\n",
      "image 196/880 D:\\Project\\segmented-images\\unlabeled-images\\images\\025e72e8-4165-4656-b596-0f52eda164be.jpg: 512x640 (no detections), 7.5ms\n",
      "image 197/880 D:\\Project\\segmented-images\\unlabeled-images\\images\\025ed640-ad33-4e54-b0f0-43a98d0c9223.jpg: 512x640 (no detections), 6.8ms\n",
      "image 198/880 D:\\Project\\segmented-images\\unlabeled-images\\images\\025ee73f-2aa9-456f-9789-cb56749d2dd7.jpg: 480x640 (no detections), 7.7ms\n",
      "image 199/880 D:\\Project\\segmented-images\\unlabeled-images\\images\\025f28df-5175-4bad-8b74-7a13b2d4731b.jpg: 384x640 1 object, 7.2ms\n",
      "image 200/880 D:\\Project\\segmented-images\\unlabeled-images\\images\\025f385c-8217-4894-96d7-ba9a5453f433.jpg: 512x640 1 object, 7.0ms\n",
      "image 201/880 D:\\Project\\segmented-images\\unlabeled-images\\images\\026151a8-36a7-479a-b4a0-487fbbad193d.jpg: 384x640 1 object, 7.1ms\n",
      "image 202/880 D:\\Project\\segmented-images\\unlabeled-images\\images\\026306b9-a1c6-44cd-9a50-c815f7a4ef66.jpg: 480x640 (no detections), 8.6ms\n",
      "image 203/880 D:\\Project\\segmented-images\\unlabeled-images\\images\\026464c8-1a7c-44b6-8eee-5700ac5ef1af.jpg: 512x640 (no detections), 12.3ms\n",
      "image 204/880 D:\\Project\\segmented-images\\unlabeled-images\\images\\026527cf-bc16-43bd-b422-871fab871dd7.jpg: 480x640 1 object, 8.0ms\n",
      "image 205/880 D:\\Project\\segmented-images\\unlabeled-images\\images\\02654c87-ed4b-4335-a474-9a8de8ec071e.jpg: 480x640 (no detections), 7.0ms\n",
      "image 206/880 D:\\Project\\segmented-images\\unlabeled-images\\images\\02673dc5-8e73-4236-8320-73e843448d3b.jpg: 480x640 2 objects, 7.3ms\n",
      "image 207/880 D:\\Project\\segmented-images\\unlabeled-images\\images\\0269db86-54fc-453b-afe6-ed77a69e72d7.jpg: 512x640 (no detections), 7.9ms\n",
      "image 208/880 D:\\Project\\segmented-images\\unlabeled-images\\images\\0270c587-5684-41bf-b9ca-3ddd7a2c69d1.jpg: 480x640 (no detections), 7.4ms\n",
      "image 209/880 D:\\Project\\segmented-images\\unlabeled-images\\images\\0270fa3d-01d6-49c8-bee9-8d9618c3f968.jpg: 480x640 (no detections), 6.9ms\n",
      "image 210/880 D:\\Project\\segmented-images\\unlabeled-images\\images\\0272edca-4ebd-4f33-9c34-29681862011f.jpg: 512x640 (no detections), 7.6ms\n",
      "image 211/880 D:\\Project\\segmented-images\\unlabeled-images\\images\\0273b58a-d570-42c0-88ca-a4acda18a06c.jpg: 512x640 (no detections), 7.1ms\n",
      "image 212/880 D:\\Project\\segmented-images\\unlabeled-images\\images\\0273db6f-f99d-48bf-b470-84b8e31b5064.jpg: 512x640 (no detections), 7.7ms\n",
      "image 213/880 D:\\Project\\segmented-images\\unlabeled-images\\images\\02745f53-4d8d-404b-8749-c84e903a9b3d.jpg: 512x640 (no detections), 7.2ms\n",
      "image 214/880 D:\\Project\\segmented-images\\unlabeled-images\\images\\0274e80b-700a-4bc6-a20c-8d667993450f.jpg: 512x640 1 object, 6.6ms\n",
      "image 215/880 D:\\Project\\segmented-images\\unlabeled-images\\images\\02760a59-31fd-4a3a-b1d0-a77219c88688.jpg: 512x640 1 object, 6.5ms\n",
      "image 216/880 D:\\Project\\segmented-images\\unlabeled-images\\images\\028aab41-31b5-4815-aace-0580b51ad1d2.jpg: 512x640 (no detections), 7.0ms\n",
      "image 217/880 D:\\Project\\segmented-images\\unlabeled-images\\images\\028ab1db-29da-43f1-8da8-c7a34b4f0e41.jpg: 512x640 (no detections), 8.1ms\n",
      "image 218/880 D:\\Project\\segmented-images\\unlabeled-images\\images\\02953584-b6f4-4539-9016-d962ea835d4a.jpg: 640x640 1 object, 7.1ms\n",
      "image 219/880 D:\\Project\\segmented-images\\unlabeled-images\\images\\0298e50f-d75d-4547-bc47-39f1dc90258f.jpg: 512x640 (no detections), 7.5ms\n",
      "image 220/880 D:\\Project\\segmented-images\\unlabeled-images\\images\\02999d07-68f8-4c9f-9072-8f413011caff.jpg: 480x640 (no detections), 7.1ms\n",
      "image 221/880 D:\\Project\\segmented-images\\unlabeled-images\\images\\029b9560-2bfc-4cc5-ae50-c04ab83bde2f.jpg: 480x640 (no detections), 7.2ms\n",
      "image 222/880 D:\\Project\\segmented-images\\unlabeled-images\\images\\029be652-9396-4545-b137-8529486c4328.jpg: 480x640 2 objects, 6.9ms\n",
      "image 223/880 D:\\Project\\segmented-images\\unlabeled-images\\images\\029e3adb-433c-4a15-a7ca-dfd4170e249d.jpg: 512x640 1 object, 7.4ms\n",
      "image 224/880 D:\\Project\\segmented-images\\unlabeled-images\\images\\029e8a63-d4fe-4f60-81a0-2e1186bb121d.jpg: 512x640 (no detections), 16.4ms\n",
      "image 225/880 D:\\Project\\segmented-images\\unlabeled-images\\images\\029f89fc-b829-4124-b0fd-8aa071556db6.jpg: 480x640 (no detections), 9.4ms\n",
      "image 226/880 D:\\Project\\segmented-images\\unlabeled-images\\images\\02a3a6bd-786f-4cb7-91c2-24b2f2ad9646.jpg: 512x640 (no detections), 7.7ms\n",
      "image 227/880 D:\\Project\\segmented-images\\unlabeled-images\\images\\02a5d1fc-c6a4-466c-ab29-9bbbe0652e17.jpg: 512x640 1 object, 6.6ms\n",
      "image 228/880 D:\\Project\\segmented-images\\unlabeled-images\\images\\02a5eb4b-f334-43e8-ae55-42aa1041bceb.jpg: 512x640 (no detections), 6.4ms\n",
      "image 229/880 D:\\Project\\segmented-images\\unlabeled-images\\images\\02a7a210-f047-4852-94f9-b0d844a131d7.jpg: 384x640 (no detections), 7.5ms\n",
      "image 230/880 D:\\Project\\segmented-images\\unlabeled-images\\images\\02a7f835-3a17-4071-b91b-ad5a862eaf63.jpg: 480x640 (no detections), 7.5ms\n",
      "image 231/880 D:\\Project\\segmented-images\\unlabeled-images\\images\\02af5224-66bc-4931-9070-2fb860f472c0.jpg: 512x640 (no detections), 11.8ms\n",
      "image 232/880 D:\\Project\\segmented-images\\unlabeled-images\\images\\02af9181-ef05-4f74-b403-322dd3f2de1d.jpg: 384x640 1 object, 10.8ms\n",
      "image 233/880 D:\\Project\\segmented-images\\unlabeled-images\\images\\02b0da33-28db-447c-b4f4-6be81c43f4e5.jpg: 480x640 (no detections), 7.3ms\n",
      "image 234/880 D:\\Project\\segmented-images\\unlabeled-images\\images\\02b1d319-dea6-418b-969a-c588585cb4f2.jpg: 512x640 (no detections), 7.4ms\n",
      "image 235/880 D:\\Project\\segmented-images\\unlabeled-images\\images\\02b4d6d1-8033-4d03-a81f-abcf780e4ec1.jpg: 384x640 (no detections), 7.6ms\n",
      "image 236/880 D:\\Project\\segmented-images\\unlabeled-images\\images\\02b4f782-bce4-40c7-bc11-2b5eb71b73fe.jpg: 512x640 1 object, 7.1ms\n",
      "image 237/880 D:\\Project\\segmented-images\\unlabeled-images\\images\\02b91cbf-3759-451c-a800-bae3c2c48b22.jpg: 512x640 1 object, 6.5ms\n",
      "image 238/880 D:\\Project\\segmented-images\\unlabeled-images\\images\\02c004e7-4986-4bfd-98dc-31248f38527d.jpg: 480x640 (no detections), 8.0ms\n",
      "image 239/880 D:\\Project\\segmented-images\\unlabeled-images\\images\\02c3f5e2-fd96-431c-95cb-4e79818f2129.jpg: 480x640 (no detections), 6.5ms\n",
      "image 240/880 D:\\Project\\segmented-images\\unlabeled-images\\images\\02c5cbc4-b494-4290-8a49-6e05922281d6.jpg: 480x640 (no detections), 7.5ms\n",
      "image 241/880 D:\\Project\\segmented-images\\unlabeled-images\\images\\02c7cbe2-f1ff-42f7-abc2-3f0f7686f068.jpg: 512x640 (no detections), 7.3ms\n",
      "image 242/880 D:\\Project\\segmented-images\\unlabeled-images\\images\\02c7d4f6-1b3e-48b8-a9a9-156f4acc6834.jpg: 480x640 1 object, 7.2ms\n",
      "image 243/880 D:\\Project\\segmented-images\\unlabeled-images\\images\\02c9b227-ce0c-42b2-bee8-e16d50914402.jpg: 512x640 (no detections), 7.1ms\n",
      "image 244/880 D:\\Project\\segmented-images\\unlabeled-images\\images\\02c9cc1e-349a-4689-bfb4-b7df1f44ca53.jpg: 512x640 1 object, 6.7ms\n",
      "image 245/880 D:\\Project\\segmented-images\\unlabeled-images\\images\\02ce7c95-813f-4583-89dc-0654dad67656.jpg: 384x640 (no detections), 7.5ms\n",
      "image 246/880 D:\\Project\\segmented-images\\unlabeled-images\\images\\02d6d620-c5b9-4f59-8aee-d5a5b2a7c8d0.jpg: 480x640 2 objects, 8.4ms\n",
      "image 247/880 D:\\Project\\segmented-images\\unlabeled-images\\images\\02d6e3ab-670e-4cf5-ae94-f0e7d816f8ae.jpg: 480x640 (no detections), 6.9ms\n",
      "image 248/880 D:\\Project\\segmented-images\\unlabeled-images\\images\\02d7bb92-4c3b-4ff7-860a-7a23a0e9290a.jpg: 512x640 (no detections), 7.5ms\n",
      "image 249/880 D:\\Project\\segmented-images\\unlabeled-images\\images\\02d8c2e9-394a-4639-a8d6-6fdea53ca3a8.jpg: 480x640 1 object, 7.9ms\n",
      "image 250/880 D:\\Project\\segmented-images\\unlabeled-images\\images\\02d9a47f-9733-4d05-9222-f303e64a4c20.jpg: 480x640 (no detections), 7.0ms\n",
      "image 251/880 D:\\Project\\segmented-images\\unlabeled-images\\images\\02d9a4cd-c457-499d-b9ac-34c1dae0b31b.jpg: 512x640 1 object, 7.2ms\n",
      "image 252/880 D:\\Project\\segmented-images\\unlabeled-images\\images\\02df0b29-cbba-4a6d-aace-d13b32e10aee.jpg: 480x640 (no detections), 8.1ms\n",
      "image 253/880 D:\\Project\\segmented-images\\unlabeled-images\\images\\02df6347-1ee7-4b49-a1ff-93196cc1880f.jpg: 512x640 (no detections), 7.1ms\n",
      "image 254/880 D:\\Project\\segmented-images\\unlabeled-images\\images\\02df8260-1ba4-4f2d-9310-076c16cd7d75.jpg: 384x640 (no detections), 9.7ms\n",
      "image 255/880 D:\\Project\\segmented-images\\unlabeled-images\\images\\02e1a696-856c-47be-9d28-4199dee2a3de.jpg: 512x640 (no detections), 7.0ms\n",
      "image 256/880 D:\\Project\\segmented-images\\unlabeled-images\\images\\02e1e95f-7068-4ea4-8dc7-e18ffe8b51fe.jpg: 512x640 (no detections), 7.3ms\n",
      "image 257/880 D:\\Project\\segmented-images\\unlabeled-images\\images\\02e52544-83c2-47e6-831c-377965f358d2.jpg: 480x640 (no detections), 7.6ms\n",
      "image 258/880 D:\\Project\\segmented-images\\unlabeled-images\\images\\02ea1ab5-6eb8-43a3-832a-3711d608f791.jpg: 480x640 (no detections), 8.0ms\n",
      "image 259/880 D:\\Project\\segmented-images\\unlabeled-images\\images\\02fbe743-4509-4440-acec-f3b3977aadea.jpg: 384x640 1 object, 7.2ms\n",
      "image 260/880 D:\\Project\\segmented-images\\unlabeled-images\\images\\02fd70fb-ff74-46f7-b633-06217d7059eb.jpg: 512x640 1 object, 6.9ms\n",
      "image 261/880 D:\\Project\\segmented-images\\unlabeled-images\\images\\02fe0dec-4446-4d0e-a5d3-b836942b0702.jpg: 512x640 (no detections), 7.2ms\n",
      "image 262/880 D:\\Project\\segmented-images\\unlabeled-images\\images\\02fe1075-6030-452e-a7a6-e48874f7ba66.jpg: 512x640 1 object, 6.6ms\n",
      "image 263/880 D:\\Project\\segmented-images\\unlabeled-images\\images\\02fe442f-6e1a-4423-a6ea-c409a9ed0d6e.jpg: 512x640 (no detections), 7.3ms\n",
      "image 264/880 D:\\Project\\segmented-images\\unlabeled-images\\images\\02fe5885-63c4-4cb6-b492-c93d4083c103.jpg: 512x640 (no detections), 7.1ms\n",
      "image 265/880 D:\\Project\\segmented-images\\unlabeled-images\\images\\02fe8a67-8a26-41ad-9743-02fa55f97688.jpg: 512x640 (no detections), 7.4ms\n",
      "image 266/880 D:\\Project\\segmented-images\\unlabeled-images\\images\\0300b5bc-f578-461c-a90a-18ec5049c361.jpg: 512x640 (no detections), 6.7ms\n",
      "image 267/880 D:\\Project\\segmented-images\\unlabeled-images\\images\\0300cc09-4944-43c1-ada4-5414ce331c83.jpg: 512x640 (no detections), 6.9ms\n",
      "image 268/880 D:\\Project\\segmented-images\\unlabeled-images\\images\\03012e57-ff8f-4100-9ac7-8d661cbdebe1.jpg: 480x640 (no detections), 7.5ms\n",
      "image 269/880 D:\\Project\\segmented-images\\unlabeled-images\\images\\03055728-13e5-469d-9ffb-8e160ea9af66.jpg: 512x640 1 object, 7.5ms\n",
      "image 270/880 D:\\Project\\segmented-images\\unlabeled-images\\images\\030747d9-259e-4bfe-a7d9-ab2755bcac0d.jpg: 480x640 2 objects, 7.6ms\n",
      "image 271/880 D:\\Project\\segmented-images\\unlabeled-images\\images\\030847b0-774c-479a-a0ca-83edb05e2fb5.jpg: 512x640 1 object, 8.3ms\n",
      "image 272/880 D:\\Project\\segmented-images\\unlabeled-images\\images\\030860bb-6252-4378-8539-12087d3982e6.jpg: 480x640 (no detections), 7.0ms\n",
      "image 273/880 D:\\Project\\segmented-images\\unlabeled-images\\images\\0309661a-f6a1-4eb8-af8e-6083b2731657.jpg: 512x640 (no detections), 7.4ms\n",
      "image 274/880 D:\\Project\\segmented-images\\unlabeled-images\\images\\0313cf35-dcda-4b86-96bc-29c79e0fd2c6.jpg: 480x640 (no detections), 9.6ms\n",
      "image 275/880 D:\\Project\\segmented-images\\unlabeled-images\\images\\0315629e-1d8f-4e6d-91ea-419a510e3996.jpg: 480x640 (no detections), 6.8ms\n",
      "image 276/880 D:\\Project\\segmented-images\\unlabeled-images\\images\\0315e98c-a0c0-42d4-8581-d3e7be2cdf88.jpg: 512x640 1 object, 7.3ms\n",
      "image 277/880 D:\\Project\\segmented-images\\unlabeled-images\\images\\0316abc6-e6a8-4b86-8807-f4def92fb506.jpg: 480x640 (no detections), 7.1ms\n",
      "image 278/880 D:\\Project\\segmented-images\\unlabeled-images\\images\\031e87c3-5c64-4614-a6fd-b4681e667ed8.jpg: 512x640 (no detections), 7.1ms\n",
      "image 279/880 D:\\Project\\segmented-images\\unlabeled-images\\images\\032a5274-89f4-4e41-89d4-6a64f96e53f8.jpg: 480x640 (no detections), 7.2ms\n",
      "image 280/880 D:\\Project\\segmented-images\\unlabeled-images\\images\\032a9c71-5dc7-440f-8463-963693b9d499.jpg: 512x640 (no detections), 7.7ms\n",
      "image 281/880 D:\\Project\\segmented-images\\unlabeled-images\\images\\032da10d-db21-4d3e-ba5c-93171ef9aec9.jpg: 480x640 (no detections), 7.7ms\n",
      "image 282/880 D:\\Project\\segmented-images\\unlabeled-images\\images\\032db859-a792-4371-b041-7efc3f3d4e19.jpg: 480x640 (no detections), 7.3ms\n",
      "image 283/880 D:\\Project\\segmented-images\\unlabeled-images\\images\\032e9a0c-dca5-4a90-9a22-61ac27097516.jpg: 480x640 (no detections), 7.2ms\n",
      "image 284/880 D:\\Project\\segmented-images\\unlabeled-images\\images\\034a8c81-c659-4f4d-b1e4-6b825aa84e40.jpg: 512x640 (no detections), 7.1ms\n",
      "image 285/880 D:\\Project\\segmented-images\\unlabeled-images\\images\\0365c4a4-ed5b-4f0a-96df-270048cb75f8.jpg: 512x640 1 object, 7.0ms\n",
      "image 286/880 D:\\Project\\segmented-images\\unlabeled-images\\images\\0365d099-066d-4c4e-9cff-bfbe645f5e14.jpg: 512x640 1 object, 7.0ms\n",
      "image 287/880 D:\\Project\\segmented-images\\unlabeled-images\\images\\0368be23-813e-4e83-8be4-172d55246f73.jpg: 512x640 (no detections), 6.9ms\n",
      "image 288/880 D:\\Project\\segmented-images\\unlabeled-images\\images\\036a6150-39e4-4aaa-9360-81365de58109.jpg: 512x640 (no detections), 8.4ms\n",
      "image 289/880 D:\\Project\\segmented-images\\unlabeled-images\\images\\036b1581-df3e-4704-8b4c-7f5fc5391eca.jpg: 480x640 (no detections), 7.0ms\n",
      "image 290/880 D:\\Project\\segmented-images\\unlabeled-images\\images\\036c493e-b3d3-41ae-9fef-b447e9972e8e.jpg: 384x640 (no detections), 7.5ms\n",
      "image 291/880 D:\\Project\\segmented-images\\unlabeled-images\\images\\036c5b62-83ac-42f5-a82e-671f0fb931ee.jpg: 512x640 1 object, 7.3ms\n",
      "image 292/880 D:\\Project\\segmented-images\\unlabeled-images\\images\\036cd7ea-a009-4119-9142-33412c9ee947.jpg: 512x640 (no detections), 6.9ms\n",
      "image 293/880 D:\\Project\\segmented-images\\unlabeled-images\\images\\0371d005-f06f-4492-8c5a-d4b4662ede49.jpg: 480x640 (no detections), 8.7ms\n",
      "image 294/880 D:\\Project\\segmented-images\\unlabeled-images\\images\\0371e923-f00c-4c2d-9e0f-9db88146d390.jpg: 480x640 (no detections), 6.7ms\n",
      "image 295/880 D:\\Project\\segmented-images\\unlabeled-images\\images\\0376949b-7bd2-4c5d-8f8d-3167a34df8d7.jpg: 512x640 (no detections), 7.4ms\n",
      "image 296/880 D:\\Project\\segmented-images\\unlabeled-images\\images\\03776efa-1b2f-4a62-afc8-296e924bc44d.jpg: 480x640 (no detections), 7.7ms\n",
      "image 297/880 D:\\Project\\segmented-images\\unlabeled-images\\images\\03788b92-d88a-4fe6-8885-2bf527bc8b20.jpg: 512x640 1 object, 8.0ms\n",
      "image 298/880 D:\\Project\\segmented-images\\unlabeled-images\\images\\037ac46c-be1e-4538-8515-d1b9acfdbfd4.jpg: 480x640 1 object, 7.3ms\n",
      "image 299/880 D:\\Project\\segmented-images\\unlabeled-images\\images\\037b9e2e-c791-4f90-9333-f53fc8a29b04.jpg: 480x640 (no detections), 7.2ms\n",
      "image 300/880 D:\\Project\\segmented-images\\unlabeled-images\\images\\03827d9b-07e2-49dd-848c-43d60624d541.jpg: 480x640 (no detections), 7.0ms\n",
      "image 301/880 D:\\Project\\segmented-images\\unlabeled-images\\images\\0384534e-34c9-4a61-8c29-c36b624825d2.jpg: 512x640 (no detections), 9.0ms\n",
      "image 302/880 D:\\Project\\segmented-images\\unlabeled-images\\images\\0384732a-6ac9-4184-a685-1fa190da0da2.jpg: 512x640 (no detections), 6.9ms\n",
      "image 303/880 D:\\Project\\segmented-images\\unlabeled-images\\images\\03883b17-2536-487c-bc74-66da3e6d1417.jpg: 512x640 (no detections), 8.4ms\n",
      "image 304/880 D:\\Project\\segmented-images\\unlabeled-images\\images\\0390543b-631b-48ea-b8bf-873697a76168.jpg: 480x640 (no detections), 7.2ms\n",
      "image 305/880 D:\\Project\\segmented-images\\unlabeled-images\\images\\03917de1-e7e0-41bb-9299-a59a3ee93c9c.jpg: 512x640 (no detections), 10.0ms\n",
      "image 306/880 D:\\Project\\segmented-images\\unlabeled-images\\images\\03939f0f-a43f-4eee-b904-0c5ce539668a.jpg: 384x640 1 object, 7.1ms\n",
      "image 307/880 D:\\Project\\segmented-images\\unlabeled-images\\images\\039fe290-d8a4-4c5d-8dc9-c5758922502e.jpg: 480x640 (no detections), 7.7ms\n",
      "image 308/880 D:\\Project\\segmented-images\\unlabeled-images\\images\\03a20dbf-cb29-4cab-8f94-765fe6cf9d77.jpg: 512x640 (no detections), 7.5ms\n",
      "image 309/880 D:\\Project\\segmented-images\\unlabeled-images\\images\\03a31e45-45fd-4c7c-803f-37db9aa61285.jpg: 480x640 1 object, 8.6ms\n",
      "image 310/880 D:\\Project\\segmented-images\\unlabeled-images\\images\\03a41b33-2124-4a97-892f-c1d52f3fc112.jpg: 512x640 (no detections), 7.7ms\n",
      "image 311/880 D:\\Project\\segmented-images\\unlabeled-images\\images\\03a552e5-9278-4334-b121-ce35552de253.jpg: 512x640 (no detections), 6.8ms\n",
      "image 312/880 D:\\Project\\segmented-images\\unlabeled-images\\images\\03a803bf-4bcd-4a0a-87e2-7dcdfb66456c.jpg: 512x640 (no detections), 8.7ms\n",
      "image 313/880 D:\\Project\\segmented-images\\unlabeled-images\\images\\03a85ae4-bbbb-4600-a7dd-55bc8d66b296.jpg: 512x640 (no detections), 6.9ms\n",
      "image 314/880 D:\\Project\\segmented-images\\unlabeled-images\\images\\03a98ea4-0c92-43b2-8040-8b54a6407040.jpg: 480x640 (no detections), 7.7ms\n",
      "image 315/880 D:\\Project\\segmented-images\\unlabeled-images\\images\\03b0545d-958c-4226-8f4b-18a41d536587.jpg: 384x640 1 object, 7.4ms\n",
      "image 316/880 D:\\Project\\segmented-images\\unlabeled-images\\images\\03b0855f-bc6c-4af5-a942-500b6513b72b.jpg: 512x640 (no detections), 7.2ms\n",
      "image 317/880 D:\\Project\\segmented-images\\unlabeled-images\\images\\03b414c9-24d3-4bf4-a271-447239ebb42a.jpg: 480x640 (no detections), 7.1ms\n",
      "image 318/880 D:\\Project\\segmented-images\\unlabeled-images\\images\\03b828f7-b769-4b63-9fb1-0501f23ae2bc.jpg: 512x640 (no detections), 7.2ms\n",
      "image 319/880 D:\\Project\\segmented-images\\unlabeled-images\\images\\03bc4ef6-857b-4461-ab4d-903d6436c568.jpg: 384x640 (no detections), 7.7ms\n",
      "image 320/880 D:\\Project\\segmented-images\\unlabeled-images\\images\\03bc9064-4c96-44c0-8112-3ca13701640a.jpg: 480x640 (no detections), 12.2ms\n",
      "image 321/880 D:\\Project\\segmented-images\\unlabeled-images\\images\\03bd8b7d-c88a-401c-9360-ec21d963a47a.jpg: 512x640 (no detections), 7.1ms\n",
      "image 322/880 D:\\Project\\segmented-images\\unlabeled-images\\images\\03d344a8-0beb-4e58-a7f2-f2745e9cc4a2.jpg: 512x640 (no detections), 7.2ms\n",
      "image 323/880 D:\\Project\\segmented-images\\unlabeled-images\\images\\03d4ce4a-7402-47cf-8908-50adc2856530.jpg: 384x640 1 object, 7.1ms\n",
      "image 324/880 D:\\Project\\segmented-images\\unlabeled-images\\images\\03d4dc70-d304-47e6-b9ef-fb7ab441f7d8.jpg: 512x640 (no detections), 7.1ms\n",
      "image 325/880 D:\\Project\\segmented-images\\unlabeled-images\\images\\03d59ca5-b9de-414a-adbb-02e2a2d892d2.jpg: 480x640 (no detections), 7.0ms\n",
      "image 326/880 D:\\Project\\segmented-images\\unlabeled-images\\images\\03d63cf9-1717-4440-a8dd-e9defd0b4aef.jpg: 480x640 (no detections), 6.5ms\n",
      "image 327/880 D:\\Project\\segmented-images\\unlabeled-images\\images\\03d8cbdf-b6b4-413a-a474-6d0a0123bf27.jpg: 512x640 1 object, 7.0ms\n",
      "image 328/880 D:\\Project\\segmented-images\\unlabeled-images\\images\\03d8ccc5-60af-4a3b-b9aa-eca3f30873a0.jpg: 480x640 (no detections), 7.1ms\n",
      "image 329/880 D:\\Project\\segmented-images\\unlabeled-images\\images\\03e22721-f4c9-4f93-be4a-b2be41d54016.jpg: 480x640 1 object, 8.0ms\n",
      "image 330/880 D:\\Project\\segmented-images\\unlabeled-images\\images\\03e229bb-d055-47a6-806c-1072b2510e94.jpg: 512x640 2 objects, 7.8ms\n",
      "image 331/880 D:\\Project\\segmented-images\\unlabeled-images\\images\\03e57831-8164-416e-8c7a-3c41278eeae6.jpg: 480x640 (no detections), 12.2ms\n",
      "image 332/880 D:\\Project\\segmented-images\\unlabeled-images\\images\\03e59182-b247-4252-8c62-fd243e64f3e7.jpg: 480x640 1 object, 8.4ms\n",
      "image 333/880 D:\\Project\\segmented-images\\unlabeled-images\\images\\03e757f6-8055-4449-986e-5f660828ea8e.jpg: 480x640 (no detections), 7.1ms\n",
      "image 334/880 D:\\Project\\segmented-images\\unlabeled-images\\images\\03e842b6-1ee1-4e14-a196-2e2e59bb8bee.jpg: 480x640 (no detections), 8.6ms\n",
      "image 335/880 D:\\Project\\segmented-images\\unlabeled-images\\images\\03e9118f-c3cf-44b7-8227-331cf7228b42.jpg: 480x640 (no detections), 7.6ms\n",
      "image 336/880 D:\\Project\\segmented-images\\unlabeled-images\\images\\03f828e5-b22f-47c3-88f3-15a7ac4b6ee9.jpg: 640x640 (no detections), 7.2ms\n",
      "image 337/880 D:\\Project\\segmented-images\\unlabeled-images\\images\\03f920cc-1154-4851-bed3-8bf9690682fc.jpg: 512x640 2 objects, 8.0ms\n",
      "image 338/880 D:\\Project\\segmented-images\\unlabeled-images\\images\\03f943b6-1ea3-4c55-852e-bde6c6277f60.jpg: 512x640 (no detections), 7.5ms\n",
      "image 339/880 D:\\Project\\segmented-images\\unlabeled-images\\images\\03fc063b-edde-4c77-bb9c-d4c50effbab4.jpg: 480x640 1 object, 9.0ms\n",
      "image 340/880 D:\\Project\\segmented-images\\unlabeled-images\\images\\03fc1ee2-f6c5-4764-8a4e-2cc5ff613db0.jpg: 512x640 (no detections), 9.4ms\n",
      "image 341/880 D:\\Project\\segmented-images\\unlabeled-images\\images\\03fd136b-efef-425b-9870-a1d1c7beeb07.jpg: 512x640 (no detections), 7.4ms\n",
      "image 342/880 D:\\Project\\segmented-images\\unlabeled-images\\images\\03ff3f9d-a510-42d8-beeb-e1e8d5f6eb04.jpg: 512x640 (no detections), 8.7ms\n",
      "image 343/880 D:\\Project\\segmented-images\\unlabeled-images\\images\\040781ad-69e4-4825-b2ea-cfc4bdc1979a.jpg: 512x640 1 object, 9.0ms\n",
      "image 344/880 D:\\Project\\segmented-images\\unlabeled-images\\images\\040a18ba-46fe-4d61-ac95-9b6e23d47890.jpg: 480x640 1 object, 8.0ms\n",
      "image 345/880 D:\\Project\\segmented-images\\unlabeled-images\\images\\040a7bdc-1501-4f2c-bd78-6f2bc85228b3.jpg: 512x640 (no detections), 9.7ms\n",
      "image 346/880 D:\\Project\\segmented-images\\unlabeled-images\\images\\040aa117-961a-45e0-8c2f-1c70039f2e5e.jpg: 480x640 1 object, 7.9ms\n",
      "image 347/880 D:\\Project\\segmented-images\\unlabeled-images\\images\\040aaa3a-ed04-415d-83fe-45fc86389ae5.jpg: 512x640 (no detections), 7.9ms\n",
      "image 348/880 D:\\Project\\segmented-images\\unlabeled-images\\images\\041317e7-c493-4b74-a70d-da85517c1723.jpg: 480x640 (no detections), 7.2ms\n",
      "image 349/880 D:\\Project\\segmented-images\\unlabeled-images\\images\\041326d4-6c0b-4b9d-bb8c-6a049ababf71.jpg: 512x640 (no detections), 7.2ms\n",
      "image 350/880 D:\\Project\\segmented-images\\unlabeled-images\\images\\041385c9-fbb4-4c11-9479-76f45d308674.jpg: 512x640 (no detections), 7.1ms\n",
      "image 351/880 D:\\Project\\segmented-images\\unlabeled-images\\images\\041583d4-8584-4fe4-8e62-df7506407e87.jpg: 480x640 1 object, 8.9ms\n",
      "image 352/880 D:\\Project\\segmented-images\\unlabeled-images\\images\\04173139-1ed0-4229-87cb-3e1a80fdd4c0.jpg: 480x640 1 object, 6.7ms\n",
      "image 353/880 D:\\Project\\segmented-images\\unlabeled-images\\images\\04175514-4a4c-428a-bed0-237405ce6e1a.jpg: 384x640 1 object, 7.2ms\n",
      "image 354/880 D:\\Project\\segmented-images\\unlabeled-images\\images\\04242206-7395-45a5-bae3-c9200c3fc19a.jpg: 480x640 (no detections), 7.2ms\n",
      "image 355/880 D:\\Project\\segmented-images\\unlabeled-images\\images\\04249488-4039-49a9-81e5-b14faed863fb.jpg: 384x640 1 object, 7.0ms\n",
      "image 356/880 D:\\Project\\segmented-images\\unlabeled-images\\images\\042532c8-34b1-462b-b549-f0d7c5b631ed.jpg: 512x640 (no detections), 8.4ms\n",
      "image 357/880 D:\\Project\\segmented-images\\unlabeled-images\\images\\042d04a8-2d30-4714-8641-6eb45b27abc9.jpg: 384x640 (no detections), 9.3ms\n",
      "image 358/880 D:\\Project\\segmented-images\\unlabeled-images\\images\\042d9095-18fb-4f78-a65f-0349be04fb93.jpg: 480x640 (no detections), 7.4ms\n",
      "image 359/880 D:\\Project\\segmented-images\\unlabeled-images\\images\\042dccc6-2e51-4cd7-8fa8-1637522a1d73.jpg: 480x640 1 object, 7.0ms\n",
      "image 360/880 D:\\Project\\segmented-images\\unlabeled-images\\images\\042e7d2f-2732-455c-80db-d16a710dfb1a.jpg: 512x640 1 object, 8.9ms\n",
      "image 361/880 D:\\Project\\segmented-images\\unlabeled-images\\images\\042e889e-10d4-41f7-bc00-4e0d4d6c70dd.jpg: 480x640 (no detections), 7.2ms\n",
      "image 362/880 D:\\Project\\segmented-images\\unlabeled-images\\images\\0430bbda-669a-4bf4-a173-00404d58c60a.jpg: 480x640 1 object, 6.7ms\n",
      "image 363/880 D:\\Project\\segmented-images\\unlabeled-images\\images\\0431e048-2fe5-4de3-931f-679bd5587d00.jpg: 480x640 (no detections), 13.5ms\n",
      "image 364/880 D:\\Project\\segmented-images\\unlabeled-images\\images\\043410f5-35ff-4ff3-925c-0d5ca8226ae0.jpg: 480x640 1 object, 6.7ms\n",
      "image 365/880 D:\\Project\\segmented-images\\unlabeled-images\\images\\04346551-25e5-48df-a740-0122e8d2173e.jpg: 512x640 (no detections), 7.2ms\n",
      "image 366/880 D:\\Project\\segmented-images\\unlabeled-images\\images\\0434a9d2-7294-4046-963f-f6aeaa2ca312.jpg: 384x640 (no detections), 7.1ms\n",
      "image 367/880 D:\\Project\\segmented-images\\unlabeled-images\\images\\0434acac-5b5e-4f91-92b5-fceaeedb95b7.jpg: 512x640 (no detections), 7.2ms\n",
      "image 368/880 D:\\Project\\segmented-images\\unlabeled-images\\images\\0436ae23-0e06-4dab-981c-dcfb232ec4c0.jpg: 480x640 1 object, 7.1ms\n",
      "image 369/880 D:\\Project\\segmented-images\\unlabeled-images\\images\\0436beec-2ee6-43f9-b97c-6985058f3636.jpg: 512x640 (no detections), 7.5ms\n",
      "image 370/880 D:\\Project\\segmented-images\\unlabeled-images\\images\\04447576-4c6a-45c3-8f68-b2aa97ee0484.jpg: 512x640 (no detections), 6.6ms\n",
      "image 371/880 D:\\Project\\segmented-images\\unlabeled-images\\images\\04455336-ed0c-40b9-bcde-9682c8dd1b8e.jpg: 512x640 (no detections), 8.0ms\n",
      "image 372/880 D:\\Project\\segmented-images\\unlabeled-images\\images\\044a97dc-9a65-4a77-a929-876a5247ae33.jpg: 480x640 (no detections), 7.0ms\n",
      "image 373/880 D:\\Project\\segmented-images\\unlabeled-images\\images\\044b2bc0-f9ff-48a8-9cd2-d599e6d223ed.jpg: 512x640 1 object, 7.8ms\n",
      "image 374/880 D:\\Project\\segmented-images\\unlabeled-images\\images\\04532e56-5c00-42e6-9af2-699ab74853f1.jpg: 480x640 1 object, 7.5ms\n",
      "image 375/880 D:\\Project\\segmented-images\\unlabeled-images\\images\\04533a24-f3a1-4bd2-bb2e-69f155e428ca.jpg: 512x640 (no detections), 7.5ms\n",
      "image 376/880 D:\\Project\\segmented-images\\unlabeled-images\\images\\0465d51d-12ec-4e65-b643-cb38abe4cc5e.jpg: 480x640 1 object, 7.1ms\n",
      "image 377/880 D:\\Project\\segmented-images\\unlabeled-images\\images\\0468a846-d1d1-46fc-a653-592fcf5b550f.jpg: 512x640 (no detections), 9.5ms\n",
      "image 378/880 D:\\Project\\segmented-images\\unlabeled-images\\images\\046afa22-cae2-4239-8fa6-da31c3eae573.jpg: 512x640 1 object, 8.3ms\n",
      "image 379/880 D:\\Project\\segmented-images\\unlabeled-images\\images\\046b34d8-944e-40ad-b9b7-e564d0cdae68.jpg: 384x640 3 objects, 9.4ms\n",
      "image 380/880 D:\\Project\\segmented-images\\unlabeled-images\\images\\046caebc-1f08-41d0-b02d-e13ae9ffe9e8.jpg: 384x640 1 object, 7.3ms\n",
      "image 381/880 D:\\Project\\segmented-images\\unlabeled-images\\images\\046d4d65-edf5-4cea-ac15-e5463c4dfb0c.jpg: 480x640 (no detections), 7.5ms\n",
      "image 382/880 D:\\Project\\segmented-images\\unlabeled-images\\images\\046d6c80-9a5c-43d1-b238-99e53762df8a.jpg: 512x640 (no detections), 12.5ms\n",
      "image 383/880 D:\\Project\\segmented-images\\unlabeled-images\\images\\046d6f03-2c4d-4df9-9df9-d9f975cabdd8.jpg: 480x640 (no detections), 7.7ms\n",
      "image 384/880 D:\\Project\\segmented-images\\unlabeled-images\\images\\046d8c8c-9bec-4227-8265-60f75fe398dd.jpg: 384x640 (no detections), 8.8ms\n",
      "image 385/880 D:\\Project\\segmented-images\\unlabeled-images\\images\\04755c5c-105e-4299-90a0-2cc70d5a09cd.jpg: 512x640 1 object, 7.5ms\n",
      "image 386/880 D:\\Project\\segmented-images\\unlabeled-images\\images\\04758bf7-a174-48d6-b3c3-61e82450b6e7.jpg: 512x640 (no detections), 7.1ms\n",
      "image 387/880 D:\\Project\\segmented-images\\unlabeled-images\\images\\04760e67-875b-4a14-8ca6-4887dd47380e.jpg: 384x640 (no detections), 8.2ms\n",
      "image 388/880 D:\\Project\\segmented-images\\unlabeled-images\\images\\04765ed3-4012-478e-97e0-bc055550397e.jpg: 512x640 (no detections), 8.2ms\n",
      "image 389/880 D:\\Project\\segmented-images\\unlabeled-images\\images\\04770eac-b9dd-4eab-83dc-de2930f8611a.jpg: 512x640 3 objects, 8.9ms\n",
      "image 390/880 D:\\Project\\segmented-images\\unlabeled-images\\images\\0478c0ef-d3b7-4281-baf0-e6f20e6b3b6f.jpg: 480x640 (no detections), 7.6ms\n",
      "image 391/880 D:\\Project\\segmented-images\\unlabeled-images\\images\\0478e682-9558-4417-bbdb-70cab643a610.jpg: 512x640 1 object, 9.3ms\n",
      "image 392/880 D:\\Project\\segmented-images\\unlabeled-images\\images\\0480dbf9-16ad-4f58-a89f-8cbc94ee1377.jpg: 480x640 (no detections), 9.4ms\n",
      "image 393/880 D:\\Project\\segmented-images\\unlabeled-images\\images\\0481d2cf-1490-4fae-a1db-4c3c376ed920.jpg: 480x640 (no detections), 8.8ms\n",
      "image 394/880 D:\\Project\\segmented-images\\unlabeled-images\\images\\0481e8fd-737a-441d-a05d-cea7ed13b96f.jpg: 480x640 1 object, 6.9ms\n",
      "image 395/880 D:\\Project\\segmented-images\\unlabeled-images\\images\\049f0908-3359-4707-84b7-d48313ab26ec.jpg: 512x640 1 object, 7.1ms\n",
      "image 396/880 D:\\Project\\segmented-images\\unlabeled-images\\images\\049f50a8-5d75-4d9f-86f4-f208bcc3efc0.jpg: 480x640 (no detections), 7.3ms\n",
      "image 397/880 D:\\Project\\segmented-images\\unlabeled-images\\images\\049f92a7-0ab9-48e0-b150-d5f139cbf881.jpg: 384x640 (no detections), 6.8ms\n",
      "image 398/880 D:\\Project\\segmented-images\\unlabeled-images\\images\\049fb5fe-30c9-4f78-8218-369ebbe29d3b.jpg: 480x640 (no detections), 7.0ms\n",
      "image 399/880 D:\\Project\\segmented-images\\unlabeled-images\\images\\04a150d9-665a-46f3-b901-d234d4404634.jpg: 512x640 1 object, 7.4ms\n",
      "image 400/880 D:\\Project\\segmented-images\\unlabeled-images\\images\\04a159e7-4d76-4c60-b830-d98dfcd8d504.jpg: 480x640 1 object, 7.0ms\n",
      "image 401/880 D:\\Project\\segmented-images\\unlabeled-images\\images\\04a3377b-67e4-428b-aefd-9ea53bfaa463.jpg: 480x640 (no detections), 6.6ms\n",
      "image 402/880 D:\\Project\\segmented-images\\unlabeled-images\\images\\04a41847-c54d-40c7-9e06-7cb0217e0ebb.jpg: 480x640 (no detections), 7.0ms\n",
      "image 403/880 D:\\Project\\segmented-images\\unlabeled-images\\images\\04a47d69-2e66-4cb6-8127-a89f1f4167c7.jpg: 480x640 (no detections), 6.8ms\n",
      "image 404/880 D:\\Project\\segmented-images\\unlabeled-images\\images\\04a774bf-4cac-4bc3-ae7b-6b270e3c736b.jpg: 480x640 (no detections), 7.2ms\n",
      "image 405/880 D:\\Project\\segmented-images\\unlabeled-images\\images\\04a97eea-681e-4c6d-96c6-cdf11115be42.jpg: 384x640 (no detections), 9.8ms\n",
      "image 406/880 D:\\Project\\segmented-images\\unlabeled-images\\images\\04b29410-ea32-41f8-9dc4-db99d43cf53f.jpg: 512x640 (no detections), 9.7ms\n",
      "image 407/880 D:\\Project\\segmented-images\\unlabeled-images\\images\\04b30414-659b-4e26-a25c-bfb7ae4422f4.jpg: 480x640 (no detections), 9.3ms\n",
      "image 408/880 D:\\Project\\segmented-images\\unlabeled-images\\images\\04b37643-c6a0-4f7d-8d5f-cfddf2c18ad0.jpg: 512x640 (no detections), 7.9ms\n",
      "image 409/880 D:\\Project\\segmented-images\\unlabeled-images\\images\\04b99979-f2af-486e-93ac-313d94a07930.jpg: 512x640 (no detections), 7.1ms\n",
      "image 410/880 D:\\Project\\segmented-images\\unlabeled-images\\images\\04bae88b-f9d2-4821-9c34-4efe4bc60f0d.jpg: 384x640 (no detections), 8.2ms\n",
      "image 411/880 D:\\Project\\segmented-images\\unlabeled-images\\images\\04bc19d6-f16e-4ef0-a144-313cc150ad77.jpg: 480x640 (no detections), 7.3ms\n",
      "image 412/880 D:\\Project\\segmented-images\\unlabeled-images\\images\\04bc3f4c-32a0-4e4e-aa26-190066233c98.jpg: 512x640 (no detections), 7.2ms\n",
      "image 413/880 D:\\Project\\segmented-images\\unlabeled-images\\images\\04c26d1a-eec3-4d4e-9d43-53d866ff995f.jpg: 480x640 (no detections), 13.8ms\n",
      "image 414/880 D:\\Project\\segmented-images\\unlabeled-images\\images\\04c28b35-b462-4a46-85cb-055707a6dc2f.jpg: 512x640 (no detections), 8.9ms\n",
      "image 415/880 D:\\Project\\segmented-images\\unlabeled-images\\images\\04cb57fd-1a8f-4d95-ae82-2a6a11241701.jpg: 384x640 (no detections), 7.2ms\n",
      "image 416/880 D:\\Project\\segmented-images\\unlabeled-images\\images\\04cb7a60-b696-48fb-8f38-b2e0404684ca.jpg: 480x640 (no detections), 7.8ms\n",
      "image 417/880 D:\\Project\\segmented-images\\unlabeled-images\\images\\04cbdcd1-d5c9-44d8-88b3-0e33810efb51.jpg: 512x640 (no detections), 7.3ms\n",
      "image 418/880 D:\\Project\\segmented-images\\unlabeled-images\\images\\04ccb297-f69d-4347-9e90-09b1509d362c.jpg: 384x640 (no detections), 7.7ms\n",
      "image 419/880 D:\\Project\\segmented-images\\unlabeled-images\\images\\04cce464-0d95-4f6c-8ce9-3f26b2a8ea02.jpg: 512x640 1 object, 7.0ms\n",
      "image 420/880 D:\\Project\\segmented-images\\unlabeled-images\\images\\04d74886-23a2-4a73-bb1a-6e0c9862ca77.jpg: 512x640 (no detections), 8.5ms\n",
      "image 421/880 D:\\Project\\segmented-images\\unlabeled-images\\images\\04da1312-88c1-4741-afbe-2d28fb693d7e.jpg: 480x640 (no detections), 7.4ms\n",
      "image 422/880 D:\\Project\\segmented-images\\unlabeled-images\\images\\04dc53bf-62de-4948-ad6f-6332103b07cb.jpg: 512x640 (no detections), 7.2ms\n",
      "image 423/880 D:\\Project\\segmented-images\\unlabeled-images\\images\\04dc5732-7ced-4217-bc11-294c8c0e4f95.jpg: 512x640 (no detections), 10.4ms\n",
      "image 424/880 D:\\Project\\segmented-images\\unlabeled-images\\images\\04dd05a9-8d0e-4605-8074-5f36d372f9f5.jpg: 480x640 (no detections), 7.0ms\n",
      "image 425/880 D:\\Project\\segmented-images\\unlabeled-images\\images\\04dd2a51-47f8-404c-9957-c6dc6fbcb9cf.jpg: 480x640 (no detections), 8.6ms\n",
      "image 426/880 D:\\Project\\segmented-images\\unlabeled-images\\images\\04df607c-f58a-4363-b37f-07a3472322a7.jpg: 480x640 1 object, 7.5ms\n",
      "image 427/880 D:\\Project\\segmented-images\\unlabeled-images\\images\\04f0d4be-8c3c-4dbb-a726-3136935930bd.jpg: 480x640 (no detections), 6.6ms\n",
      "image 428/880 D:\\Project\\segmented-images\\unlabeled-images\\images\\04f1f701-bee1-46b3-9f96-43f43176835d.jpg: 512x640 (no detections), 7.3ms\n",
      "image 429/880 D:\\Project\\segmented-images\\unlabeled-images\\images\\04f1f936-3829-42ca-8d29-c5ceb8d5c5d1.jpg: 480x640 (no detections), 7.2ms\n",
      "image 430/880 D:\\Project\\segmented-images\\unlabeled-images\\images\\04f2a52f-be3d-455e-b5bd-69bfa9fd568d.jpg: 384x640 (no detections), 7.5ms\n",
      "image 431/880 D:\\Project\\segmented-images\\unlabeled-images\\images\\04f2c431-77b3-409d-b729-76fa75224914.jpg: 512x640 1 object, 10.8ms\n",
      "image 432/880 D:\\Project\\segmented-images\\unlabeled-images\\images\\04f2cf38-d4ac-4aa9-bbc5-fe7b4849b282.jpg: 480x640 (no detections), 9.1ms\n",
      "image 433/880 D:\\Project\\segmented-images\\unlabeled-images\\images\\04f3dd99-bee1-4deb-9c57-756fbdea0e73.jpg: 512x640 1 object, 8.2ms\n",
      "image 434/880 D:\\Project\\segmented-images\\unlabeled-images\\images\\0508d76d-cdfc-412c-a931-36ccf919be0f.jpg: 480x640 1 object, 11.5ms\n",
      "image 435/880 D:\\Project\\segmented-images\\unlabeled-images\\images\\050ace19-2c8c-416e-ac1b-e8737c59c885.jpg: 512x640 1 object, 7.8ms\n",
      "image 436/880 D:\\Project\\segmented-images\\unlabeled-images\\images\\050bfbe1-7605-45c6-a407-2e56b6869c99.jpg: 384x640 1 object, 7.3ms\n",
      "image 437/880 D:\\Project\\segmented-images\\unlabeled-images\\images\\0510b34c-e304-46e5-a745-5e0a39b5f7e3.jpg: 480x640 1 object, 7.6ms\n",
      "image 438/880 D:\\Project\\segmented-images\\unlabeled-images\\images\\0510c7c0-1fbb-4388-8075-af8b1dccec4e.jpg: 480x640 1 object, 7.0ms\n",
      "image 439/880 D:\\Project\\segmented-images\\unlabeled-images\\images\\0511d0d0-52cb-45de-a65d-ecf31d949b29.jpg: 384x640 2 objects, 8.7ms\n",
      "image 440/880 D:\\Project\\segmented-images\\unlabeled-images\\images\\051484ca-a0e5-4363-b6ac-dc835a12a222.jpg: 512x640 1 object, 7.4ms\n",
      "image 441/880 D:\\Project\\segmented-images\\unlabeled-images\\images\\05201b80-3769-4b08-a67d-462c69eacca5.jpg: 480x640 (no detections), 9.9ms\n",
      "image 442/880 D:\\Project\\segmented-images\\unlabeled-images\\images\\0524956d-2f07-4be0-9753-cd0e8349493a.jpg: 480x640 (no detections), 6.9ms\n",
      "image 443/880 D:\\Project\\segmented-images\\unlabeled-images\\images\\0524a3c9-7767-4ab1-815b-760daec0d839.jpg: 512x640 1 object, 7.5ms\n",
      "image 444/880 D:\\Project\\segmented-images\\unlabeled-images\\images\\05252fac-77cc-4b21-83ca-fa9c1acb7355.jpg: 384x640 (no detections), 7.3ms\n",
      "image 445/880 D:\\Project\\segmented-images\\unlabeled-images\\images\\05264d7b-ab36-492f-a4c1-7167dcfdcacd.jpg: 480x640 (no detections), 7.6ms\n",
      "image 446/880 D:\\Project\\segmented-images\\unlabeled-images\\images\\05279bc0-d61b-4828-b5fe-f37dfc85b1b1.jpg: 384x640 1 object, 7.5ms\n",
      "image 447/880 D:\\Project\\segmented-images\\unlabeled-images\\images\\052b019d-824f-4993-a27b-55db5d7aa3a5.jpg: 512x640 (no detections), 7.7ms\n",
      "image 448/880 D:\\Project\\segmented-images\\unlabeled-images\\images\\052b7ff3-8d41-41e6-9037-08491b55f3ef.jpg: 480x640 (no detections), 7.3ms\n",
      "image 449/880 D:\\Project\\segmented-images\\unlabeled-images\\images\\052bc6c0-6abb-4ad6-9445-e6eebd64b0ee.jpg: 480x640 1 object, 6.8ms\n",
      "image 450/880 D:\\Project\\segmented-images\\unlabeled-images\\images\\052cf1b8-649d-4098-8e31-1db842b9bdce.jpg: 512x640 (no detections), 8.0ms\n",
      "image 451/880 D:\\Project\\segmented-images\\unlabeled-images\\images\\0530742e-4e65-4288-8a8b-d3b694a827e8.jpg: 512x640 (no detections), 7.2ms\n",
      "image 452/880 D:\\Project\\segmented-images\\unlabeled-images\\images\\053217d4-7297-46d9-a7f2-3dffbad01a45.jpg: 480x640 (no detections), 7.7ms\n",
      "image 453/880 D:\\Project\\segmented-images\\unlabeled-images\\images\\05322e2f-fb6b-4252-8af4-5de650ea245b.jpg: 512x640 (no detections), 7.7ms\n",
      "image 454/880 D:\\Project\\segmented-images\\unlabeled-images\\images\\05332e74-21ea-44b5-9e2c-edf03be44dc4.jpg: 512x640 (no detections), 8.6ms\n",
      "image 455/880 D:\\Project\\segmented-images\\unlabeled-images\\images\\0533926c-d60e-4d77-9113-e294395c547f.jpg: 512x640 1 object, 7.8ms\n",
      "image 456/880 D:\\Project\\segmented-images\\unlabeled-images\\images\\053989a0-2f65-4f25-bc63-cedc64e52006.jpg: 512x640 (no detections), 8.0ms\n",
      "image 457/880 D:\\Project\\segmented-images\\unlabeled-images\\images\\053c5663-4c2b-45c0-9d29-621f644307d2.jpg: 480x640 (no detections), 7.1ms\n",
      "image 458/880 D:\\Project\\segmented-images\\unlabeled-images\\images\\053ca8f2-2314-41bf-aa9d-d301cb963c22.jpg: 512x640 (no detections), 8.0ms\n",
      "image 459/880 D:\\Project\\segmented-images\\unlabeled-images\\images\\053e0cfe-a543-4578-a904-1f4579bc83fc.jpg: 480x640 2 objects, 7.5ms\n",
      "image 460/880 D:\\Project\\segmented-images\\unlabeled-images\\images\\054219e0-46a4-455c-ac28-084e252e9d63.jpg: 480x640 (no detections), 7.5ms\n",
      "image 461/880 D:\\Project\\segmented-images\\unlabeled-images\\images\\054248c7-ab4d-41af-93ce-fb9fc3071882.jpg: 512x640 (no detections), 8.0ms\n",
      "image 462/880 D:\\Project\\segmented-images\\unlabeled-images\\images\\0542516a-1056-4415-8221-085e8198737d.jpg: 480x640 (no detections), 8.0ms\n",
      "image 463/880 D:\\Project\\segmented-images\\unlabeled-images\\images\\0546266e-1761-449e-a8c2-0a91431e9c77.jpg: 512x640 1 object, 7.3ms\n",
      "image 464/880 D:\\Project\\segmented-images\\unlabeled-images\\images\\0552102a-5ce9-4628-a96b-7d09d84a1f13.jpg: 480x640 1 object, 7.2ms\n",
      "image 465/880 D:\\Project\\segmented-images\\unlabeled-images\\images\\05530375-6f8c-4ff1-bd78-dea2851a4e83.jpg: 512x640 1 object, 7.1ms\n",
      "image 466/880 D:\\Project\\segmented-images\\unlabeled-images\\images\\055684dd-78b0-46df-b7cf-c1c8fa386752.jpg: 512x640 1 object, 7.0ms\n",
      "image 467/880 D:\\Project\\segmented-images\\unlabeled-images\\images\\05579881-602e-4a17-9aa5-6424f6083035.jpg: 480x640 (no detections), 7.4ms\n",
      "image 468/880 D:\\Project\\segmented-images\\unlabeled-images\\images\\05600219-7451-43f1-88c5-b436e3def810.jpg: 512x640 1 object, 7.7ms\n",
      "image 469/880 D:\\Project\\segmented-images\\unlabeled-images\\images\\05617662-2069-4353-8f50-1aae778aaa5c.jpg: 480x640 1 object, 7.7ms\n",
      "image 470/880 D:\\Project\\segmented-images\\unlabeled-images\\images\\056740f0-5365-4d30-81a7-68f079529aab.jpg: 512x640 (no detections), 7.5ms\n",
      "image 471/880 D:\\Project\\segmented-images\\unlabeled-images\\images\\056a1e65-1f22-4203-a5a4-ae03a9174b69.jpg: 384x640 1 object, 7.6ms\n",
      "image 472/880 D:\\Project\\segmented-images\\unlabeled-images\\images\\056a53a7-356c-40af-8d49-e62a2ff315d2.jpg: 480x640 1 object, 7.4ms\n",
      "image 473/880 D:\\Project\\segmented-images\\unlabeled-images\\images\\056abb35-e31e-4e02-9f42-39d89b7d1975.jpg: 480x640 (no detections), 6.7ms\n",
      "image 474/880 D:\\Project\\segmented-images\\unlabeled-images\\images\\056b5451-b251-4a54-bcc9-616971eca32a.jpg: 512x640 1 object, 7.3ms\n",
      "image 475/880 D:\\Project\\segmented-images\\unlabeled-images\\images\\056bc91a-41c9-4434-b59a-6688b6760deb.jpg: 512x640 1 object, 7.9ms\n",
      "image 476/880 D:\\Project\\segmented-images\\unlabeled-images\\images\\056c2daa-dd6d-4993-a626-b8dcb4625ebe.jpg: 512x640 (no detections), 6.8ms\n",
      "image 477/880 D:\\Project\\segmented-images\\unlabeled-images\\images\\056d6aab-9ad2-49d5-983f-bfa9a9bced08.jpg: 480x640 (no detections), 7.8ms\n",
      "image 478/880 D:\\Project\\segmented-images\\unlabeled-images\\images\\05726d43-c2c8-4a57-a65b-f40864642ce2.jpg: 512x640 (no detections), 9.3ms\n",
      "image 479/880 D:\\Project\\segmented-images\\unlabeled-images\\images\\0573a31e-bc6f-4ad0-8c81-dcd76e5c961d.jpg: 512x640 (no detections), 6.9ms\n",
      "image 480/880 D:\\Project\\segmented-images\\unlabeled-images\\images\\0574cccd-dff5-40d4-899e-4c5948ebd91d.jpg: 512x640 (no detections), 6.6ms\n",
      "image 481/880 D:\\Project\\segmented-images\\unlabeled-images\\images\\0574e126-5edd-4e97-a7d2-ed8fe0287af1.jpg: 512x640 (no detections), 7.2ms\n",
      "image 482/880 D:\\Project\\segmented-images\\unlabeled-images\\images\\0574ee93-299d-41fc-b591-35b1a391fa4b.jpg: 384x640 (no detections), 9.7ms\n",
      "image 483/880 D:\\Project\\segmented-images\\unlabeled-images\\images\\05764913-7602-4fd4-a7ff-9de19ebabbd6.jpg: 512x640 (no detections), 7.5ms\n",
      "image 484/880 D:\\Project\\segmented-images\\unlabeled-images\\images\\0576a712-07ce-49db-9ebd-932fbc5f1f5f.jpg: 480x640 (no detections), 8.7ms\n",
      "image 485/880 D:\\Project\\segmented-images\\unlabeled-images\\images\\0576d414-2b71-4665-8504-e508b3812227.jpg: 480x640 1 object, 6.8ms\n",
      "image 486/880 D:\\Project\\segmented-images\\unlabeled-images\\images\\0577a15b-2b4e-4a24-a7bd-74888985b4e8.jpg: 512x640 (no detections), 7.3ms\n",
      "image 487/880 D:\\Project\\segmented-images\\unlabeled-images\\images\\05898132-47cd-49c2-9397-1107ff3f5e99.jpg: 512x640 (no detections), 8.9ms\n",
      "image 488/880 D:\\Project\\segmented-images\\unlabeled-images\\images\\05949222-724f-499c-83b1-7ecd1d050207.jpg: 480x640 (no detections), 13.1ms\n",
      "image 489/880 D:\\Project\\segmented-images\\unlabeled-images\\images\\059ba836-edf8-49a7-8b60-971bc297baec.jpg: 480x640 (no detections), 9.1ms\n",
      "image 490/880 D:\\Project\\segmented-images\\unlabeled-images\\images\\059c2b56-a7f1-43f7-abf4-58ae38f9fb2f.jpg: 384x640 (no detections), 8.9ms\n",
      "image 491/880 D:\\Project\\segmented-images\\unlabeled-images\\images\\059cc84b-ee33-4a4a-9cd0-7219366e6860.jpg: 384x640 1 object, 9.0ms\n",
      "image 492/880 D:\\Project\\segmented-images\\unlabeled-images\\images\\059df4d0-4e7e-47d1-857d-37c81f9c0a2c.jpg: 512x640 (no detections), 7.4ms\n",
      "image 493/880 D:\\Project\\segmented-images\\unlabeled-images\\images\\059e0563-cf7a-4f79-b379-6193c1946538.jpg: 512x640 (no detections), 7.4ms\n",
      "image 494/880 D:\\Project\\segmented-images\\unlabeled-images\\images\\059e4e75-358b-4890-808a-9472dec2bd14.jpg: 480x640 (no detections), 7.1ms\n",
      "image 495/880 D:\\Project\\segmented-images\\unlabeled-images\\images\\059ed5a0-2023-472f-9dd1-62fb6ad742f5.jpg: 480x640 (no detections), 10.0ms\n",
      "image 496/880 D:\\Project\\segmented-images\\unlabeled-images\\images\\05a3fd40-2e41-4f97-ab3d-54220489cf4b.jpg: 480x640 (no detections), 10.7ms\n",
      "image 497/880 D:\\Project\\segmented-images\\unlabeled-images\\images\\05a47606-8afc-457b-8c6f-85d64a357d8f.jpg: 480x640 (no detections), 7.2ms\n",
      "image 498/880 D:\\Project\\segmented-images\\unlabeled-images\\images\\05a4979a-a0d7-4d51-a8a4-e9b4f30fff18.jpg: 480x640 (no detections), 9.0ms\n",
      "image 499/880 D:\\Project\\segmented-images\\unlabeled-images\\images\\05a5198b-f92a-4821-9d57-aedcd27b68a3.jpg: 480x640 (no detections), 7.0ms\n",
      "image 500/880 D:\\Project\\segmented-images\\unlabeled-images\\images\\05a53332-1e00-4c1b-9cad-e567adf0b159.jpg: 512x640 1 object, 7.5ms\n",
      "image 501/880 D:\\Project\\segmented-images\\unlabeled-images\\images\\05a72872-5e8c-467d-aca4-ec52ec114f90.jpg: 480x640 1 object, 7.3ms\n",
      "image 502/880 D:\\Project\\segmented-images\\unlabeled-images\\images\\05a98883-2a2a-421a-906d-6969c6bb34fe.jpg: 384x640 1 object, 7.1ms\n",
      "image 503/880 D:\\Project\\segmented-images\\unlabeled-images\\images\\05b2609b-583c-483d-bb72-d63b80e6b3f4.jpg: 480x640 (no detections), 7.7ms\n",
      "image 504/880 D:\\Project\\segmented-images\\unlabeled-images\\images\\05b55007-481e-47e4-b451-db2b70d9ea06.jpg: 480x640 (no detections), 6.7ms\n",
      "image 505/880 D:\\Project\\segmented-images\\unlabeled-images\\images\\05ba236e-bd74-407d-a9bb-1e71350ae2e4.jpg: 480x640 (no detections), 6.8ms\n",
      "image 506/880 D:\\Project\\segmented-images\\unlabeled-images\\images\\05ba4afc-8e8c-4b94-b3fd-d9dd576b308d.jpg: 384x640 (no detections), 7.5ms\n",
      "image 507/880 D:\\Project\\segmented-images\\unlabeled-images\\images\\05bb8d04-bab7-4168-83d5-21faa590c199.jpg: 480x640 (no detections), 7.2ms\n",
      "image 508/880 D:\\Project\\segmented-images\\unlabeled-images\\images\\05c1d105-bead-4a2d-8d10-a37d954c3e0f.jpg: 480x640 (no detections), 7.2ms\n",
      "image 509/880 D:\\Project\\segmented-images\\unlabeled-images\\images\\05c3e544-5dc3-48c6-a38e-8b550ff92da7.jpg: 480x640 (no detections), 6.9ms\n",
      "image 510/880 D:\\Project\\segmented-images\\unlabeled-images\\images\\05d413f6-8dbb-4505-ab34-58c6ca6fa4c9.jpg: 512x640 (no detections), 7.2ms\n",
      "image 511/880 D:\\Project\\segmented-images\\unlabeled-images\\images\\05d58c3e-eabd-4784-81d7-3f821589115f.jpg: 480x640 (no detections), 6.8ms\n",
      "image 512/880 D:\\Project\\segmented-images\\unlabeled-images\\images\\05d5e3a0-34bc-441b-a58e-e71b1e28a482.jpg: 512x640 (no detections), 7.1ms\n",
      "image 513/880 D:\\Project\\segmented-images\\unlabeled-images\\images\\05d6f47e-4988-4cf3-85ab-387e7daac279.jpg: 512x640 (no detections), 8.1ms\n",
      "image 514/880 D:\\Project\\segmented-images\\unlabeled-images\\images\\05d7f24f-c761-4113-9a84-7068a79ec0ea.jpg: 512x640 (no detections), 7.1ms\n",
      "image 515/880 D:\\Project\\segmented-images\\unlabeled-images\\images\\05d85dcb-002b-4981-a710-089df879438a.jpg: 512x640 1 object, 6.8ms\n",
      "image 516/880 D:\\Project\\segmented-images\\unlabeled-images\\images\\05d87c90-195d-4f40-bd9d-ccadb8680e45.jpg: 480x640 (no detections), 9.2ms\n",
      "image 517/880 D:\\Project\\segmented-images\\unlabeled-images\\images\\05e40226-dbc3-47b3-912f-83ecd59a9527.jpg: 512x640 (no detections), 7.1ms\n",
      "image 518/880 D:\\Project\\segmented-images\\unlabeled-images\\images\\05e73155-a7a8-4f3b-a75a-4606cdf4a804.jpg: 512x640 (no detections), 7.1ms\n",
      "image 519/880 D:\\Project\\segmented-images\\unlabeled-images\\images\\05e98855-94ae-467d-be49-6ef2c8368b2b.jpg: 512x640 (no detections), 6.6ms\n",
      "image 520/880 D:\\Project\\segmented-images\\unlabeled-images\\images\\05ea468f-483e-4004-a819-4a96681da707.jpg: 384x640 (no detections), 7.5ms\n",
      "image 521/880 D:\\Project\\segmented-images\\unlabeled-images\\images\\05ea8365-b24e-4f3f-b5cb-3dac91e34609.jpg: 512x640 2 objects, 7.3ms\n",
      "image 522/880 D:\\Project\\segmented-images\\unlabeled-images\\images\\05eaf27f-ca54-4a2b-a2a3-10408a5a7e84.jpg: 480x640 (no detections), 7.9ms\n",
      "image 523/880 D:\\Project\\segmented-images\\unlabeled-images\\images\\05eb240c-58cd-4b5b-b64b-faec4c5fef2c.jpg: 512x640 1 object, 8.9ms\n",
      "image 524/880 D:\\Project\\segmented-images\\unlabeled-images\\images\\05fb3356-251f-43cc-b7ce-ae6dfe14b9ba.jpg: 480x640 (no detections), 7.3ms\n",
      "image 525/880 D:\\Project\\segmented-images\\unlabeled-images\\images\\05fb7548-cef2-4c93-be39-3dd9a706a89f.jpg: 480x640 (no detections), 7.2ms\n",
      "image 526/880 D:\\Project\\segmented-images\\unlabeled-images\\images\\05fc596d-da97-4e72-aa49-5002b789e898.jpg: 512x640 (no detections), 9.2ms\n",
      "image 527/880 D:\\Project\\segmented-images\\unlabeled-images\\images\\05fc7387-f881-45a7-a62d-ef06da026e19.jpg: 512x640 (no detections), 6.8ms\n",
      "image 528/880 D:\\Project\\segmented-images\\unlabeled-images\\images\\0605746e-b509-40ba-b50c-46a3a15b6530.jpg: 480x640 1 object, 7.3ms\n",
      "image 529/880 D:\\Project\\segmented-images\\unlabeled-images\\images\\0607ebcb-1dca-4cb4-a894-6c0477e15269.jpg: 480x640 1 object, 8.9ms\n",
      "image 530/880 D:\\Project\\segmented-images\\unlabeled-images\\images\\0618ae03-6234-4d33-8d36-450872383e1e.jpg: 512x640 (no detections), 7.7ms\n",
      "image 531/880 D:\\Project\\segmented-images\\unlabeled-images\\images\\06208f07-d0c1-4cbb-849c-799e1ce12440.jpg: 512x640 1 object, 6.8ms\n",
      "image 532/880 D:\\Project\\segmented-images\\unlabeled-images\\images\\0620f44a-5e0d-4701-aae8-6455d8b9d24f.jpg: 480x640 1 object, 20.3ms\n",
      "image 533/880 D:\\Project\\segmented-images\\unlabeled-images\\images\\06254bb3-f69a-4d34-97cd-e46c4357cb37.jpg: 384x640 (no detections), 7.0ms\n",
      "image 534/880 D:\\Project\\segmented-images\\unlabeled-images\\images\\0625bf67-d4a7-4e8a-8253-5cbedbcef38c.jpg: 480x640 (no detections), 7.8ms\n",
      "image 535/880 D:\\Project\\segmented-images\\unlabeled-images\\images\\0625f5b6-139a-4adf-b178-bbdd1c296843.jpg: 480x640 (no detections), 6.7ms\n",
      "image 536/880 D:\\Project\\segmented-images\\unlabeled-images\\images\\0626deb4-ff1c-41e8-b5bc-cee0acefb82f.jpg: 480x640 1 object, 6.6ms\n",
      "image 537/880 D:\\Project\\segmented-images\\unlabeled-images\\images\\06279cf2-8ef3-48dc-a298-f6dd5537789b.jpg: 480x640 (no detections), 6.7ms\n",
      "image 538/880 D:\\Project\\segmented-images\\unlabeled-images\\images\\06298e6c-bbda-45c4-8581-3833cbbaa7d1.jpg: 480x640 (no detections), 6.7ms\n",
      "image 539/880 D:\\Project\\segmented-images\\unlabeled-images\\images\\062c092f-6e26-47b3-a650-a19be939ad5b.jpg: 512x640 (no detections), 7.1ms\n",
      "image 540/880 D:\\Project\\segmented-images\\unlabeled-images\\images\\062c3377-f504-4d45-a70e-c066823855ad.jpg: 480x640 (no detections), 7.2ms\n",
      "image 541/880 D:\\Project\\segmented-images\\unlabeled-images\\images\\062cdea1-54a0-48f4-8b4c-bc2e0f952019.jpg: 512x640 3 objects, 7.5ms\n",
      "image 542/880 D:\\Project\\segmented-images\\unlabeled-images\\images\\06315d4c-9f7e-44b9-9100-33e5eb52cc3c.jpg: 480x640 (no detections), 9.2ms\n",
      "image 543/880 D:\\Project\\segmented-images\\unlabeled-images\\images\\06328d9a-0772-449a-a4a4-7fb3d924f71a.jpg: 480x640 (no detections), 6.6ms\n",
      "image 544/880 D:\\Project\\segmented-images\\unlabeled-images\\images\\06339a39-25b4-41f5-b798-4303f1ae165e.jpg: 512x640 (no detections), 7.7ms\n",
      "image 545/880 D:\\Project\\segmented-images\\unlabeled-images\\images\\063b2166-0c48-43b7-a3a0-ab567b919080.jpg: 480x640 (no detections), 7.1ms\n",
      "image 546/880 D:\\Project\\segmented-images\\unlabeled-images\\images\\063b39c3-76f0-4a93-b8e6-664da898ea08.jpg: 512x640 (no detections), 7.4ms\n",
      "image 547/880 D:\\Project\\segmented-images\\unlabeled-images\\images\\063b97b5-4752-482a-8b70-0ea2be2830ba.jpg: 480x640 (no detections), 8.6ms\n",
      "image 548/880 D:\\Project\\segmented-images\\unlabeled-images\\images\\063b98d9-30ad-44e5-92a5-1dc0c60a1ca9.jpg: 480x640 (no detections), 8.3ms\n",
      "image 549/880 D:\\Project\\segmented-images\\unlabeled-images\\images\\065727f2-be15-4bf7-94e4-a20f90913b35.jpg: 512x640 1 object, 7.6ms\n",
      "image 550/880 D:\\Project\\segmented-images\\unlabeled-images\\images\\065a35d4-0356-45e3-ad60-d532919fbb73.jpg: 512x640 (no detections), 6.9ms\n",
      "image 551/880 D:\\Project\\segmented-images\\unlabeled-images\\images\\065b0979-bc9d-46ab-98fd-5e80301469f6.jpg: 512x640 2 objects, 7.4ms\n",
      "image 552/880 D:\\Project\\segmented-images\\unlabeled-images\\images\\065ba81d-15a1-4160-970f-7c04fbfe631c.jpg: 480x640 (no detections), 6.9ms\n",
      "image 553/880 D:\\Project\\segmented-images\\unlabeled-images\\images\\065bbda0-e959-4210-9806-bb7c30627dbc.jpg: 480x640 (no detections), 7.2ms\n",
      "image 554/880 D:\\Project\\segmented-images\\unlabeled-images\\images\\065c4ccc-d253-45aa-ab52-996ca5d59418.jpg: 512x640 1 object, 7.5ms\n",
      "image 555/880 D:\\Project\\segmented-images\\unlabeled-images\\images\\065d1d92-db16-4f2f-b9cf-484b22a755c1.jpg: 384x640 2 objects, 9.8ms\n",
      "image 556/880 D:\\Project\\segmented-images\\unlabeled-images\\images\\065d9f45-5ce0-439a-8c8b-2d8caa734114.jpg: 480x640 (no detections), 7.3ms\n",
      "image 557/880 D:\\Project\\segmented-images\\unlabeled-images\\images\\066172f4-bf0a-45e7-a927-9d44a7b0b4e0.jpg: 480x640 (no detections), 7.9ms\n",
      "image 558/880 D:\\Project\\segmented-images\\unlabeled-images\\images\\066196e2-1997-4424-abcf-8a25c9ae215d.jpg: 480x640 (no detections), 7.3ms\n",
      "image 559/880 D:\\Project\\segmented-images\\unlabeled-images\\images\\0661c14f-cdaa-4cdf-b9c4-fa7d016cbef2.jpg: 384x640 (no detections), 7.2ms\n",
      "image 560/880 D:\\Project\\segmented-images\\unlabeled-images\\images\\0661d10a-b9b3-4e93-be9f-4bbfca5be8e2.jpg: 480x640 2 objects, 9.7ms\n",
      "image 561/880 D:\\Project\\segmented-images\\unlabeled-images\\images\\0661de7c-2e53-4aa2-b8d7-7fcba6b3565c.jpg: 512x640 (no detections), 7.6ms\n",
      "image 562/880 D:\\Project\\segmented-images\\unlabeled-images\\images\\0661f887-837b-4703-b86e-7811123c78e9.jpg: 480x640 (no detections), 10.2ms\n",
      "image 563/880 D:\\Project\\segmented-images\\unlabeled-images\\images\\0663c376-2c3b-4f29-8d19-42cf93ca0d4f.jpg: 512x640 (no detections), 7.3ms\n",
      "image 564/880 D:\\Project\\segmented-images\\unlabeled-images\\images\\0676eae6-e454-4f3c-a15d-860417c88239.jpg: 512x640 1 object, 6.7ms\n",
      "image 565/880 D:\\Project\\segmented-images\\unlabeled-images\\images\\0678ab28-70db-4b94-9017-5ab042810d6c.jpg: 512x640 (no detections), 6.6ms\n",
      "image 566/880 D:\\Project\\segmented-images\\unlabeled-images\\images\\06873152-90cc-4d58-9c6a-000178e1dfbb.jpg: 480x640 (no detections), 6.9ms\n",
      "image 567/880 D:\\Project\\segmented-images\\unlabeled-images\\images\\06874694-beff-47f1-a974-9b2fa631dffb.jpg: 384x640 (no detections), 7.0ms\n",
      "image 568/880 D:\\Project\\segmented-images\\unlabeled-images\\images\\068b428d-8912-4b3a-842e-d63b7f4f14f8.jpg: 480x640 1 object, 6.9ms\n",
      "image 569/880 D:\\Project\\segmented-images\\unlabeled-images\\images\\068cc7c5-9a8d-4762-a233-69ccbfe00966.jpg: 480x640 1 object, 6.9ms\n",
      "image 570/880 D:\\Project\\segmented-images\\unlabeled-images\\images\\068d7b95-1487-4c3d-bbe2-469ad6cae6fb.jpg: 480x640 (no detections), 7.1ms\n",
      "image 571/880 D:\\Project\\segmented-images\\unlabeled-images\\images\\068e69e0-43e4-4292-9847-214f839a0ce7.jpg: 480x640 (no detections), 6.8ms\n",
      "image 572/880 D:\\Project\\segmented-images\\unlabeled-images\\images\\068f9e1e-5d3c-472c-8a9e-06c9ee9a1940.jpg: 512x640 1 object, 7.2ms\n",
      "image 573/880 D:\\Project\\segmented-images\\unlabeled-images\\images\\068ffcb4-69e3-43ac-bcdb-71304e9ecd43.jpg: 512x640 (no detections), 7.7ms\n",
      "image 574/880 D:\\Project\\segmented-images\\unlabeled-images\\images\\069015cb-8ca5-42b9-b746-9a33d5792fa7.jpg: 480x640 (no detections), 8.5ms\n",
      "image 575/880 D:\\Project\\segmented-images\\unlabeled-images\\images\\06908bd4-fdd3-46e9-b130-0e403e8bb655.jpg: 480x640 (no detections), 6.6ms\n",
      "image 576/880 D:\\Project\\segmented-images\\unlabeled-images\\images\\069313f8-c385-4d95-94e5-40e56df9cc47.jpg: 512x640 (no detections), 11.4ms\n",
      "image 577/880 D:\\Project\\segmented-images\\unlabeled-images\\images\\069647ff-a20e-4925-b358-1e471de80fb7.jpg: 480x640 1 object, 7.2ms\n",
      "image 578/880 D:\\Project\\segmented-images\\unlabeled-images\\images\\06982373-c0d1-4f6f-aea4-a8e1a13230d4.jpg: 480x640 (no detections), 7.5ms\n",
      "image 579/880 D:\\Project\\segmented-images\\unlabeled-images\\images\\06a32370-5810-4eda-8d9f-fdc0995dc9bc.jpg: 384x640 1 object, 9.1ms\n",
      "image 580/880 D:\\Project\\segmented-images\\unlabeled-images\\images\\06a40051-8e44-4135-b62e-1ef0cd4efbdf.jpg: 512x640 (no detections), 8.3ms\n",
      "image 581/880 D:\\Project\\segmented-images\\unlabeled-images\\images\\06a4499a-e9f0-4861-8f26-b1f99da4e91c.jpg: 512x640 1 object, 6.6ms\n",
      "image 582/880 D:\\Project\\segmented-images\\unlabeled-images\\images\\06a952d7-588e-40e1-b2e8-9fe61f370002.jpg: 480x640 1 object, 11.6ms\n",
      "image 583/880 D:\\Project\\segmented-images\\unlabeled-images\\images\\06aa18ac-14fb-4f36-9407-d398a3d85809.jpg: 480x640 (no detections), 9.6ms\n",
      "image 584/880 D:\\Project\\segmented-images\\unlabeled-images\\images\\06aaebf6-d633-49b3-8f04-0c9a710b37c4.jpg: 512x640 (no detections), 7.2ms\n",
      "image 585/880 D:\\Project\\segmented-images\\unlabeled-images\\images\\06ab8b9b-1d8b-4787-a2fa-0af8ed273935.jpg: 480x640 1 object, 7.5ms\n",
      "image 586/880 D:\\Project\\segmented-images\\unlabeled-images\\images\\06c0d757-5b55-4c9f-9b26-8e85d9ea10b1.jpg: 512x640 (no detections), 7.1ms\n",
      "image 587/880 D:\\Project\\segmented-images\\unlabeled-images\\images\\06c11ab6-abe5-48ae-b74a-59041b835eef.jpg: 512x640 1 object, 7.1ms\n",
      "image 588/880 D:\\Project\\segmented-images\\unlabeled-images\\images\\06c4b6ed-7575-4d0c-a0b2-099e1addc15d.jpg: 480x640 1 object, 7.4ms\n",
      "image 589/880 D:\\Project\\segmented-images\\unlabeled-images\\images\\06c5ac40-ee56-48c7-9258-5f319806a5ff.jpg: 512x640 1 object, 11.2ms\n",
      "image 590/880 D:\\Project\\segmented-images\\unlabeled-images\\images\\06c5f3d9-cd45-4982-9800-4f02bca7b89f.jpg: 512x640 1 object, 7.0ms\n",
      "image 591/880 D:\\Project\\segmented-images\\unlabeled-images\\images\\06c9c2e6-beef-47e8-82ef-550caff32fee.jpg: 512x640 4 objects, 6.5ms\n",
      "image 592/880 D:\\Project\\segmented-images\\unlabeled-images\\images\\06c9fcd2-04e9-4f5a-95aa-b8973ae2e421.jpg: 384x640 (no detections), 7.6ms\n",
      "image 593/880 D:\\Project\\segmented-images\\unlabeled-images\\images\\06d09fdb-8dd2-46e0-af28-55ddc19479a9.jpg: 512x640 1 object, 6.7ms\n",
      "image 594/880 D:\\Project\\segmented-images\\unlabeled-images\\images\\06d15bd9-4db3-4082-979a-b5770520affe.jpg: 512x640 1 object, 7.0ms\n",
      "image 595/880 D:\\Project\\segmented-images\\unlabeled-images\\images\\06d26373-a5d2-4b89-b677-47661bf52c88.jpg: 512x640 (no detections), 6.8ms\n",
      "image 596/880 D:\\Project\\segmented-images\\unlabeled-images\\images\\06d7894e-5112-470f-b7cf-7b661c3b3b08.jpg: 512x640 (no detections), 6.6ms\n",
      "image 597/880 D:\\Project\\segmented-images\\unlabeled-images\\images\\06d9d374-a985-46d8-ab42-f2e4029dad59.jpg: 512x640 1 object, 6.6ms\n",
      "image 598/880 D:\\Project\\segmented-images\\unlabeled-images\\images\\06da5e07-0031-4ae4-afd4-778418ce01f2.jpg: 512x640 3 objects, 6.5ms\n",
      "image 599/880 D:\\Project\\segmented-images\\unlabeled-images\\images\\06daaa73-e2ba-4379-9d94-1e2807ec1f2a.jpg: 480x640 2 objects, 7.8ms\n",
      "image 600/880 D:\\Project\\segmented-images\\unlabeled-images\\images\\06e44882-29d9-42d1-a4bb-1cedbdde93f4.jpg: 512x640 1 object, 9.8ms\n",
      "image 601/880 D:\\Project\\segmented-images\\unlabeled-images\\images\\06e76b73-fe01-4959-82ef-7c8715756d99.jpg: 512x640 1 object, 8.5ms\n",
      "image 602/880 D:\\Project\\segmented-images\\unlabeled-images\\images\\06e78145-0b96-4e7f-8441-31f8189e6d43.jpg: 480x640 1 object, 7.8ms\n",
      "image 603/880 D:\\Project\\segmented-images\\unlabeled-images\\images\\06e89f5c-09e8-4e7d-a310-ca73faba3fb2.jpg: 480x640 (no detections), 6.7ms\n",
      "image 604/880 D:\\Project\\segmented-images\\unlabeled-images\\images\\06e92f27-1bc5-46b8-81db-7963a500415a.jpg: 512x640 1 object, 7.1ms\n",
      "image 605/880 D:\\Project\\segmented-images\\unlabeled-images\\images\\06e93dcc-351b-4611-9df9-07300da428d1.jpg: 480x640 (no detections), 7.0ms\n",
      "image 606/880 D:\\Project\\segmented-images\\unlabeled-images\\images\\06e952ab-9143-47cd-8426-759a3f2517c8.jpg: 512x640 (no detections), 8.2ms\n",
      "image 607/880 D:\\Project\\segmented-images\\unlabeled-images\\images\\06f1388e-f745-4ec2-a72b-a545c32e9a3a.jpg: 384x640 1 object, 7.5ms\n",
      "image 608/880 D:\\Project\\segmented-images\\unlabeled-images\\images\\06f14934-3132-447e-b5d8-073054b6bd6e.jpg: 384x640 1 object, 7.2ms\n",
      "image 609/880 D:\\Project\\segmented-images\\unlabeled-images\\images\\06f2560f-9551-419b-8c74-7acd8797dd3b.jpg: 480x640 (no detections), 7.0ms\n",
      "image 610/880 D:\\Project\\segmented-images\\unlabeled-images\\images\\06f2871e-e0bd-49a0-8114-7e4b8ea5502c.jpg: 480x640 1 object, 7.7ms\n",
      "image 611/880 D:\\Project\\segmented-images\\unlabeled-images\\images\\06f3749d-672f-4788-992b-59daff5055af.jpg: 512x640 1 object, 7.4ms\n",
      "image 612/880 D:\\Project\\segmented-images\\unlabeled-images\\images\\06f91859-c11f-4367-a40c-afc07baccaa2.jpg: 512x640 (no detections), 9.9ms\n",
      "image 613/880 D:\\Project\\segmented-images\\unlabeled-images\\images\\06f992f2-3267-4b08-a649-6a7745301a65.jpg: 512x640 (no detections), 6.9ms\n",
      "image 614/880 D:\\Project\\segmented-images\\unlabeled-images\\images\\07026299-67bb-4d44-8fd2-93111c0a90de.jpg: 512x640 1 object, 7.0ms\n",
      "image 615/880 D:\\Project\\segmented-images\\unlabeled-images\\images\\070731c3-eee0-4eb4-84b1-c84a9b862e17.jpg: 480x640 (no detections), 7.1ms\n",
      "image 616/880 D:\\Project\\segmented-images\\unlabeled-images\\images\\070f1c6e-97a8-446b-bbb8-33270d9cd0fb.jpg: 384x640 1 object, 7.1ms\n",
      "image 617/880 D:\\Project\\segmented-images\\unlabeled-images\\images\\070fb54b-958c-4749-9909-2c492129668a.jpg: 512x640 1 object, 7.0ms\n",
      "image 618/880 D:\\Project\\segmented-images\\unlabeled-images\\images\\0710ce0d-69e4-49c1-ab43-c91eda284750.jpg: 512x640 (no detections), 8.7ms\n",
      "image 619/880 D:\\Project\\segmented-images\\unlabeled-images\\images\\0711f97e-f7f1-4027-bf71-47e536a11d01.jpg: 512x640 (no detections), 7.5ms\n",
      "image 620/880 D:\\Project\\segmented-images\\unlabeled-images\\images\\0714e241-813e-470e-92c1-daf0ed01c925.jpg: 512x640 (no detections), 9.9ms\n",
      "image 621/880 D:\\Project\\segmented-images\\unlabeled-images\\images\\07171ebe-1442-44e3-88c3-b976f55bc272.jpg: 480x640 (no detections), 9.1ms\n",
      "image 622/880 D:\\Project\\segmented-images\\unlabeled-images\\images\\07175d2d-fade-4fe4-a2b0-f1a589acfbf3.jpg: 480x640 (no detections), 9.3ms\n",
      "image 623/880 D:\\Project\\segmented-images\\unlabeled-images\\images\\0718c437-ec83-4407-82c3-a56d46808a85.jpg: 480x640 (no detections), 8.8ms\n",
      "image 624/880 D:\\Project\\segmented-images\\unlabeled-images\\images\\0718d0b1-2087-4b1c-bec4-02b8cd9c930b.jpg: 384x640 (no detections), 7.4ms\n",
      "image 625/880 D:\\Project\\segmented-images\\unlabeled-images\\images\\07198a21-2564-4bbb-9e1c-aaa65ac34e7d.jpg: 480x640 (no detections), 7.1ms\n",
      "image 626/880 D:\\Project\\segmented-images\\unlabeled-images\\images\\0719e562-cf6d-4a84-b9f7-201c624de272.jpg: 480x640 (no detections), 7.3ms\n",
      "image 627/880 D:\\Project\\segmented-images\\unlabeled-images\\images\\071d101b-1449-4ece-96b6-8329f9b503a6.jpg: 512x640 (no detections), 7.2ms\n",
      "image 628/880 D:\\Project\\segmented-images\\unlabeled-images\\images\\071dcc97-7ce1-42c8-9521-d7d4bf341854.jpg: 480x640 (no detections), 11.3ms\n",
      "image 629/880 D:\\Project\\segmented-images\\unlabeled-images\\images\\07223136-5184-4ed7-bc4e-9193bd3fc9b1.jpg: 512x640 2 objects, 8.5ms\n",
      "image 630/880 D:\\Project\\segmented-images\\unlabeled-images\\images\\0722d288-2187-4a9b-8409-b7a32da8cc03.jpg: 512x640 (no detections), 6.7ms\n",
      "image 631/880 D:\\Project\\segmented-images\\unlabeled-images\\images\\07240a71-e217-4b32-b2a3-ae0e81df8d41.jpg: 480x640 (no detections), 7.0ms\n",
      "image 632/880 D:\\Project\\segmented-images\\unlabeled-images\\images\\07296f2b-9da8-4778-b4bc-43d97504c06b.jpg: 480x640 (no detections), 8.1ms\n",
      "image 633/880 D:\\Project\\segmented-images\\unlabeled-images\\images\\072a3905-64ed-4b17-87ca-bb396f1049e5.jpg: 512x640 1 object, 6.4ms\n",
      "image 634/880 D:\\Project\\segmented-images\\unlabeled-images\\images\\072a5fa2-4ec6-4937-96c3-4fd95bc46833.jpg: 480x640 (no detections), 8.4ms\n",
      "image 635/880 D:\\Project\\segmented-images\\unlabeled-images\\images\\072a8160-ae40-4645-83ae-b96ee6ac6c50.jpg: 512x640 (no detections), 7.4ms\n",
      "image 636/880 D:\\Project\\segmented-images\\unlabeled-images\\images\\07305af3-f176-48b7-8128-f39b71310645.jpg: 512x640 (no detections), 7.1ms\n",
      "image 637/880 D:\\Project\\segmented-images\\unlabeled-images\\images\\074b8258-1950-45e8-bd37-fc45f5b052ae.jpg: 512x640 1 object, 6.2ms\n",
      "image 638/880 D:\\Project\\segmented-images\\unlabeled-images\\images\\074dda18-e819-4541-94f6-f236e17aeaff.jpg: 512x640 (no detections), 9.6ms\n",
      "image 639/880 D:\\Project\\segmented-images\\unlabeled-images\\images\\074e6aa4-b405-40ab-a11f-a9760f279e15.jpg: 480x640 (no detections), 6.7ms\n",
      "image 640/880 D:\\Project\\segmented-images\\unlabeled-images\\images\\074f5e72-2e41-4765-b556-5125079142c6.jpg: 512x640 1 object, 6.9ms\n",
      "image 641/880 D:\\Project\\segmented-images\\unlabeled-images\\images\\075c4e77-b5af-45fb-929a-afaff26db52e.jpg: 480x640 (no detections), 7.2ms\n",
      "image 642/880 D:\\Project\\segmented-images\\unlabeled-images\\images\\0764013a-424a-4872-8f7d-c074d0cd1502.jpg: 480x640 (no detections), 6.3ms\n",
      "image 643/880 D:\\Project\\segmented-images\\unlabeled-images\\images\\0768892b-744f-41eb-b4f6-ff88a15f8951.jpg: 512x640 1 object, 7.1ms\n",
      "image 644/880 D:\\Project\\segmented-images\\unlabeled-images\\images\\07691f2a-1524-492f-834a-e298af8bf7f5.jpg: 512x640 1 object, 7.2ms\n",
      "image 645/880 D:\\Project\\segmented-images\\unlabeled-images\\images\\07713bfa-81fa-4cb5-903a-641b91fbf128.jpg: 480x640 (no detections), 7.1ms\n",
      "image 646/880 D:\\Project\\segmented-images\\unlabeled-images\\images\\0771628b-01fe-4b1e-ba22-f948fefdcaec.jpg: 512x640 (no detections), 7.4ms\n",
      "image 647/880 D:\\Project\\segmented-images\\unlabeled-images\\images\\0773db51-154d-4b70-9b93-06db6301a26b.jpg: 384x640 (no detections), 8.9ms\n",
      "image 648/880 D:\\Project\\segmented-images\\unlabeled-images\\images\\0774139a-4736-4a85-b79c-5b3bb1a62d89.jpg: 480x640 1 object, 7.9ms\n",
      "image 649/880 D:\\Project\\segmented-images\\unlabeled-images\\images\\0774c822-e98e-4646-b143-e651bcfeab0d.jpg: 384x640 1 object, 7.0ms\n",
      "image 650/880 D:\\Project\\segmented-images\\unlabeled-images\\images\\0774e23b-cf98-4a14-85f3-db775f699d6c.jpg: 480x640 (no detections), 7.0ms\n",
      "image 651/880 D:\\Project\\segmented-images\\unlabeled-images\\images\\0775d1ea-b488-43fe-ab29-da107ca6a594.jpg: 480x640 1 object, 7.1ms\n",
      "image 652/880 D:\\Project\\segmented-images\\unlabeled-images\\images\\0776f1b2-3943-4c12-a123-7b5800d87460.jpg: 480x640 1 object, 6.3ms\n",
      "image 653/880 D:\\Project\\segmented-images\\unlabeled-images\\images\\0777a137-bd82-4a05-98a3-07ae96bc7160.jpg: 480x640 (no detections), 6.6ms\n",
      "image 654/880 D:\\Project\\segmented-images\\unlabeled-images\\images\\07780d5d-bc6f-479f-91a0-f03a4910da1e.jpg: 512x640 (no detections), 7.7ms\n",
      "image 655/880 D:\\Project\\segmented-images\\unlabeled-images\\images\\07784c1b-244f-4461-9fe2-d34a37f1a455.jpg: 512x640 (no detections), 7.4ms\n",
      "image 656/880 D:\\Project\\segmented-images\\unlabeled-images\\images\\0779271d-b603-4386-b1fd-e9515f82c4fb.jpg: 480x640 1 object, 8.2ms\n",
      "image 657/880 D:\\Project\\segmented-images\\unlabeled-images\\images\\07792ac3-0bd5-4581-ab0a-1c58e3bf8adf.jpg: 480x640 (no detections), 12.7ms\n",
      "image 658/880 D:\\Project\\segmented-images\\unlabeled-images\\images\\0781520d-fa68-4ce3-928d-b5eceec533c5.jpg: 512x640 (no detections), 13.9ms\n",
      "image 659/880 D:\\Project\\segmented-images\\unlabeled-images\\images\\078641fb-4154-4448-baba-285cb9f34ed2.jpg: 512x640 (no detections), 6.3ms\n",
      "image 660/880 D:\\Project\\segmented-images\\unlabeled-images\\images\\078675ab-61a5-4d91-866a-ae9312585398.jpg: 512x640 (no detections), 12.7ms\n",
      "image 661/880 D:\\Project\\segmented-images\\unlabeled-images\\images\\078759af-23ed-4958-ab80-0b1f2279d6f2.jpg: 480x640 (no detections), 7.1ms\n",
      "image 662/880 D:\\Project\\segmented-images\\unlabeled-images\\images\\078769bc-a085-405e-a707-89462ea24007.jpg: 480x640 (no detections), 6.7ms\n",
      "image 663/880 D:\\Project\\segmented-images\\unlabeled-images\\images\\078786dc-a6eb-4c92-b062-73ad07f7dfd5.jpg: 480x640 (no detections), 6.6ms\n",
      "image 664/880 D:\\Project\\segmented-images\\unlabeled-images\\images\\078abdd5-652a-40a6-bf33-da16f687a01d.jpg: 512x640 (no detections), 6.8ms\n",
      "image 665/880 D:\\Project\\segmented-images\\unlabeled-images\\images\\078ad737-f526-4885-8964-abcc202a7579.jpg: 512x640 2 objects, 6.9ms\n",
      "image 666/880 D:\\Project\\segmented-images\\unlabeled-images\\images\\078b73bd-3e3e-4901-943d-64f61a82dad2.jpg: 480x640 (no detections), 11.0ms\n",
      "image 667/880 D:\\Project\\segmented-images\\unlabeled-images\\images\\078b93e4-5715-43d5-b7a7-a296a2a70e7b.jpg: 480x640 1 object, 6.9ms\n",
      "image 668/880 D:\\Project\\segmented-images\\unlabeled-images\\images\\078e76e6-1a77-4f9e-b106-6fd5a924f16c.jpg: 480x640 (no detections), 6.3ms\n",
      "image 669/880 D:\\Project\\segmented-images\\unlabeled-images\\images\\078fa395-deb1-4749-b8de-1988278c01fd.jpg: 480x640 (no detections), 6.5ms\n",
      "image 670/880 D:\\Project\\segmented-images\\unlabeled-images\\images\\079421fa-3b3c-45dd-8ce6-32b7a2e1a558.jpg: 480x640 (no detections), 6.4ms\n",
      "image 671/880 D:\\Project\\segmented-images\\unlabeled-images\\images\\07a1f194-3576-4c5f-b415-a5d85077e760.jpg: 480x640 (no detections), 6.5ms\n",
      "image 672/880 D:\\Project\\segmented-images\\unlabeled-images\\images\\07a87d8d-3f74-4f8a-8430-d3641edae2a3.jpg: 480x640 (no detections), 6.7ms\n",
      "image 673/880 D:\\Project\\segmented-images\\unlabeled-images\\images\\07b05203-7f42-4e1d-81a1-8ed7d339c769.jpg: 480x640 (no detections), 6.5ms\n",
      "image 674/880 D:\\Project\\segmented-images\\unlabeled-images\\images\\07b136e7-1fe4-4fd1-be20-b8e7a278f943.jpg: 480x640 (no detections), 6.7ms\n",
      "image 675/880 D:\\Project\\segmented-images\\unlabeled-images\\images\\07b54e39-4cb0-4cbb-83df-005a4abc6f4d.jpg: 480x640 1 object, 6.5ms\n",
      "image 676/880 D:\\Project\\segmented-images\\unlabeled-images\\images\\07b6388e-3d80-4947-be7f-7bad6b73ac14.jpg: 480x640 (no detections), 6.7ms\n",
      "image 677/880 D:\\Project\\segmented-images\\unlabeled-images\\images\\07b818d6-501a-4a62-ba75-855eb9992ee0.jpg: 480x640 (no detections), 6.6ms\n",
      "image 678/880 D:\\Project\\segmented-images\\unlabeled-images\\images\\07d1741f-8eae-4c36-b070-de89920d0676.jpg: 480x640 (no detections), 6.9ms\n",
      "image 679/880 D:\\Project\\segmented-images\\unlabeled-images\\images\\07d3741d-0d12-4df2-b7da-0ef86cf46311.jpg: 480x640 (no detections), 8.0ms\n",
      "image 680/880 D:\\Project\\segmented-images\\unlabeled-images\\images\\07d938af-514b-4063-b9fa-1ac2fbbe9aaa.jpg: 480x640 (no detections), 6.9ms\n",
      "image 681/880 D:\\Project\\segmented-images\\unlabeled-images\\images\\07da9783-cece-4ded-9343-b9601610a13f.jpg: 480x640 (no detections), 9.8ms\n",
      "image 682/880 D:\\Project\\segmented-images\\unlabeled-images\\images\\07dc841d-baa6-4386-927c-3e26d3fdbec9.jpg: 480x640 1 object, 9.0ms\n",
      "image 683/880 D:\\Project\\segmented-images\\unlabeled-images\\images\\07dcaf40-2224-400e-9512-60c99523cae4.jpg: 480x640 (no detections), 8.0ms\n",
      "image 684/880 D:\\Project\\segmented-images\\unlabeled-images\\images\\07e082ab-7998-4688-81d3-1388cde85e3f.jpg: 480x640 1 object, 6.6ms\n",
      "image 685/880 D:\\Project\\segmented-images\\unlabeled-images\\images\\07fb2ee8-0ebb-46e6-934f-bc76f107e232.jpg: 384x640 (no detections), 8.0ms\n",
      "image 686/880 D:\\Project\\segmented-images\\unlabeled-images\\images\\07fc5f4e-a480-4f29-ae7a-0075f9b04a31.jpg: 480x640 (no detections), 7.6ms\n",
      "image 687/880 D:\\Project\\segmented-images\\unlabeled-images\\images\\07fc6201-f354-415d-ab71-7c104a4e7232.jpg: 480x640 (no detections), 6.3ms\n",
      "image 688/880 D:\\Project\\segmented-images\\unlabeled-images\\images\\07fca870-bf13-4250-aed8-12af06530a2a.jpg: 512x640 1 object, 7.2ms\n",
      "image 689/880 D:\\Project\\segmented-images\\unlabeled-images\\images\\07fcbc2e-79fd-4102-abbe-ece5fecbc9c7.jpg: 512x640 1 object, 6.8ms\n",
      "image 690/880 D:\\Project\\segmented-images\\unlabeled-images\\images\\07fd1730-eb30-4d64-9cc1-8c2d7cd1eda1.jpg: 512x640 (no detections), 7.8ms\n",
      "image 691/880 D:\\Project\\segmented-images\\unlabeled-images\\images\\07fd65d8-e6fc-42ef-842e-732c88bc8d87.jpg: 512x640 (no detections), 6.8ms\n",
      "image 692/880 D:\\Project\\segmented-images\\unlabeled-images\\images\\080121c6-0f2a-403c-8de9-96d12776e965.jpg: 480x640 1 object, 7.1ms\n",
      "image 693/880 D:\\Project\\segmented-images\\unlabeled-images\\images\\08111c6f-0c5f-42d8-bc52-f07771aaa884.jpg: 512x640 (no detections), 7.6ms\n",
      "image 694/880 D:\\Project\\segmented-images\\unlabeled-images\\images\\0811f3dd-a51e-4be0-a584-237bcd703957.jpg: 512x640 1 object, 6.5ms\n",
      "image 695/880 D:\\Project\\segmented-images\\unlabeled-images\\images\\0813af84-cc41-40ff-9ac5-c0f3db1e2d6a.jpg: 480x640 2 objects, 6.7ms\n",
      "image 696/880 D:\\Project\\segmented-images\\unlabeled-images\\images\\0813d848-1ba6-44d2-ae93-912d317d3e55.jpg: 480x640 (no detections), 9.1ms\n",
      "image 697/880 D:\\Project\\segmented-images\\unlabeled-images\\images\\0815ab71-b318-4672-b920-75a2937786d4.jpg: 480x640 1 object, 6.7ms\n",
      "image 698/880 D:\\Project\\segmented-images\\unlabeled-images\\images\\081ffef9-e916-460c-bae6-e546a32fc579.jpg: 480x640 2 objects, 7.9ms\n",
      "image 699/880 D:\\Project\\segmented-images\\unlabeled-images\\images\\0832f621-ae6a-4ce0-b38f-c91a0b35ff7d.jpg: 480x640 (no detections), 8.1ms\n",
      "image 700/880 D:\\Project\\segmented-images\\unlabeled-images\\images\\0840c615-6f7f-4b7b-89ca-228164aab9a9.jpg: 480x640 1 object, 7.3ms\n",
      "image 701/880 D:\\Project\\segmented-images\\unlabeled-images\\images\\084a1b93-39b5-49e4-98d1-ba110cc4fd96.jpg: 480x640 1 object, 6.7ms\n",
      "image 702/880 D:\\Project\\segmented-images\\unlabeled-images\\images\\084ba6be-b4c7-4f49-904c-81fbecfa6a63.jpg: 480x640 1 object, 7.0ms\n",
      "image 703/880 D:\\Project\\segmented-images\\unlabeled-images\\images\\084cf06e-6816-4c1a-8d71-88d852727a61.jpg: 480x640 1 object, 6.5ms\n",
      "image 704/880 D:\\Project\\segmented-images\\unlabeled-images\\images\\084f59c2-b244-4a55-abef-7fd8b2a299e8.jpg: 480x640 (no detections), 7.1ms\n",
      "image 705/880 D:\\Project\\segmented-images\\unlabeled-images\\images\\085a56c1-fe58-486c-a135-0cc010c30880.jpg: 480x640 (no detections), 6.6ms\n",
      "image 706/880 D:\\Project\\segmented-images\\unlabeled-images\\images\\085cc5c9-81a1-4797-b31b-206f413ad48f.jpg: 480x640 (no detections), 6.4ms\n",
      "image 707/880 D:\\Project\\segmented-images\\unlabeled-images\\images\\08874a4c-38de-490a-83c6-141476bca4c0.jpg: 480x640 1 object, 7.5ms\n",
      "image 708/880 D:\\Project\\segmented-images\\unlabeled-images\\images\\08878ab4-feab-4b04-860a-b4907d353a59.jpg: 480x640 1 object, 6.7ms\n",
      "image 709/880 D:\\Project\\segmented-images\\unlabeled-images\\images\\08891bfb-f74c-44d5-8a6d-29f90bbde405.jpg: 480x640 1 object, 9.2ms\n",
      "image 710/880 D:\\Project\\segmented-images\\unlabeled-images\\images\\08942bb5-04e7-4ef2-bf9a-084d9f159cca.jpg: 480x640 1 object, 7.1ms\n",
      "image 711/880 D:\\Project\\segmented-images\\unlabeled-images\\images\\08949f78-1531-426b-90b4-43e7aacaa987.jpg: 480x640 1 object, 6.6ms\n",
      "image 712/880 D:\\Project\\segmented-images\\unlabeled-images\\images\\08962ef3-6d49-443f-aea6-002d8e1a16d2.jpg: 480x640 (no detections), 6.7ms\n",
      "image 713/880 D:\\Project\\segmented-images\\unlabeled-images\\images\\08a0361f-8124-4983-aceb-957c149922ce.jpg: 480x640 (no detections), 6.4ms\n",
      "image 714/880 D:\\Project\\segmented-images\\unlabeled-images\\images\\08b20ee5-ac5e-4555-b3a9-35e17cab30e0.jpg: 480x640 1 object, 6.5ms\n",
      "image 715/880 D:\\Project\\segmented-images\\unlabeled-images\\images\\08b2ad2e-3739-4c1e-b3f3-6cbcb4ab4d9b.jpg: 480x640 1 object, 8.3ms\n",
      "image 716/880 D:\\Project\\segmented-images\\unlabeled-images\\images\\08b353bc-e50c-4d4e-9088-8b3f63ba31ef.jpg: 480x640 1 object, 6.7ms\n",
      "image 717/880 D:\\Project\\segmented-images\\unlabeled-images\\images\\08b43d93-d870-41c2-a18d-47862ec93a74.jpg: 480x640 1 object, 6.9ms\n",
      "image 718/880 D:\\Project\\segmented-images\\unlabeled-images\\images\\08b61818-a5a0-4406-b79e-3c3bdd245721.jpg: 480x640 (no detections), 7.1ms\n",
      "image 719/880 D:\\Project\\segmented-images\\unlabeled-images\\images\\08b9c3a0-920a-4067-9d01-8a7e5ee3b0af.jpg: 480x640 2 objects, 6.8ms\n",
      "image 720/880 D:\\Project\\segmented-images\\unlabeled-images\\images\\08d540cf-f55c-4d95-b98e-9a3715f53764.jpg: 480x640 1 object, 7.3ms\n",
      "image 721/880 D:\\Project\\segmented-images\\unlabeled-images\\images\\08db0100-e684-43b6-ab95-d264635b3133.jpg: 480x640 (no detections), 7.5ms\n",
      "image 722/880 D:\\Project\\segmented-images\\unlabeled-images\\images\\08de6d21-c8bb-4448-9ca0-f3e863db9099.jpg: 480x640 1 object, 6.6ms\n",
      "image 723/880 D:\\Project\\segmented-images\\unlabeled-images\\images\\08df0458-e4fc-4be4-a797-2c4734530ff1.jpg: 480x640 (no detections), 6.9ms\n",
      "image 724/880 D:\\Project\\segmented-images\\unlabeled-images\\images\\08df9c32-6230-4283-b931-d2ef220a8b82.jpg: 480x640 (no detections), 7.1ms\n",
      "image 725/880 D:\\Project\\segmented-images\\unlabeled-images\\images\\08ea75ec-4045-48b7-ba7a-d455fb48ccdc.jpg: 480x640 1 object, 6.8ms\n",
      "image 726/880 D:\\Project\\segmented-images\\unlabeled-images\\images\\08eba7ba-e44c-4db4-a371-b875e44fe530.jpg: 480x640 1 object, 6.7ms\n",
      "image 727/880 D:\\Project\\segmented-images\\unlabeled-images\\images\\090dce19-1303-47c4-95e7-41dd5def0d71.jpg: 480x640 (no detections), 7.3ms\n",
      "image 728/880 D:\\Project\\segmented-images\\unlabeled-images\\images\\090e9a78-823e-4d7e-a55b-82ee3bb4f0e9.jpg: 480x640 (no detections), 7.0ms\n",
      "image 729/880 D:\\Project\\segmented-images\\unlabeled-images\\images\\090f0b73-b1d2-4999-ab9b-2478b401a2ae.jpg: 480x640 1 object, 6.6ms\n",
      "image 730/880 D:\\Project\\segmented-images\\unlabeled-images\\images\\090f20eb-08aa-4f1d-ad13-d6558499278a.jpg: 480x640 (no detections), 6.7ms\n",
      "image 731/880 D:\\Project\\segmented-images\\unlabeled-images\\images\\090f4402-380e-48d9-9cc5-cf3cb4287814.jpg: 480x640 (no detections), 6.4ms\n",
      "image 732/880 D:\\Project\\segmented-images\\unlabeled-images\\images\\0910a175-5ca5-465b-8af6-ca8264c7af91.jpg: 480x640 (no detections), 8.1ms\n",
      "image 733/880 D:\\Project\\segmented-images\\unlabeled-images\\images\\0912b41d-059d-4cba-b688-acc24db0deba.jpg: 480x640 (no detections), 6.8ms\n",
      "image 734/880 D:\\Project\\segmented-images\\unlabeled-images\\images\\0914eaf8-5a91-47d9-8557-e4e4ce6862fc.jpg: 480x640 (no detections), 6.6ms\n",
      "image 735/880 D:\\Project\\segmented-images\\unlabeled-images\\images\\0914fbed-f4d2-48d8-8426-48ae250a1f9f.jpg: 480x640 2 objects, 6.4ms\n",
      "image 736/880 D:\\Project\\segmented-images\\unlabeled-images\\images\\0915c773-5820-4bb9-b500-9d1f8a3f6c21.jpg: 480x640 (no detections), 6.3ms\n",
      "image 737/880 D:\\Project\\segmented-images\\unlabeled-images\\images\\0916b17f-1d6e-4fc4-a3bf-91856825bf83.jpg: 480x640 (no detections), 7.6ms\n",
      "image 738/880 D:\\Project\\segmented-images\\unlabeled-images\\images\\0918f715-2a6c-4903-9c00-68afbc8fdaa1.jpg: 480x640 1 object, 6.5ms\n",
      "image 739/880 D:\\Project\\segmented-images\\unlabeled-images\\images\\092f3368-d984-4507-9d23-94d07c5f4765.jpg: 480x640 1 object, 7.1ms\n",
      "image 740/880 D:\\Project\\segmented-images\\unlabeled-images\\images\\093b596a-dba7-4003-b828-c9f3ef106a9e.jpg: 480x640 (no detections), 9.0ms\n",
      "image 741/880 D:\\Project\\segmented-images\\unlabeled-images\\images\\0955059a-aa2b-4d03-a00d-2e195c25d5be.jpg: 480x640 (no detections), 7.0ms\n",
      "image 742/880 D:\\Project\\segmented-images\\unlabeled-images\\images\\099c6499-8f3b-46a4-b2ee-80f5351a651f.jpg: 480x640 1 object, 6.6ms\n",
      "image 743/880 D:\\Project\\segmented-images\\unlabeled-images\\images\\099cc85e-0a54-4bbc-b76d-18d583c817c0.jpg: 480x640 1 object, 6.7ms\n",
      "image 744/880 D:\\Project\\segmented-images\\unlabeled-images\\images\\099d01de-82fe-4bfc-903a-96e08478762d.jpg: 480x640 1 object, 8.0ms\n",
      "image 745/880 D:\\Project\\segmented-images\\unlabeled-images\\images\\099e94d7-527c-4942-8da7-87846c0924e4.jpg: 480x640 (no detections), 6.4ms\n",
      "image 746/880 D:\\Project\\segmented-images\\unlabeled-images\\images\\099ebfb2-adce-4788-91e3-f406ed53d760.jpg: 480x640 (no detections), 8.7ms\n",
      "image 747/880 D:\\Project\\segmented-images\\unlabeled-images\\images\\099f5d15-0646-46c8-8714-e1bc25958c57.jpg: 480x640 1 object, 6.5ms\n",
      "image 748/880 D:\\Project\\segmented-images\\unlabeled-images\\images\\09a2fa59-8ddc-462e-97f4-0d5d3c2d47d6.jpg: 480x640 (no detections), 6.6ms\n",
      "image 749/880 D:\\Project\\segmented-images\\unlabeled-images\\images\\09a3d901-9e5c-44e8-ba0c-47cb8e13e1cc.jpg: 480x640 (no detections), 7.1ms\n",
      "image 750/880 D:\\Project\\segmented-images\\unlabeled-images\\images\\09a4cd2a-018e-4c6e-8c4f-a383426c2c2e.jpg: 480x640 1 object, 7.3ms\n",
      "image 751/880 D:\\Project\\segmented-images\\unlabeled-images\\images\\09c1434c-355a-442b-a92c-a0379a6355ae.jpg: 480x640 1 object, 6.3ms\n",
      "image 752/880 D:\\Project\\segmented-images\\unlabeled-images\\images\\09c6922b-25a2-4884-91f1-f25f975da33c.jpg: 480x640 1 object, 6.3ms\n",
      "image 753/880 D:\\Project\\segmented-images\\unlabeled-images\\images\\09cc2e62-d300-4c0e-b496-e01debf36ee0.jpg: 480x640 (no detections), 6.3ms\n",
      "image 754/880 D:\\Project\\segmented-images\\unlabeled-images\\images\\09cc89d9-a174-4ed8-839c-9763a8b613b1.jpg: 480x640 1 object, 6.1ms\n",
      "image 755/880 D:\\Project\\segmented-images\\unlabeled-images\\images\\09cdb302-7bd3-459e-96c3-3ba90ed34e4e.jpg: 480x640 1 object, 6.7ms\n",
      "image 756/880 D:\\Project\\segmented-images\\unlabeled-images\\images\\09cdd933-2ee2-4b95-901f-a6a483b768d6.jpg: 480x640 (no detections), 7.0ms\n",
      "image 757/880 D:\\Project\\segmented-images\\unlabeled-images\\images\\09ce3a47-5c72-48f1-a3f4-4a52857cf7aa.jpg: 480x640 (no detections), 6.1ms\n",
      "image 758/880 D:\\Project\\segmented-images\\unlabeled-images\\images\\09f110b1-8f1a-49f0-9a3b-041fb15c6676.jpg: 480x640 (no detections), 7.0ms\n",
      "image 759/880 D:\\Project\\segmented-images\\unlabeled-images\\images\\09f3ffeb-7381-4c14-b53c-ae4d26b0298a.jpg: 480x640 1 object, 12.5ms\n",
      "image 760/880 D:\\Project\\segmented-images\\unlabeled-images\\images\\09f4470f-dbf2-4900-83f5-a6576fe2d15b.jpg: 480x640 (no detections), 6.6ms\n",
      "image 761/880 D:\\Project\\segmented-images\\unlabeled-images\\images\\09f4af95-64a5-4d86-86cb-e76b77ea7ad7.jpg: 480x640 (no detections), 6.4ms\n",
      "image 762/880 D:\\Project\\segmented-images\\unlabeled-images\\images\\0a009a95-3a1f-46cf-906c-3606839806d8.jpg: 512x640 2 objects, 8.3ms\n",
      "image 763/880 D:\\Project\\segmented-images\\unlabeled-images\\images\\0a02520d-7d97-4ee7-b749-c7c209812a50.jpg: 480x640 (no detections), 6.8ms\n",
      "image 764/880 D:\\Project\\segmented-images\\unlabeled-images\\images\\0a02621c-3fe2-4f9c-9524-924c38445f95.jpg: 480x640 1 object, 6.4ms\n",
      "image 765/880 D:\\Project\\segmented-images\\unlabeled-images\\images\\0a04a5a4-cfdd-4b41-97bf-786b3fa91245.jpg: 384x640 1 object, 8.2ms\n",
      "image 766/880 D:\\Project\\segmented-images\\unlabeled-images\\images\\0a088fa9-78bd-40bc-9bc1-29808016be3f.jpg: 480x640 (no detections), 10.8ms\n",
      "image 767/880 D:\\Project\\segmented-images\\unlabeled-images\\images\\0a1849a4-37e1-4b38-8039-5e000ad6bb51.jpg: 512x640 (no detections), 7.3ms\n",
      "image 768/880 D:\\Project\\segmented-images\\unlabeled-images\\images\\0a1866eb-e2d8-4052-aa7e-d0ce36bdef67.jpg: 512x640 (no detections), 11.5ms\n",
      "image 769/880 D:\\Project\\segmented-images\\unlabeled-images\\images\\0a1c6b3f-6395-480a-a239-e64f58b50ffa.jpg: 512x640 1 object, 6.3ms\n",
      "image 770/880 D:\\Project\\segmented-images\\unlabeled-images\\images\\0a2a2f35-c798-447c-a883-8f2f448bfe07.jpg: 512x640 (no detections), 8.8ms\n",
      "image 771/880 D:\\Project\\segmented-images\\unlabeled-images\\images\\0a2b36a9-1646-4d8b-be03-76ceca58f841.jpg: 480x640 1 object, 13.6ms\n",
      "image 772/880 D:\\Project\\segmented-images\\unlabeled-images\\images\\0a2b491a-ecc5-401a-bd3c-8ef2f7d94089.jpg: 512x640 (no detections), 7.1ms\n",
      "image 773/880 D:\\Project\\segmented-images\\unlabeled-images\\images\\0a2b6192-d933-429b-bd44-2adbce15d5ab.jpg: 512x640 (no detections), 12.6ms\n",
      "image 774/880 D:\\Project\\segmented-images\\unlabeled-images\\images\\0a2c2b81-b564-473c-bfc5-95f73ef869e4.jpg: 480x640 1 object, 7.7ms\n",
      "image 775/880 D:\\Project\\segmented-images\\unlabeled-images\\images\\0a2cbbad-5506-4b9d-a91b-bf94dc34d263.jpg: 480x640 (no detections), 6.7ms\n",
      "image 776/880 D:\\Project\\segmented-images\\unlabeled-images\\images\\0a3091b3-518f-48d2-8baa-ca5affe5bbfe.jpg: 512x640 (no detections), 9.5ms\n",
      "image 777/880 D:\\Project\\segmented-images\\unlabeled-images\\images\\0a35c15d-d0b6-4a60-8389-066dd83c42ad.jpg: 480x640 1 object, 8.1ms\n",
      "image 778/880 D:\\Project\\segmented-images\\unlabeled-images\\images\\0a368870-972a-4571-8d44-7cfbdc8f1075.jpg: 480x640 (no detections), 6.4ms\n",
      "image 779/880 D:\\Project\\segmented-images\\unlabeled-images\\images\\0a36b5b1-e723-463a-a8a1-d7161e28b2b5.jpg: 480x640 1 object, 6.6ms\n",
      "image 780/880 D:\\Project\\segmented-images\\unlabeled-images\\images\\0a3818be-0f95-4753-bc7a-7f0e82d8da7b.jpg: 480x640 1 object, 6.2ms\n",
      "image 781/880 D:\\Project\\segmented-images\\unlabeled-images\\images\\0a388270-e6db-4a70-b4c7-095c5214cbb6.jpg: 480x640 (no detections), 7.0ms\n",
      "image 782/880 D:\\Project\\segmented-images\\unlabeled-images\\images\\0a393379-c9aa-4773-b401-b570b493636a.jpg: 512x640 (no detections), 7.2ms\n",
      "image 783/880 D:\\Project\\segmented-images\\unlabeled-images\\images\\0a39b3a2-f1cb-4048-9129-eb6742cf7b4c.jpg: 480x640 (no detections), 7.8ms\n",
      "image 784/880 D:\\Project\\segmented-images\\unlabeled-images\\images\\0a41caff-d573-49a6-a500-5fdeefb1c007.jpg: 480x640 (no detections), 6.6ms\n",
      "image 785/880 D:\\Project\\segmented-images\\unlabeled-images\\images\\0a42e259-408d-475c-a24a-c32612d6bafa.jpg: 512x640 1 object, 10.3ms\n",
      "image 786/880 D:\\Project\\segmented-images\\unlabeled-images\\images\\0a436705-0fea-4b32-8bb2-1df461294fd8.jpg: 384x640 1 object, 6.9ms\n",
      "image 787/880 D:\\Project\\segmented-images\\unlabeled-images\\images\\0a43a6c2-41b5-45e4-b71b-04bd35a77f72.jpg: 480x640 (no detections), 7.4ms\n",
      "image 788/880 D:\\Project\\segmented-images\\unlabeled-images\\images\\0a44acb7-d351-440b-b9cc-20d42e707166.jpg: 512x640 1 object, 9.4ms\n",
      "image 789/880 D:\\Project\\segmented-images\\unlabeled-images\\images\\0a486f78-21e8-4d63-af5e-18b11ee3eac8.jpg: 480x640 1 object, 10.5ms\n",
      "image 790/880 D:\\Project\\segmented-images\\unlabeled-images\\images\\0a4904c1-0a04-477b-8ed6-f224a6258565.jpg: 512x640 (no detections), 8.0ms\n",
      "image 791/880 D:\\Project\\segmented-images\\unlabeled-images\\images\\0a4a0065-ba06-41e9-bd11-397d7dd6ea56.jpg: 512x640 (no detections), 10.8ms\n",
      "image 792/880 D:\\Project\\segmented-images\\unlabeled-images\\images\\0a4a175d-0063-4115-af4b-77c7e209e7af.jpg: 512x640 (no detections), 7.3ms\n",
      "image 793/880 D:\\Project\\segmented-images\\unlabeled-images\\images\\0a4abed6-fb9a-4fd8-8c40-bfe4999d170c.jpg: 480x640 (no detections), 7.1ms\n",
      "image 794/880 D:\\Project\\segmented-images\\unlabeled-images\\images\\0a4adcc4-f8d9-4bc6-bfa4-692bcdd0f744.jpg: 480x640 (no detections), 11.9ms\n",
      "image 795/880 D:\\Project\\segmented-images\\unlabeled-images\\images\\0a535d19-10b7-44be-9fa6-30df39f79bee.jpg: 480x640 (no detections), 7.2ms\n",
      "image 796/880 D:\\Project\\segmented-images\\unlabeled-images\\images\\0a537ea9-1d28-4423-a49d-4150bcd7e01d.jpg: 512x640 (no detections), 9.8ms\n",
      "image 797/880 D:\\Project\\segmented-images\\unlabeled-images\\images\\0a543c1b-f582-4b16-a378-997ccf82943b.jpg: 512x640 1 object, 6.7ms\n",
      "image 798/880 D:\\Project\\segmented-images\\unlabeled-images\\images\\0a544fe8-e665-4067-9cb4-9bcee7621a00.jpg: 480x640 (no detections), 7.2ms\n",
      "image 799/880 D:\\Project\\segmented-images\\unlabeled-images\\images\\0a576a93-d986-4b8f-a8a4-d46515cf141e.jpg: 512x640 (no detections), 8.8ms\n",
      "image 800/880 D:\\Project\\segmented-images\\unlabeled-images\\images\\0a596e75-fdf8-46b9-bc16-b61047362551.jpg: 512x640 (no detections), 10.2ms\n",
      "image 801/880 D:\\Project\\segmented-images\\unlabeled-images\\images\\0a5b2d8e-1ae9-4abb-ae26-55bf2040c97b.jpg: 512x640 1 object, 7.3ms\n",
      "image 802/880 D:\\Project\\segmented-images\\unlabeled-images\\images\\0a5c736a-08b9-4605-b7f6-5c950fc49364.jpg: 384x640 1 object, 7.0ms\n",
      "image 803/880 D:\\Project\\segmented-images\\unlabeled-images\\images\\0a66796e-ba1c-43c5-8875-f4b3703167a2.jpg: 480x640 (no detections), 8.6ms\n",
      "image 804/880 D:\\Project\\segmented-images\\unlabeled-images\\images\\0a69615e-5e0d-46f0-a33f-ead5d5127ffa.jpg: 512x640 (no detections), 7.4ms\n",
      "image 805/880 D:\\Project\\segmented-images\\unlabeled-images\\images\\0a70f4e3-6664-4855-b5ad-6e8b1bd44ec3.jpg: 512x640 1 object, 7.5ms\n",
      "image 806/880 D:\\Project\\segmented-images\\unlabeled-images\\images\\0a72ca43-8eeb-4e06-bc55-38a96219ff50.jpg: 480x640 1 object, 9.4ms\n",
      "image 807/880 D:\\Project\\segmented-images\\unlabeled-images\\images\\0a73f4cc-b958-4cab-8ee7-54b6850b0df8.jpg: 512x640 (no detections), 8.1ms\n",
      "image 808/880 D:\\Project\\segmented-images\\unlabeled-images\\images\\0a74ef3f-0e6a-4215-ae30-a0ac3d54a84d.jpg: 480x640 1 object, 8.5ms\n",
      "image 809/880 D:\\Project\\segmented-images\\unlabeled-images\\images\\0a77111d-5c6e-4f73-b469-f8026b3d9c12.jpg: 384x640 3 objects, 7.6ms\n",
      "image 810/880 D:\\Project\\segmented-images\\unlabeled-images\\images\\0a88c3d0-3600-4def-b584-9bdacb4ed174.jpg: 512x640 1 object, 9.0ms\n",
      "image 811/880 D:\\Project\\segmented-images\\unlabeled-images\\images\\0a88d316-97fc-4ad8-94fd-7be392f6698d.jpg: 512x640 1 object, 7.4ms\n",
      "image 812/880 D:\\Project\\segmented-images\\unlabeled-images\\images\\0a8a7526-6f99-440f-9ca3-690542737d47.jpg: 512x640 (no detections), 6.8ms\n",
      "image 813/880 D:\\Project\\segmented-images\\unlabeled-images\\images\\0a8b41ee-e975-4894-8eb3-3be7372b78c6.jpg: 512x640 3 objects, 7.8ms\n",
      "image 814/880 D:\\Project\\segmented-images\\unlabeled-images\\images\\0a8c4add-2a8e-4a2c-8a89-d0a18c33d19e.jpg: 512x640 1 object, 7.6ms\n",
      "image 815/880 D:\\Project\\segmented-images\\unlabeled-images\\images\\0a8d16ec-1985-4fb5-ac88-2d3fccfad334.jpg: 512x640 (no detections), 7.5ms\n",
      "image 816/880 D:\\Project\\segmented-images\\unlabeled-images\\images\\0a8e16a6-42d7-4fef-8350-b9aa40073438.jpg: 480x640 (no detections), 7.9ms\n",
      "image 817/880 D:\\Project\\segmented-images\\unlabeled-images\\images\\0a8e7c54-64c2-4cdf-bcd5-b3a29fa40cba.jpg: 512x640 (no detections), 8.9ms\n",
      "image 818/880 D:\\Project\\segmented-images\\unlabeled-images\\images\\0aaa03c0-e3dc-4d86-87ad-5576be15c151.jpg: 512x640 1 object, 6.7ms\n",
      "image 819/880 D:\\Project\\segmented-images\\unlabeled-images\\images\\0aaac372-b270-47ea-8210-f423ca986ca6.jpg: 512x640 1 object, 7.4ms\n",
      "image 820/880 D:\\Project\\segmented-images\\unlabeled-images\\images\\0aaacbec-5238-46a1-a152-4b28d6e3d981.jpg: 480x640 (no detections), 7.6ms\n",
      "image 821/880 D:\\Project\\segmented-images\\unlabeled-images\\images\\0aaad1d2-9d98-450b-959a-88382cf3dff9.jpg: 512x640 (no detections), 7.7ms\n",
      "image 822/880 D:\\Project\\segmented-images\\unlabeled-images\\images\\0aab5a43-e33e-46ed-8e89-b55cbc4d5f2c.jpg: 512x640 (no detections), 6.7ms\n",
      "image 823/880 D:\\Project\\segmented-images\\unlabeled-images\\images\\0aaba5c5-695a-47c2-925b-8989934a4379.jpg: 512x640 (no detections), 7.8ms\n",
      "image 824/880 D:\\Project\\segmented-images\\unlabeled-images\\images\\0aacb7fa-19fb-4bd6-9a43-3c0a246e7a58.jpg: 512x640 1 object, 7.2ms\n",
      "image 825/880 D:\\Project\\segmented-images\\unlabeled-images\\images\\0abb8303-bd34-42b4-9acd-69974b244bd7.jpg: 384x640 (no detections), 7.8ms\n",
      "image 826/880 D:\\Project\\segmented-images\\unlabeled-images\\images\\0abb8678-c130-463c-9b92-edfdf656a045.jpg: 512x640 1 object, 7.3ms\n",
      "image 827/880 D:\\Project\\segmented-images\\unlabeled-images\\images\\0abceabe-f27b-4ea9-862f-616e3bf09fd1.jpg: 480x640 2 objects, 10.2ms\n",
      "image 828/880 D:\\Project\\segmented-images\\unlabeled-images\\images\\0abd957b-02d6-4658-a27f-9efc74ea9387.jpg: 480x640 (no detections), 7.6ms\n",
      "image 829/880 D:\\Project\\segmented-images\\unlabeled-images\\images\\0abe38e5-af9a-413d-941c-67ac8a73d1b5.jpg: 480x640 (no detections), 7.4ms\n",
      "image 830/880 D:\\Project\\segmented-images\\unlabeled-images\\images\\0abe4b1d-0a5c-4bdb-8e5b-f59fc7753e29.jpg: 512x640 (no detections), 8.8ms\n",
      "image 831/880 D:\\Project\\segmented-images\\unlabeled-images\\images\\0abe557b-0f94-4060-b42a-4a0b1386cd50.jpg: 480x640 (no detections), 8.5ms\n",
      "image 832/880 D:\\Project\\segmented-images\\unlabeled-images\\images\\0ac49508-6e88-497a-80bb-d7703d907660.jpg: 384x640 (no detections), 7.7ms\n",
      "image 833/880 D:\\Project\\segmented-images\\unlabeled-images\\images\\0ac52106-35e6-4583-afb5-11e684b7c61e.jpg: 480x640 (no detections), 8.3ms\n",
      "image 834/880 D:\\Project\\segmented-images\\unlabeled-images\\images\\0acc55d4-c546-4b3e-b9aa-dd8c994d7738.jpg: 512x640 (no detections), 8.1ms\n",
      "image 835/880 D:\\Project\\segmented-images\\unlabeled-images\\images\\0accd292-5c94-47d8-8194-ac12f6dbf521.jpg: 512x640 1 object, 12.1ms\n",
      "image 836/880 D:\\Project\\segmented-images\\unlabeled-images\\images\\0accd7a2-38b0-4ee4-81b3-3151983d3cef.jpg: 480x640 1 object, 10.3ms\n",
      "image 837/880 D:\\Project\\segmented-images\\unlabeled-images\\images\\0acd2f19-9d9a-4612-b535-62f2d3e85eab.jpg: 480x640 (no detections), 16.6ms\n",
      "image 838/880 D:\\Project\\segmented-images\\unlabeled-images\\images\\0acd5603-241e-4b8d-afd4-0e737079ded8.jpg: 480x640 (no detections), 11.3ms\n",
      "image 839/880 D:\\Project\\segmented-images\\unlabeled-images\\images\\0adb8ae9-e28b-483f-913f-9b1c8c9b860b.jpg: 480x640 (no detections), 12.8ms\n",
      "image 840/880 D:\\Project\\segmented-images\\unlabeled-images\\images\\0adc301d-e86e-4a1b-a0f0-670c1437f64a.jpg: 512x640 (no detections), 10.9ms\n",
      "image 841/880 D:\\Project\\segmented-images\\unlabeled-images\\images\\0addaf41-2561-492c-9455-5d3ad40aa125.jpg: 512x640 2 objects, 10.9ms\n",
      "image 842/880 D:\\Project\\segmented-images\\unlabeled-images\\images\\0adeecc1-bb47-4c65-9431-7c99326ed432.jpg: 384x640 (no detections), 9.3ms\n",
      "image 843/880 D:\\Project\\segmented-images\\unlabeled-images\\images\\0adfa4dd-84e8-4d21-9c3c-fd9dd178eb41.jpg: 480x640 (no detections), 8.3ms\n",
      "image 844/880 D:\\Project\\segmented-images\\unlabeled-images\\images\\0ae04004-9985-4989-92f2-dcd22943f89b.jpg: 384x640 (no detections), 7.8ms\n",
      "image 845/880 D:\\Project\\segmented-images\\unlabeled-images\\images\\0ae0fc4a-81d4-4c17-9af0-b422a197ab65.jpg: 480x640 (no detections), 11.8ms\n",
      "image 846/880 D:\\Project\\segmented-images\\unlabeled-images\\images\\0af410bf-bf7c-429b-b688-190da1b762f4.jpg: 512x640 (no detections), 8.0ms\n",
      "image 847/880 D:\\Project\\segmented-images\\unlabeled-images\\images\\0af93422-da3a-4b5d-9799-47e7745f39f7.jpg: 480x640 (no detections), 8.2ms\n",
      "image 848/880 D:\\Project\\segmented-images\\unlabeled-images\\images\\0afa4cf6-4613-4330-b590-8fee81c08ea7.jpg: 512x640 (no detections), 8.1ms\n",
      "image 849/880 D:\\Project\\segmented-images\\unlabeled-images\\images\\0afc0689-2f7e-4f79-9aa8-5f4531d9549d.jpg: 512x640 1 object, 8.1ms\n",
      "image 850/880 D:\\Project\\segmented-images\\unlabeled-images\\images\\0afc904e-61f3-4b04-ac13-56310ce51646.jpg: 480x640 1 object, 8.2ms\n",
      "image 851/880 D:\\Project\\segmented-images\\unlabeled-images\\images\\0aff7558-2acd-4e88-8069-831dc7419380.jpg: 512x640 1 object, 9.5ms\n",
      "image 852/880 D:\\Project\\segmented-images\\unlabeled-images\\images\\0b03a1ae-b985-4ffc-9616-0a74568e9c94.jpg: 480x640 (no detections), 8.6ms\n",
      "image 853/880 D:\\Project\\segmented-images\\unlabeled-images\\images\\0b03df7e-a24f-4b5c-b867-29036c99d741.jpg: 512x640 1 object, 10.1ms\n",
      "image 854/880 D:\\Project\\segmented-images\\unlabeled-images\\images\\0b08b7aa-ad22-474d-84b5-45a448150507.jpg: 512x640 (no detections), 8.6ms\n",
      "image 855/880 D:\\Project\\segmented-images\\unlabeled-images\\images\\0b08df09-8f8e-49e5-9b5d-9daedd37760b.jpg: 512x640 (no detections), 8.5ms\n",
      "image 856/880 D:\\Project\\segmented-images\\unlabeled-images\\images\\0b08ec01-337a-4f20-a4d7-43313d0724a6.jpg: 480x640 1 object, 14.1ms\n",
      "image 857/880 D:\\Project\\segmented-images\\unlabeled-images\\images\\0b0a8242-278f-4fff-8fb1-18efc90cedaa.jpg: 512x640 1 object, 8.0ms\n",
      "image 858/880 D:\\Project\\segmented-images\\unlabeled-images\\images\\0b105b85-653b-4a4d-a801-abbbaa2a2ceb.jpg: 512x640 (no detections), 7.7ms\n",
      "image 859/880 D:\\Project\\segmented-images\\unlabeled-images\\images\\0b10baab-fd45-4757-8c0d-abc78143ae93.jpg: 512x640 (no detections), 7.8ms\n",
      "image 860/880 D:\\Project\\segmented-images\\unlabeled-images\\images\\0b10eff5-8f54-4b7f-a9f2-cb944bf341d1.jpg: 512x640 (no detections), 9.8ms\n",
      "image 861/880 D:\\Project\\segmented-images\\unlabeled-images\\images\\0b119c0f-12c7-4cd3-a7ca-d105e712f6db.jpg: 480x640 2 objects, 8.6ms\n",
      "image 862/880 D:\\Project\\segmented-images\\unlabeled-images\\images\\0b122a83-2daf-45c9-870a-bf252af950af.jpg: 512x640 (no detections), 9.7ms\n",
      "image 863/880 D:\\Project\\segmented-images\\unlabeled-images\\images\\0b1fc922-a608-41f8-b102-01cd341870d2.jpg: 512x640 (no detections), 9.6ms\n",
      "image 864/880 D:\\Project\\segmented-images\\unlabeled-images\\images\\0b204e6e-51b2-4983-a9f5-e8d1b312cdb4.jpg: 480x640 (no detections), 7.6ms\n",
      "image 865/880 D:\\Project\\segmented-images\\unlabeled-images\\images\\0b21f6a3-ce63-4d63-82fc-a57270fbdd09.jpg: 384x640 (no detections), 8.7ms\n",
      "image 866/880 D:\\Project\\segmented-images\\unlabeled-images\\images\\0b24da49-ad71-4965-95f9-12a6d0d60906.jpg: 512x640 2 objects, 8.2ms\n",
      "image 867/880 D:\\Project\\segmented-images\\unlabeled-images\\images\\0b255c50-1199-4908-a90d-df7f8f5f3dcc.jpg: 480x640 (no detections), 7.8ms\n",
      "image 868/880 D:\\Project\\segmented-images\\unlabeled-images\\images\\0b283488-39bf-4c7b-b722-13ddac61c688.jpg: 480x640 (no detections), 7.8ms\n",
      "image 869/880 D:\\Project\\segmented-images\\unlabeled-images\\images\\0b293e22-0d4e-446b-aedd-ffde6ed5210e.jpg: 480x640 (no detections), 7.0ms\n",
      "image 870/880 D:\\Project\\segmented-images\\unlabeled-images\\images\\0b2f5316-50b9-41d0-aa4f-15e8a17ed477.jpg: 480x640 3 objects, 8.6ms\n",
      "image 871/880 D:\\Project\\segmented-images\\unlabeled-images\\images\\0b320843-e774-4cf9-b35d-f188603b846a.jpg: 512x640 1 object, 7.8ms\n",
      "image 872/880 D:\\Project\\segmented-images\\unlabeled-images\\images\\0b324d63-34e9-49ed-942d-437c7e197b49.jpg: 480x640 1 object, 9.0ms\n",
      "image 873/880 D:\\Project\\segmented-images\\unlabeled-images\\images\\0b362508-bb19-4121-8446-33e8b2487279.jpg: 512x640 (no detections), 9.8ms\n",
      "image 874/880 D:\\Project\\segmented-images\\unlabeled-images\\images\\0b3ad527-d980-4ba5-b108-03c6d8172ff4.jpg: 512x640 2 objects, 10.1ms\n",
      "image 875/880 D:\\Project\\segmented-images\\unlabeled-images\\images\\0b3adb14-d2bc-40f4-9de8-37fad7621312.jpg: 512x640 (no detections), 15.4ms\n",
      "image 876/880 D:\\Project\\segmented-images\\unlabeled-images\\images\\0b3bb063-8bec-49cd-ac8f-65d594e1fccd.jpg: 480x640 1 object, 19.5ms\n",
      "image 877/880 D:\\Project\\segmented-images\\unlabeled-images\\images\\0b404232-835d-4661-a359-e52a4df1618d.jpg: 480x640 (no detections), 12.2ms\n",
      "image 878/880 D:\\Project\\segmented-images\\unlabeled-images\\images\\0b417739-0e6a-494e-8f04-730055f82649.jpg: 480x640 (no detections), 10.7ms\n",
      "image 879/880 D:\\Project\\segmented-images\\unlabeled-images\\images\\0b438075-7ec4-4267-bc30-e6ddd9c67aa0.jpg: 384x640 (no detections), 9.7ms\n",
      "image 880/880 D:\\Project\\segmented-images\\unlabeled-images\\images\\0b470549-24c3-44fa-a565-bc274905e68b.jpg: 480x640 (no detections), 10.3ms\n",
      "Speed: 1.3ms preprocess, 7.8ms inference, 1.0ms postprocess per image at shape (1, 3, 480, 640)\n",
      "Results saved to \u001b[1mD:\\Project\\segmented-images\\predictions_quick\\preds\u001b[0m\n",
      "Done. Check outputs in: D:\\Project\\segmented-images\\predictions_quick\\preds\n"
     ]
    }
   ],
   "source": [
    "# predict_save_quick.py\n",
    "from ultralytics import YOLO\n",
    "from pathlib import Path\n",
    "\n",
    "# EDIT these paths\n",
    "MODEL_PATH = r\"D:\\Project\\runs\\segment\\train\\weights\\best.pt\"          # your trained model file\n",
    "SOURCE_DIR = r\"D:\\Project\\segmented-images\\unlabeled-images\\images\"        # folder with unlabeled images\n",
    "OUT_DIR = r\"D:\\Project\\segmented-images\\predictions_quick\"   # where results will be saved\n",
    "\n",
    "# params\n",
    "IMGSZ = 640          # inference size (match training size)\n",
    "CONF = 0.25          # confidence threshold\n",
    "DEVICE = 0           # 0 = first GPU, 'cpu' or -1 for CPU\n",
    "\n",
    "model = YOLO(MODEL_PATH)\n",
    "\n",
    "# run prediction and save results automatically\n",
    "# 'save=True' tells ultralytics to write annotated images, masks etc.\n",
    "# 'project' & 'name' control the output folder structure\n",
    "results = model.predict(\n",
    "    source=SOURCE_DIR,\n",
    "    imgsz=IMGSZ,\n",
    "    conf=CONF,\n",
    "    device=DEVICE,\n",
    "    save=True,\n",
    "    project=OUT_DIR,\n",
    "    name=\"preds\",\n",
    "    exist_ok=True\n",
    ")\n",
    "\n",
    "print(f\"Done. Check outputs in: {Path(OUT_DIR) / 'preds'}\")\n"
   ]
  }
 ],
 "metadata": {
  "kernelspec": {
   "display_name": "yolo",
   "language": "python",
   "name": "python3"
  },
  "language_info": {
   "codemirror_mode": {
    "name": "ipython",
    "version": 3
   },
   "file_extension": ".py",
   "mimetype": "text/x-python",
   "name": "python",
   "nbconvert_exporter": "python",
   "pygments_lexer": "ipython3",
   "version": "3.12.11"
  }
 },
 "nbformat": 4,
 "nbformat_minor": 5
}
